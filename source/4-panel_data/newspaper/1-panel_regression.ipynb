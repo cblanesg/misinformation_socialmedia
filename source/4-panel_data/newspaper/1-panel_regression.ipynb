{
 "cells": [
  {
   "cell_type": "code",
   "execution_count": 24,
   "metadata": {},
   "outputs": [],
   "source": [
    "from os import listdir\n",
    "import uuid\n",
    "from datetime import date\n",
    "import datetime\n",
    "import numpy as np\n",
    "import re\n",
    "import pandas as pd\n",
    "from tqdm import tqdm\n",
    "from datetime import timedelta"
   ]
  },
  {
   "cell_type": "code",
   "execution_count": 6,
   "metadata": {},
   "outputs": [],
   "source": [
    "import warnings\n",
    "warnings.filterwarnings(\"ignore\")"
   ]
  },
  {
   "cell_type": "markdown",
   "metadata": {},
   "source": [
    "## Functions"
   ]
  },
  {
   "cell_type": "code",
   "execution_count": 2,
   "metadata": {},
   "outputs": [],
   "source": [
    "def load_panel():\n",
    "    social = pd.read_excel('/Users/cblanesg/misinformation_socialmedia/data/4-panel_data/newspapers/panel_newspapers.xlsx')\n",
    "    return(social)"
   ]
  },
  {
   "cell_type": "markdown",
   "metadata": {},
   "source": [
    "## Load Data"
   ]
  },
  {
   "cell_type": "code",
   "execution_count": 4,
   "metadata": {},
   "outputs": [],
   "source": [
    "panel = load_panel()"
   ]
  },
  {
   "cell_type": "markdown",
   "metadata": {},
   "source": [
    "## Apply Functions"
   ]
  },
  {
   "cell_type": "code",
   "execution_count": 7,
   "metadata": {},
   "outputs": [],
   "source": [
    "## Prepare initial data\n",
    "data = panel[panel['label_desinformacion'] != 'misleading']\n",
    "data = data[~data['date_factcheck_facebook_clean'].isna()]\n",
    "data['treatment'] = np.where(data['n_days_since_factcheck'] < 0, 0, 1)\n",
    "data = data[['id_post', 'n_days_since_publicacion', 'treatment', \n",
    "             'date_factcheck_facebook_clean', 'n_days_since_factcheck', \n",
    "         'likes_facebook', 'shares_facebook', 'reactions_facebook', 'comments_facebook']]"
   ]
  },
  {
   "cell_type": "code",
   "execution_count": 15,
   "metadata": {},
   "outputs": [
    {
     "name": "stderr",
     "output_type": "stream",
     "text": [
      "100%|██████████| 16001/16001 [02:54<00:00, 91.79it/s]\n"
     ]
    }
   ],
   "source": [
    "panel_structure = []\n",
    "for i in tqdm(data.id_post.unique()):\n",
    "    id_data = data[data['id_post'] == i]\n",
    "    df = pd.DataFrame({'n_days_since_factcheck':list(range(-16, 16))})\n",
    "    df['id_post'] = i\n",
    "    panel_structure.append(df)"
   ]
  },
  {
   "cell_type": "code",
   "execution_count": 16,
   "metadata": {},
   "outputs": [],
   "source": [
    "df_structure = pd.concat(panel_structure)"
   ]
  },
  {
   "cell_type": "code",
   "execution_count": 36,
   "metadata": {},
   "outputs": [],
   "source": [
    "input_intrapolation_temp  = pd.merge(df_structure, \n",
    "        data[['id_post', \n",
    "              'n_days_since_factcheck', \n",
    "              'likes_facebook', \n",
    "              'comments_facebook',\n",
    "              'shares_facebook',\n",
    "              'reactions_facebook']], \n",
    "        on = ['id_post', 'n_days_since_factcheck'], \n",
    "        how = 'outer')"
   ]
  },
  {
   "cell_type": "code",
   "execution_count": 37,
   "metadata": {},
   "outputs": [],
   "source": [
    "input_intrapolation_temp = pd.merge(input_intrapolation_temp, \n",
    "        panel[['id_post', \n",
    "              'date_factcheck_facebook_clean', \n",
    "              'date_post_clean']].drop_duplicates(), \n",
    "        on = 'id_post', \n",
    "        how = 'left')"
   ]
  },
  {
   "cell_type": "code",
   "execution_count": 38,
   "metadata": {},
   "outputs": [],
   "source": [
    "input_intrapolation_temp['date_timestep'] = input_intrapolation_temp.apply(lambda x: \n",
    "                                                                          x['date_factcheck_facebook_clean'] + timedelta(x['n_days_since_factcheck']) , axis = 1)"
   ]
  },
  {
   "cell_type": "code",
   "execution_count": 39,
   "metadata": {},
   "outputs": [],
   "source": [
    "input_intrapolation_temp['n_days_since_publication'] = input_intrapolation_temp.apply(lambda x: \n",
    "                                                                          (x['date_timestep'] - x['date_post_clean']).days, axis = 1)"
   ]
  },
  {
   "cell_type": "code",
   "execution_count": 41,
   "metadata": {},
   "outputs": [],
   "source": [
    "input_intrapolation_temp = input_intrapolation_temp[input_intrapolation_temp['n_days_since_publication'] >= 0] "
   ]
  },
  {
   "cell_type": "code",
   "execution_count": 42,
   "metadata": {},
   "outputs": [],
   "source": [
    "input_intrapolation_temp = input_intrapolation_temp[['id_post', \n",
    "                                                     'date_factcheck_facebook_clean', \n",
    "                                                     'date_post_clean', \n",
    "                                                     'date_timestep', \n",
    "                                                     'n_days_since_factcheck',\n",
    "                                                     'n_days_since_publication', \n",
    "                                                     'likes_facebook', \n",
    "                                                     'comments_facebook',\n",
    "                                                     'shares_facebook',\n",
    "                                                     'reactions_facebook']].rename(columns = {'date_factcheck_facebook_clean':'date_factcheck', \n",
    "         'date_post_clean':'date_desinformacion'})"
   ]
  },
  {
   "cell_type": "code",
   "execution_count": 43,
   "metadata": {},
   "outputs": [],
   "source": [
    "input_intrapolation_temp.to_excel('../../../data/4-panel_data/newspapers/input_intrapolation.xlsx')"
   ]
  },
  {
   "cell_type": "code",
   "execution_count": null,
   "metadata": {},
   "outputs": [],
   "source": []
  }
 ],
 "metadata": {
  "kernelspec": {
   "display_name": "Python 3",
   "language": "python",
   "name": "python3"
  },
  "language_info": {
   "codemirror_mode": {
    "name": "ipython",
    "version": 3
   },
   "file_extension": ".py",
   "mimetype": "text/x-python",
   "name": "python",
   "nbconvert_exporter": "python",
   "pygments_lexer": "ipython3",
   "version": "3.8.3"
  }
 },
 "nbformat": 4,
 "nbformat_minor": 4
}
