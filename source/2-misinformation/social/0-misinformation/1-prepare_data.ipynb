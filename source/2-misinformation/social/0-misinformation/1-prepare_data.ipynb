{
 "cells": [
  {
   "cell_type": "code",
   "execution_count": 1,
   "metadata": {},
   "outputs": [],
   "source": [
    "import json\n",
    "import pandas as pd"
   ]
  },
  {
   "cell_type": "markdown",
   "metadata": {},
   "source": [
    "## functions"
   ]
  },
  {
   "cell_type": "code",
   "execution_count": 29,
   "metadata": {},
   "outputs": [],
   "source": [
    "def load_africa_data():\n",
    "    africa = pd.read_excel('/Users/cblanesg/cam.blanes Dropbox/Camila Blanes/Bolivia_Project/data/04-fakenews-Repository/06-virality/africa/social/0-prepare_data/facebook_africa.xlsx')[['clean_link', \n",
    "    'id_post', \n",
    "    'id_desinformacion', \n",
    "    'Verdict']].rename(columns = {'clean_link':'link_desinformacion'})\n",
    "    africa['link_post'] = africa.link_desinformacion\n",
    "    africa['label_desinformacion'] = africa['Verdict'].apply(lambda x: clean_label(x))\n",
    "    return(africa)"
   ]
  },
  {
   "cell_type": "code",
   "execution_count": 22,
   "metadata": {},
   "outputs": [],
   "source": [
    "def clean_label(x):\n",
    "    if x in ['Incorrect','Understated, exaggerated and incorrect',\n",
    "            'Seven incorrect, three correct, three unproven and one mostly correct']:\n",
    "        return('fake')\n",
    "    elif x in ['Mostly correct',\n",
    "               'A range of verdicts ranging from misleading to unproven and correct',\n",
    "              'Checked', 'Misleading']:\n",
    "        return('misleading')\n",
    "    else:\n",
    "        return('true')"
   ]
  },
  {
   "cell_type": "code",
   "execution_count": 32,
   "metadata": {},
   "outputs": [],
   "source": [
    "def load_social_data():\n",
    "    social = pd.read_excel('/Users/cblanesg/cam.blanes Dropbox/Camila Blanes/Bolivia_Project/data/04-fakenews-Repository/06-virality/social/2-id_data/virality_fake_posts.xlsx')\n",
    "\n",
    "    social_misinformation = social[['id_post', 'id_desinformacion', 'link_desinformacion', 'link_crowdtangle', \n",
    "       'label_desinformacion']].rename(columns = {'link_crowdtangle':'link_post'})\n",
    "    \n",
    "    africa = load_africa_data()\n",
    "    africa = africa[list(social_misinformation.columns)]\n",
    "    return(pd.concat([social_misinformation, africa]))"
   ]
  },
  {
   "cell_type": "markdown",
   "metadata": {},
   "source": [
    "## Apply functions"
   ]
  },
  {
   "cell_type": "code",
   "execution_count": 33,
   "metadata": {},
   "outputs": [],
   "source": [
    "misinformation = load_social_data()"
   ]
  },
  {
   "cell_type": "code",
   "execution_count": 36,
   "metadata": {
    "scrolled": true
   },
   "outputs": [],
   "source": [
    "misinformation.to_json('../../../../data/2-misinformation/social/0-misinformation/social_misinformation.json', orient=\"records\")"
   ]
  }
 ],
 "metadata": {
  "kernelspec": {
   "display_name": "Python 3",
   "language": "python",
   "name": "python3"
  },
  "language_info": {
   "codemirror_mode": {
    "name": "ipython",
    "version": 3
   },
   "file_extension": ".py",
   "mimetype": "text/x-python",
   "name": "python",
   "nbconvert_exporter": "python",
   "pygments_lexer": "ipython3",
   "version": "3.8.3"
  }
 },
 "nbformat": 4,
 "nbformat_minor": 4
}
