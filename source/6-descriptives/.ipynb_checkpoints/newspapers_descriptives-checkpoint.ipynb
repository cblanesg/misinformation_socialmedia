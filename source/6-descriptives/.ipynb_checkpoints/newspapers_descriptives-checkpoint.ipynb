{
 "cells": [
  {
   "cell_type": "code",
   "execution_count": 1,
   "metadata": {},
   "outputs": [],
   "source": [
    "import pandas as pd\n",
    "from os import listdir\n",
    "import uuid\n",
    "from datetime import date\n",
    "import datetime\n",
    "import numpy as np\n",
    "import re\n",
    "\n",
    "import warnings\n",
    "warnings.filterwarnings(\"ignore\")"
   ]
  },
  {
   "cell_type": "markdown",
   "metadata": {},
   "source": [
    "## functions"
   ]
  },
  {
   "cell_type": "code",
   "execution_count": 2,
   "metadata": {},
   "outputs": [],
   "source": [
    "def load_africa_data():\n",
    "    africa = pd.read_excel('/Users/cblanesg/cam.blanes Dropbox/Camila Blanes/Bolivia_Project/data/04-fakenews-Repository/06-virality/africa/input_panel_africa.xlsx')\n",
    "    links = pd.read_excel('/Users/cblanesg/cam.blanes Dropbox/Camila Blanes/Bolivia_Project/data/04-fakenews-Repository/06-virality/africa/fact_checks/fact_checks_clean.xlsx')[['Link', \n",
    "'id_desinformacion']].drop_duplicates().rename(columns = {'Link':'link_desinformacion'})\n",
    "    all_data = pd.merge(left = africa, \n",
    "            right = links, \n",
    "            on = 'id_desinformacion', \n",
    "            how = 'left')\n",
    "    return(all_data)\n",
    "\n",
    "def load_factchecks():\n",
    "    factchecks = pd.read_excel('/Users/cblanesg/misinformation_socialmedia/data/1-factchecks/2-clean_factchecks/data_factchecks.xlsx').drop('Unnamed: 0', axis = 1)\n",
    "    return(factchecks)\n",
    "\n",
    "def load_misinformation_newspapers():\n",
    "    path = '/Users/cblanesg/cam.blanes Dropbox/Camila Blanes/Bolivia_Project/data/04-fakenews-Repository/04-fake_news_dataset/newspapers/Fact-Checkers/'\n",
    "    data = []\n",
    "    for i in listdir(path):\n",
    "        try:\n",
    "            data.append(pd.read_excel(path + i))\n",
    "        except:\n",
    "            pass\n",
    "        \n",
    "    misinformation = pd.concat(data)\n",
    "    misinformation = misinformation[[ 'id_desinformacion', 'fecha_desinformacion', \n",
    "               'link_desinformacion',  'label_desinformacion']].drop_duplicates()\n",
    "    \n",
    "    ## include africa\n",
    "    africa = load_africa_data()\n",
    "    africa['fecha_desinformacion'] = None\n",
    "    africa = africa[list(misinformation.columns)]\n",
    "    \n",
    "    all_data = pd.concat([misinformation, africa])\n",
    "    all_data = all_data[~all_data['link_desinformacion'].isna()]\n",
    "    \n",
    "    factchecks = load_factchecks()\n",
    "    \n",
    "    all_data = pd.merge(left = all_data, \n",
    "            right = factchecks, \n",
    "            on = 'id_desinformacion', \n",
    "            how = 'left')\n",
    "    \n",
    "    all_data = all_data[['organizacion', 'pais', 'link_chequeo', 'id_factcheck','id_desinformacion',\n",
    "                         'titulo_chequeo', 'facebook_partnership_date', 'facebook_partnership', \n",
    "                         'link_post_factcheck', 'date_factcheck_facebook', 'fecha_chequeo',\n",
    "                        'label_desinformacion', \n",
    "                        'link_desinformacion', \n",
    "                         'fecha_desinformacion', \n",
    "                        ]]\n",
    "    \n",
    "    return(all_data)\n",
    "\n",
    "def load_panel():\n",
    "    social = pd.read_excel('/Users/cblanesg/misinformation_socialmedia/data/4-panel_data/newspapers/panel_newspapers.xlsx')\n",
    "    return(social)"
   ]
  },
  {
   "cell_type": "code",
   "execution_count": 3,
   "metadata": {},
   "outputs": [],
   "source": [
    "def missing_factchecks(panel):\n",
    "    panel = panel[['id_desinformacion', 'date_factcheck_facebook_clean']].drop_duplicates()\n",
    "    panel['missing_factcheck'] = np.where(pd.isna(panel['date_factcheck_facebook_clean']), 1, 0)\n",
    "    panel_counts = panel.groupby(['missing_factcheck']).count()\n",
    "    return(panel_counts)"
   ]
  },
  {
   "cell_type": "code",
   "execution_count": 29,
   "metadata": {},
   "outputs": [],
   "source": [
    "def timeseries(panel):\n",
    "    ## data of factcheck\n",
    "    panel_fc = panel[['id_post', 'date_factcheck_facebook_clean']].drop_duplicates()\n",
    "    panel_fc['factcheck'] = np.where(pd.isna(panel_fc['date_factcheck_facebook_clean']), 0, 1)\n",
    "    panel_fc = panel_fc[['factcheck', 'id_post']]\n",
    "    \n",
    "    ## data of time series\n",
    "    #panel = panel[abs(panel['n_days_since_factcheck']) <= 15]\n",
    "    \n",
    "    panel = panel[['date_timestep_clean', 'id_post']]\n",
    "    panel_counts = panel.groupby(['id_post']).count().reset_index()\n",
    "    \n",
    "    panel_counts['dummy_timeseries'] = np.where(panel_counts['date_timestep_clean'] > 1, 1, 0)\n",
    "    panel_ts = panel_counts[['id_post', 'dummy_timeseries']]  \n",
    "\n",
    "    all_data = pd.merge(left = panel_fc, \n",
    "            right = panel_ts, \n",
    "            on = 'id_post', \n",
    "            how = 'left')\n",
    "    \n",
    "    counts = all_data.groupby(['dummy_timeseries', 'factcheck']).count()\n",
    "    \n",
    "    return(counts)\n",
    "\n",
    "\n"
   ]
  },
  {
   "cell_type": "markdown",
   "metadata": {},
   "source": [
    "## Load data"
   ]
  },
  {
   "cell_type": "code",
   "execution_count": 6,
   "metadata": {},
   "outputs": [],
   "source": [
    "newspapers = load_misinformation_newspapers()"
   ]
  },
  {
   "cell_type": "code",
   "execution_count": 20,
   "metadata": {
    "scrolled": true
   },
   "outputs": [],
   "source": [
    "panel = load_panel()"
   ]
  },
  {
   "cell_type": "code",
   "execution_count": null,
   "metadata": {},
   "outputs": [],
   "source": [
    "panel.head()"
   ]
  },
  {
   "cell_type": "code",
   "execution_count": 30,
   "metadata": {},
   "outputs": [
    {
     "data": {
      "text/html": [
       "<div>\n",
       "<style scoped>\n",
       "    .dataframe tbody tr th:only-of-type {\n",
       "        vertical-align: middle;\n",
       "    }\n",
       "\n",
       "    .dataframe tbody tr th {\n",
       "        vertical-align: top;\n",
       "    }\n",
       "\n",
       "    .dataframe thead th {\n",
       "        text-align: right;\n",
       "    }\n",
       "</style>\n",
       "<table border=\"1\" class=\"dataframe\">\n",
       "  <thead>\n",
       "    <tr style=\"text-align: right;\">\n",
       "      <th></th>\n",
       "      <th></th>\n",
       "      <th>id_post</th>\n",
       "    </tr>\n",
       "    <tr>\n",
       "      <th>dummy_timeseries</th>\n",
       "      <th>factcheck</th>\n",
       "      <th></th>\n",
       "    </tr>\n",
       "  </thead>\n",
       "  <tbody>\n",
       "    <tr>\n",
       "      <th>0.0</th>\n",
       "      <th>1</th>\n",
       "      <td>296</td>\n",
       "    </tr>\n",
       "    <tr>\n",
       "      <th>1.0</th>\n",
       "      <th>1</th>\n",
       "      <td>7693</td>\n",
       "    </tr>\n",
       "  </tbody>\n",
       "</table>\n",
       "</div>"
      ],
      "text/plain": [
       "                            id_post\n",
       "dummy_timeseries factcheck         \n",
       "0.0              1              296\n",
       "1.0              1             7693"
      ]
     },
     "execution_count": 30,
     "metadata": {},
     "output_type": "execute_result"
    }
   ],
   "source": [
    "timeseries(panel)"
   ]
  },
  {
   "cell_type": "code",
   "execution_count": 22,
   "metadata": {},
   "outputs": [
    {
     "data": {
      "text/plain": [
       "40131"
      ]
     },
     "execution_count": 22,
     "metadata": {},
     "output_type": "execute_result"
    }
   ],
   "source": [
    "len(panel.id_post.unique())"
   ]
  },
  {
   "cell_type": "code",
   "execution_count": 18,
   "metadata": {},
   "outputs": [
    {
     "data": {
      "text/html": [
       "<div>\n",
       "<style scoped>\n",
       "    .dataframe tbody tr th:only-of-type {\n",
       "        vertical-align: middle;\n",
       "    }\n",
       "\n",
       "    .dataframe tbody tr th {\n",
       "        vertical-align: top;\n",
       "    }\n",
       "\n",
       "    .dataframe thead th {\n",
       "        text-align: right;\n",
       "    }\n",
       "</style>\n",
       "<table border=\"1\" class=\"dataframe\">\n",
       "  <thead>\n",
       "    <tr style=\"text-align: right;\">\n",
       "      <th></th>\n",
       "      <th>id_factcheck</th>\n",
       "      <th>id_desinformacion</th>\n",
       "    </tr>\n",
       "  </thead>\n",
       "  <tbody>\n",
       "    <tr>\n",
       "      <th>0</th>\n",
       "      <td>07173750-ec6f-3ec1-a787-56648aaf38b5</td>\n",
       "      <td>a5288199-54c2-30e4-891f-7b079728d229</td>\n",
       "    </tr>\n",
       "    <tr>\n",
       "      <th>1</th>\n",
       "      <td>bff23935-cc46-34c5-8aec-47eaa46d6e3d</td>\n",
       "      <td>598e130f-d832-3f18-88c1-9cad7d1db74f</td>\n",
       "    </tr>\n",
       "    <tr>\n",
       "      <th>2</th>\n",
       "      <td>9396ca99-802e-3a27-949d-df0326ae85ef</td>\n",
       "      <td>af15918a-1a06-38c0-bedc-a9db9c49fa22</td>\n",
       "    </tr>\n",
       "    <tr>\n",
       "      <th>3</th>\n",
       "      <td>91fb0721-42c2-3b3f-95ec-09d989d45d7c</td>\n",
       "      <td>918f0972-89f1-3738-8ee2-1a6e47436eac</td>\n",
       "    </tr>\n",
       "    <tr>\n",
       "      <th>4</th>\n",
       "      <td>323b1921-06ed-3254-8b5e-fb79ab00b7cf</td>\n",
       "      <td>4c10c596-f3c7-3f9c-a0fd-c50026eb9703</td>\n",
       "    </tr>\n",
       "    <tr>\n",
       "      <th>...</th>\n",
       "      <td>...</td>\n",
       "      <td>...</td>\n",
       "    </tr>\n",
       "    <tr>\n",
       "      <th>2186</th>\n",
       "      <td>68cfebae-1201-388f-9a08-3e128cabefd4</td>\n",
       "      <td>3f567287-93f1-3d2b-8ffd-25d198b17ab8</td>\n",
       "    </tr>\n",
       "    <tr>\n",
       "      <th>2187</th>\n",
       "      <td>49d7af65-82b9-3493-a672-ed225bac8b5d</td>\n",
       "      <td>21b05bc4-4a90-3c8a-9abe-4d687757c4f6</td>\n",
       "    </tr>\n",
       "    <tr>\n",
       "      <th>2188</th>\n",
       "      <td>5ed4a06f-f695-3b6c-9ebe-af5cffd5b05d</td>\n",
       "      <td>0f7906d0-f6e4-3de6-806c-3f5ce130322b</td>\n",
       "    </tr>\n",
       "    <tr>\n",
       "      <th>2189</th>\n",
       "      <td>5c1725d5-3f40-3277-9c1b-6bfc27d21bb9</td>\n",
       "      <td>8715caa4-2a02-3987-ab98-0c8e2a934736</td>\n",
       "    </tr>\n",
       "    <tr>\n",
       "      <th>2190</th>\n",
       "      <td>352681e4-dff5-3dea-b07a-7a5c75875778</td>\n",
       "      <td>bf32f688-5513-3990-b1ff-4ca22c216b8e</td>\n",
       "    </tr>\n",
       "  </tbody>\n",
       "</table>\n",
       "<p>2140 rows × 2 columns</p>\n",
       "</div>"
      ],
      "text/plain": [
       "                              id_factcheck  \\\n",
       "0     07173750-ec6f-3ec1-a787-56648aaf38b5   \n",
       "1     bff23935-cc46-34c5-8aec-47eaa46d6e3d   \n",
       "2     9396ca99-802e-3a27-949d-df0326ae85ef   \n",
       "3     91fb0721-42c2-3b3f-95ec-09d989d45d7c   \n",
       "4     323b1921-06ed-3254-8b5e-fb79ab00b7cf   \n",
       "...                                    ...   \n",
       "2186  68cfebae-1201-388f-9a08-3e128cabefd4   \n",
       "2187  49d7af65-82b9-3493-a672-ed225bac8b5d   \n",
       "2188  5ed4a06f-f695-3b6c-9ebe-af5cffd5b05d   \n",
       "2189  5c1725d5-3f40-3277-9c1b-6bfc27d21bb9   \n",
       "2190  352681e4-dff5-3dea-b07a-7a5c75875778   \n",
       "\n",
       "                         id_desinformacion  \n",
       "0     a5288199-54c2-30e4-891f-7b079728d229  \n",
       "1     598e130f-d832-3f18-88c1-9cad7d1db74f  \n",
       "2     af15918a-1a06-38c0-bedc-a9db9c49fa22  \n",
       "3     918f0972-89f1-3738-8ee2-1a6e47436eac  \n",
       "4     4c10c596-f3c7-3f9c-a0fd-c50026eb9703  \n",
       "...                                    ...  \n",
       "2186  3f567287-93f1-3d2b-8ffd-25d198b17ab8  \n",
       "2187  21b05bc4-4a90-3c8a-9abe-4d687757c4f6  \n",
       "2188  0f7906d0-f6e4-3de6-806c-3f5ce130322b  \n",
       "2189  8715caa4-2a02-3987-ab98-0c8e2a934736  \n",
       "2190  bf32f688-5513-3990-b1ff-4ca22c216b8e  \n",
       "\n",
       "[2140 rows x 2 columns]"
      ]
     },
     "execution_count": 18,
     "metadata": {},
     "output_type": "execute_result"
    }
   ],
   "source": [
    "newspapers[['id_factcheck', 'id_desinformacion']].dropna().drop_duplicates()"
   ]
  },
  {
   "cell_type": "code",
   "execution_count": null,
   "metadata": {},
   "outputs": [],
   "source": []
  },
  {
   "cell_type": "code",
   "execution_count": null,
   "metadata": {},
   "outputs": [],
   "source": []
  }
 ],
 "metadata": {
  "kernelspec": {
   "display_name": "Python 3",
   "language": "python",
   "name": "python3"
  },
  "language_info": {
   "codemirror_mode": {
    "name": "ipython",
    "version": 3
   },
   "file_extension": ".py",
   "mimetype": "text/x-python",
   "name": "python",
   "nbconvert_exporter": "python",
   "pygments_lexer": "ipython3",
   "version": "3.8.3"
  }
 },
 "nbformat": 4,
 "nbformat_minor": 4
}
