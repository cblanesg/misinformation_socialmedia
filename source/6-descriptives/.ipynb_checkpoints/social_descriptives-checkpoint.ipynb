{
 "cells": [
  {
   "cell_type": "code",
   "execution_count": 15,
   "metadata": {},
   "outputs": [],
   "source": [
    "import pandas as pd\n",
    "import json\n",
    "import numpy as np"
   ]
  },
  {
   "cell_type": "markdown",
   "metadata": {},
   "source": [
    "## functions"
   ]
  },
  {
   "cell_type": "code",
   "execution_count": 9,
   "metadata": {},
   "outputs": [],
   "source": [
    "def load_africa_data():\n",
    "    africa = pd.read_excel('/Users/cblanesg/cam.blanes Dropbox/Camila Blanes/Bolivia_Project/data/04-fakenews-Repository/06-virality/africa/social/0-prepare_data/facebook_africa.xlsx')[['clean_link', \n",
    "    'id_post', \n",
    "    'id_desinformacion', \n",
    "    'Verdict']].rename(columns = {'clean_link':'link_desinformacion'})\n",
    "    africa['link_post'] = africa.link_desinformacion\n",
    "    africa['label_desinformacion'] = africa['Verdict'].apply(lambda x: clean_label(x))\n",
    "    return(africa)\n",
    "\n",
    "def clean_label(x):\n",
    "    if x in ['Incorrect','Understated, exaggerated and incorrect',\n",
    "            'Seven incorrect, three correct, three unproven and one mostly correct']:\n",
    "        return('fake')\n",
    "    elif x in ['Mostly correct',\n",
    "               'A range of verdicts ranging from misleading to unproven and correct',\n",
    "              'Checked', 'Misleading']:\n",
    "        return('misleading')\n",
    "    else:\n",
    "        return('true')\n",
    "\n",
    "def load_panel():\n",
    "    social = pd.read_excel('/Users/cblanesg/misinformation_socialmedia/data/4-panel_data/social/panel_social.xlsx')\n",
    "    return(social)"
   ]
  },
  {
   "cell_type": "code",
   "execution_count": 30,
   "metadata": {},
   "outputs": [],
   "source": [
    "def missing_factchecks(panel):\n",
    "    panel = panel[['id_desinformacion', 'date_factcheck_facebook_clean']].drop_duplicates()\n",
    "    panel['missing_factcheck'] = np.where(pd.isna(panel['date_factcheck_facebook_clean']), 1, 0)\n",
    "    panel_counts = panel.groupby(['missing_factcheck']).count()\n",
    "    return(panel_counts)"
   ]
  },
  {
   "cell_type": "code",
   "execution_count": 62,
   "metadata": {},
   "outputs": [],
   "source": [
    "def timeseries(panel):\n",
    "    ## data of factcheck\n",
    "    panel_fc = panel[['id_desinformacion', 'date_factcheck_facebook_clean']].drop_duplicates()\n",
    "    panel_fc['factcheck'] = np.where(pd.isna(panel_fc['date_factcheck_facebook_clean']), 0, 1)\n",
    "    panel_fc = panel_fc[['factcheck', 'id_desinformacion']]\n",
    "    \n",
    "    ## data of time series\n",
    "    panel = panel[abs(panel['n_days_since_factcheck']) <= 15]\n",
    "    \n",
    "    panel = panel[['date_timestep_clean', 'id_desinformacion']]\n",
    "    panel_counts = panel.groupby(['id_desinformacion']).count().reset_index()\n",
    "    \n",
    "    panel_counts['dummy_timeseries'] = np.where(panel_counts['date_timestep_clean'] > 1, 1, 0)\n",
    "    panel_ts = panel_counts[['id_desinformacion', 'dummy_timeseries']]  \n",
    "\n",
    "    all_data = pd.merge(left = panel_fc, \n",
    "            right = panel_ts, \n",
    "            on = 'id_desinformacion', \n",
    "            how = 'left')\n",
    "    \n",
    "    counts = all_data.groupby(['dummy_timeseries', 'factcheck']).count()\n",
    "    \n",
    "    return(counts)\n",
    "\n",
    "\n"
   ]
  },
  {
   "cell_type": "code",
   "execution_count": 60,
   "metadata": {
    "scrolled": true
   },
   "outputs": [
    {
     "data": {
      "text/html": [
       "<div>\n",
       "<style scoped>\n",
       "    .dataframe tbody tr th:only-of-type {\n",
       "        vertical-align: middle;\n",
       "    }\n",
       "\n",
       "    .dataframe tbody tr th {\n",
       "        vertical-align: top;\n",
       "    }\n",
       "\n",
       "    .dataframe thead th {\n",
       "        text-align: right;\n",
       "    }\n",
       "</style>\n",
       "<table border=\"1\" class=\"dataframe\">\n",
       "  <thead>\n",
       "    <tr style=\"text-align: right;\">\n",
       "      <th></th>\n",
       "      <th></th>\n",
       "      <th>id_desinformacion</th>\n",
       "    </tr>\n",
       "    <tr>\n",
       "      <th>dummy_timeseries</th>\n",
       "      <th>factcheck</th>\n",
       "      <th></th>\n",
       "    </tr>\n",
       "  </thead>\n",
       "  <tbody>\n",
       "    <tr>\n",
       "      <th rowspan=\"2\" valign=\"top\">0</th>\n",
       "      <th>0</th>\n",
       "      <td>78</td>\n",
       "    </tr>\n",
       "    <tr>\n",
       "      <th>1</th>\n",
       "      <td>128</td>\n",
       "    </tr>\n",
       "    <tr>\n",
       "      <th rowspan=\"2\" valign=\"top\">1</th>\n",
       "      <th>0</th>\n",
       "      <td>46</td>\n",
       "    </tr>\n",
       "    <tr>\n",
       "      <th>1</th>\n",
       "      <td>87</td>\n",
       "    </tr>\n",
       "  </tbody>\n",
       "</table>\n",
       "</div>"
      ],
      "text/plain": [
       "                            id_desinformacion\n",
       "dummy_timeseries factcheck                   \n",
       "0                0                         78\n",
       "                 1                        128\n",
       "1                0                         46\n",
       "                 1                         87"
      ]
     },
     "execution_count": 60,
     "metadata": {},
     "output_type": "execute_result"
    }
   ],
   "source": [
    "timeseries(social)"
   ]
  },
  {
   "cell_type": "code",
   "execution_count": 53,
   "metadata": {},
   "outputs": [
    {
     "data": {
      "text/html": [
       "<div>\n",
       "<style scoped>\n",
       "    .dataframe tbody tr th:only-of-type {\n",
       "        vertical-align: middle;\n",
       "    }\n",
       "\n",
       "    .dataframe tbody tr th {\n",
       "        vertical-align: top;\n",
       "    }\n",
       "\n",
       "    .dataframe thead th {\n",
       "        text-align: right;\n",
       "    }\n",
       "</style>\n",
       "<table border=\"1\" class=\"dataframe\">\n",
       "  <thead>\n",
       "    <tr style=\"text-align: right;\">\n",
       "      <th></th>\n",
       "      <th>id_desinformacion</th>\n",
       "      <th>date_timestep_clean</th>\n",
       "      <th>dummy_timeseries</th>\n",
       "    </tr>\n",
       "  </thead>\n",
       "  <tbody>\n",
       "    <tr>\n",
       "      <th>0</th>\n",
       "      <td>01b9fab2-a803-3e87-81ae-dca6e446bc10</td>\n",
       "      <td>18</td>\n",
       "      <td>1</td>\n",
       "    </tr>\n",
       "    <tr>\n",
       "      <th>1</th>\n",
       "      <td>01c4f4c8-0687-336c-8e6e-d2e6e14d5dc6</td>\n",
       "      <td>1</td>\n",
       "      <td>0</td>\n",
       "    </tr>\n",
       "    <tr>\n",
       "      <th>2</th>\n",
       "      <td>039d77f9-4641-32ab-a5b4-6eaee8caf7f6</td>\n",
       "      <td>1</td>\n",
       "      <td>0</td>\n",
       "    </tr>\n",
       "    <tr>\n",
       "      <th>3</th>\n",
       "      <td>04661c46-d8b6-3332-8e52-f71efacaf296</td>\n",
       "      <td>1</td>\n",
       "      <td>0</td>\n",
       "    </tr>\n",
       "    <tr>\n",
       "      <th>4</th>\n",
       "      <td>04b60d11-a946-3071-95a1-5f5c2352cfb2</td>\n",
       "      <td>1</td>\n",
       "      <td>0</td>\n",
       "    </tr>\n",
       "    <tr>\n",
       "      <th>...</th>\n",
       "      <td>...</td>\n",
       "      <td>...</td>\n",
       "      <td>...</td>\n",
       "    </tr>\n",
       "    <tr>\n",
       "      <th>334</th>\n",
       "      <td>fd67b2c7-921d-3d1a-94b0-29ee480d7462</td>\n",
       "      <td>1</td>\n",
       "      <td>0</td>\n",
       "    </tr>\n",
       "    <tr>\n",
       "      <th>335</th>\n",
       "      <td>fe1d5241-c16f-3c3f-8d4c-8760fb865124</td>\n",
       "      <td>1</td>\n",
       "      <td>0</td>\n",
       "    </tr>\n",
       "    <tr>\n",
       "      <th>336</th>\n",
       "      <td>fe77a823-f615-39dc-87a1-a9170dc0a0f0</td>\n",
       "      <td>19</td>\n",
       "      <td>1</td>\n",
       "    </tr>\n",
       "    <tr>\n",
       "      <th>337</th>\n",
       "      <td>ff1fc678-a5fc-46a3-973d-aaf9a4d422b7</td>\n",
       "      <td>1</td>\n",
       "      <td>0</td>\n",
       "    </tr>\n",
       "    <tr>\n",
       "      <th>338</th>\n",
       "      <td>ff3feb3a-d3d7-3ed1-bfeb-bfb92832695e</td>\n",
       "      <td>1</td>\n",
       "      <td>0</td>\n",
       "    </tr>\n",
       "  </tbody>\n",
       "</table>\n",
       "<p>339 rows × 3 columns</p>\n",
       "</div>"
      ],
      "text/plain": [
       "                        id_desinformacion  date_timestep_clean  \\\n",
       "0    01b9fab2-a803-3e87-81ae-dca6e446bc10                   18   \n",
       "1    01c4f4c8-0687-336c-8e6e-d2e6e14d5dc6                    1   \n",
       "2    039d77f9-4641-32ab-a5b4-6eaee8caf7f6                    1   \n",
       "3    04661c46-d8b6-3332-8e52-f71efacaf296                    1   \n",
       "4    04b60d11-a946-3071-95a1-5f5c2352cfb2                    1   \n",
       "..                                    ...                  ...   \n",
       "334  fd67b2c7-921d-3d1a-94b0-29ee480d7462                    1   \n",
       "335  fe1d5241-c16f-3c3f-8d4c-8760fb865124                    1   \n",
       "336  fe77a823-f615-39dc-87a1-a9170dc0a0f0                   19   \n",
       "337  ff1fc678-a5fc-46a3-973d-aaf9a4d422b7                    1   \n",
       "338  ff3feb3a-d3d7-3ed1-bfeb-bfb92832695e                    1   \n",
       "\n",
       "     dummy_timeseries  \n",
       "0                   1  \n",
       "1                   0  \n",
       "2                   0  \n",
       "3                   0  \n",
       "4                   0  \n",
       "..                ...  \n",
       "334                 0  \n",
       "335                 0  \n",
       "336                 1  \n",
       "337                 0  \n",
       "338                 0  \n",
       "\n",
       "[339 rows x 3 columns]"
      ]
     },
     "execution_count": 53,
     "metadata": {},
     "output_type": "execute_result"
    }
   ],
   "source": [
    "panel_counts"
   ]
  },
  {
   "cell_type": "markdown",
   "metadata": {},
   "source": [
    "## Load data"
   ]
  },
  {
   "cell_type": "code",
   "execution_count": 18,
   "metadata": {},
   "outputs": [],
   "source": [
    "social = load_panel()"
   ]
  },
  {
   "cell_type": "code",
   "execution_count": 35,
   "metadata": {},
   "outputs": [
    {
     "data": {
      "text/html": [
       "<div>\n",
       "<style scoped>\n",
       "    .dataframe tbody tr th:only-of-type {\n",
       "        vertical-align: middle;\n",
       "    }\n",
       "\n",
       "    .dataframe tbody tr th {\n",
       "        vertical-align: top;\n",
       "    }\n",
       "\n",
       "    .dataframe thead th {\n",
       "        text-align: right;\n",
       "    }\n",
       "</style>\n",
       "<table border=\"1\" class=\"dataframe\">\n",
       "  <thead>\n",
       "    <tr style=\"text-align: right;\">\n",
       "      <th></th>\n",
       "      <th>date_timestep_clean</th>\n",
       "      <th>id_desinformacion</th>\n",
       "    </tr>\n",
       "  </thead>\n",
       "  <tbody>\n",
       "    <tr>\n",
       "      <th>0</th>\n",
       "      <td>2021-02-10</td>\n",
       "      <td>ba0b0a04-74ab-4e00-a01b-3ddb80269c20</td>\n",
       "    </tr>\n",
       "    <tr>\n",
       "      <th>1</th>\n",
       "      <td>2021-02-09</td>\n",
       "      <td>280bccba-0705-4ff2-ab7c-23009d592f46</td>\n",
       "    </tr>\n",
       "    <tr>\n",
       "      <th>2</th>\n",
       "      <td>2020-11-19</td>\n",
       "      <td>8bac89f4-a7e4-493b-92b0-4e396fa9c32b</td>\n",
       "    </tr>\n",
       "    <tr>\n",
       "      <th>3</th>\n",
       "      <td>2020-11-21</td>\n",
       "      <td>55337101-2f6b-44ad-a2e9-166a498f7687</td>\n",
       "    </tr>\n",
       "    <tr>\n",
       "      <th>4</th>\n",
       "      <td>2021-02-09</td>\n",
       "      <td>214810e0-fe0b-11ea-998d-acde48001122</td>\n",
       "    </tr>\n",
       "    <tr>\n",
       "      <th>...</th>\n",
       "      <td>...</td>\n",
       "      <td>...</td>\n",
       "    </tr>\n",
       "    <tr>\n",
       "      <th>2608</th>\n",
       "      <td>2020-07-14</td>\n",
       "      <td>a5520168-e9da-3686-ad22-0a1586019645</td>\n",
       "    </tr>\n",
       "    <tr>\n",
       "      <th>2609</th>\n",
       "      <td>2020-07-15</td>\n",
       "      <td>a5520168-e9da-3686-ad22-0a1586019645</td>\n",
       "    </tr>\n",
       "    <tr>\n",
       "      <th>2610</th>\n",
       "      <td>2020-07-17</td>\n",
       "      <td>a5520168-e9da-3686-ad22-0a1586019645</td>\n",
       "    </tr>\n",
       "    <tr>\n",
       "      <th>2611</th>\n",
       "      <td>2020-07-18</td>\n",
       "      <td>a5520168-e9da-3686-ad22-0a1586019645</td>\n",
       "    </tr>\n",
       "    <tr>\n",
       "      <th>2612</th>\n",
       "      <td>2020-11-16</td>\n",
       "      <td>a5520168-e9da-3686-ad22-0a1586019645</td>\n",
       "    </tr>\n",
       "  </tbody>\n",
       "</table>\n",
       "<p>2613 rows × 2 columns</p>\n",
       "</div>"
      ],
      "text/plain": [
       "     date_timestep_clean                     id_desinformacion\n",
       "0             2021-02-10  ba0b0a04-74ab-4e00-a01b-3ddb80269c20\n",
       "1             2021-02-09  280bccba-0705-4ff2-ab7c-23009d592f46\n",
       "2             2020-11-19  8bac89f4-a7e4-493b-92b0-4e396fa9c32b\n",
       "3             2020-11-21  55337101-2f6b-44ad-a2e9-166a498f7687\n",
       "4             2021-02-09  214810e0-fe0b-11ea-998d-acde48001122\n",
       "...                  ...                                   ...\n",
       "2608          2020-07-14  a5520168-e9da-3686-ad22-0a1586019645\n",
       "2609          2020-07-15  a5520168-e9da-3686-ad22-0a1586019645\n",
       "2610          2020-07-17  a5520168-e9da-3686-ad22-0a1586019645\n",
       "2611          2020-07-18  a5520168-e9da-3686-ad22-0a1586019645\n",
       "2612          2020-11-16  a5520168-e9da-3686-ad22-0a1586019645\n",
       "\n",
       "[2613 rows x 2 columns]"
      ]
     },
     "execution_count": 35,
     "metadata": {},
     "output_type": "execute_result"
    }
   ],
   "source": [
    "social[['date_timestep_clean', 'id_desinformacion']]"
   ]
  },
  {
   "cell_type": "code",
   "execution_count": 22,
   "metadata": {},
   "outputs": [
    {
     "data": {
      "text/html": [
       "<div>\n",
       "<style scoped>\n",
       "    .dataframe tbody tr th:only-of-type {\n",
       "        vertical-align: middle;\n",
       "    }\n",
       "\n",
       "    .dataframe tbody tr th {\n",
       "        vertical-align: top;\n",
       "    }\n",
       "\n",
       "    .dataframe thead th {\n",
       "        text-align: right;\n",
       "    }\n",
       "</style>\n",
       "<table border=\"1\" class=\"dataframe\">\n",
       "  <thead>\n",
       "    <tr style=\"text-align: right;\">\n",
       "      <th></th>\n",
       "      <th>id_desinformacion</th>\n",
       "      <th>date_factcheck_facebook_clean</th>\n",
       "    </tr>\n",
       "    <tr>\n",
       "      <th>missing_factcheck</th>\n",
       "      <th></th>\n",
       "      <th></th>\n",
       "    </tr>\n",
       "  </thead>\n",
       "  <tbody>\n",
       "    <tr>\n",
       "      <th>0</th>\n",
       "      <td>215</td>\n",
       "      <td>215</td>\n",
       "    </tr>\n",
       "    <tr>\n",
       "      <th>1</th>\n",
       "      <td>124</td>\n",
       "      <td>0</td>\n",
       "    </tr>\n",
       "  </tbody>\n",
       "</table>\n",
       "</div>"
      ],
      "text/plain": [
       "                   id_desinformacion  date_factcheck_facebook_clean\n",
       "missing_factcheck                                                  \n",
       "0                                215                            215\n",
       "1                                124                              0"
      ]
     },
     "execution_count": 22,
     "metadata": {},
     "output_type": "execute_result"
    }
   ],
   "source": [
    "missing_factchecks(social)"
   ]
  },
  {
   "cell_type": "code",
   "execution_count": 29,
   "metadata": {},
   "outputs": [
    {
     "name": "stdout",
     "output_type": "stream",
     "text": [
      "Pct of posts with no factcheck:  36.57817109144543 \n",
      "Pct of posts with factcheck:  63.421828908554566\n"
     ]
    }
   ],
   "source": [
    "print('Pct of posts with no factcheck: ', 124/(124 + 215)*100, \n",
    "      '\\nPct of posts with factcheck: ',215/(124 + 215)*100)"
   ]
  },
  {
   "cell_type": "code",
   "execution_count": 44,
   "metadata": {},
   "outputs": [
    {
     "data": {
      "text/html": [
       "<div>\n",
       "<style scoped>\n",
       "    .dataframe tbody tr th:only-of-type {\n",
       "        vertical-align: middle;\n",
       "    }\n",
       "\n",
       "    .dataframe tbody tr th {\n",
       "        vertical-align: top;\n",
       "    }\n",
       "\n",
       "    .dataframe thead th {\n",
       "        text-align: right;\n",
       "    }\n",
       "</style>\n",
       "<table border=\"1\" class=\"dataframe\">\n",
       "  <thead>\n",
       "    <tr style=\"text-align: right;\">\n",
       "      <th></th>\n",
       "      <th>date_timestep_clean</th>\n",
       "    </tr>\n",
       "    <tr>\n",
       "      <th>timeseries</th>\n",
       "      <th></th>\n",
       "    </tr>\n",
       "  </thead>\n",
       "  <tbody>\n",
       "    <tr>\n",
       "      <th>0</th>\n",
       "      <td>206</td>\n",
       "    </tr>\n",
       "    <tr>\n",
       "      <th>1</th>\n",
       "      <td>133</td>\n",
       "    </tr>\n",
       "  </tbody>\n",
       "</table>\n",
       "</div>"
      ],
      "text/plain": [
       "            date_timestep_clean\n",
       "timeseries                     \n",
       "0                           206\n",
       "1                           133"
      ]
     },
     "execution_count": 44,
     "metadata": {},
     "output_type": "execute_result"
    }
   ],
   "source": [
    "timeseries(social)"
   ]
  },
  {
   "cell_type": "code",
   "execution_count": 45,
   "metadata": {},
   "outputs": [
    {
     "name": "stdout",
     "output_type": "stream",
     "text": [
      "Pct of posts with timeseries data:  39.233038348082594 \n",
      "Pct of posts with factcheck:  60.766961651917406\n"
     ]
    }
   ],
   "source": [
    "print('Pct of posts with timeseries data: ', 133/(133 + 206)*100, \n",
    "      '\\nPct of posts with factcheck: ',206/(133 + 206)*100)"
   ]
  },
  {
   "cell_type": "code",
   "execution_count": 61,
   "metadata": {},
   "outputs": [
    {
     "data": {
      "text/plain": [
       "Index(['Unnamed: 0', 'source', 'id_desinformacion', 'id_post', 'id_factcheck',\n",
       "       'fact_checker', 'date_partnership_facebook', 'poynter_facebook',\n",
       "       'label_desinformacion', 'no_factcheck', 'no_socialmedia_factcheck',\n",
       "       'date_post', 'reactions_facebook', 'shares_facebook', 'likes_facebook',\n",
       "       'comments_facebook', 'date_post_clean', 'date_timestep_clean',\n",
       "       'date_factcheck_facebook_clean', 'n_days_since_publicacion',\n",
       "       'n_days_since_factcheck', 'observations_cumsum', 'change_likes',\n",
       "       'change_comments', 'change_shares', 'change_reactions',\n",
       "       'growth_rate_likes', 'growth_rate_comments', 'growth_rate_shares',\n",
       "       'growth_rate_reactions'],\n",
       "      dtype='object')"
      ]
     },
     "execution_count": 61,
     "metadata": {},
     "output_type": "execute_result"
    }
   ],
   "source": [
    "social.columns"
   ]
  }
 ],
 "metadata": {
  "kernelspec": {
   "display_name": "Python 3",
   "language": "python",
   "name": "python3"
  },
  "language_info": {
   "codemirror_mode": {
    "name": "ipython",
    "version": 3
   },
   "file_extension": ".py",
   "mimetype": "text/x-python",
   "name": "python",
   "nbconvert_exporter": "python",
   "pygments_lexer": "ipython3",
   "version": "3.8.3"
  }
 },
 "nbformat": 4,
 "nbformat_minor": 4
}
