{
 "cells": [
  {
   "cell_type": "code",
   "execution_count": 14,
   "metadata": {},
   "outputs": [],
   "source": [
    "import pandas as pd\n",
    "import pyreadr\n",
    "import json\n",
    "import os\n",
    "import re\n",
    "from datetime import date\n",
    "import datetime"
   ]
  },
  {
   "cell_type": "code",
   "execution_count": 2,
   "metadata": {},
   "outputs": [
    {
     "data": {
      "text/plain": [
       "'/Users/cblanesg/misinformation_socialmedia/data'"
      ]
     },
     "execution_count": 2,
     "metadata": {},
     "output_type": "execute_result"
    }
   ],
   "source": [
    "os.chdir('/Users/cblanesg/misinformation_socialmedia/data')\n",
    "os.getcwd()"
   ]
  },
  {
   "cell_type": "markdown",
   "metadata": {},
   "source": [
    "## Functions"
   ]
  },
  {
   "cell_type": "code",
   "execution_count": 3,
   "metadata": {},
   "outputs": [],
   "source": [
    "def obtain_newspapers_id():\n",
    "    result = pyreadr.read_r('5-analysis/1-input_data/misinformation/data_reg_misinformation.Rda')\n",
    "    input_reg = result[\"input_reg\"]\n",
    "    df = input_reg[input_reg['type_misinformation'] == 'media_outlets'][['id_desinformacion', \n",
    "                                                               'id_factcheck', \n",
    "                                                               'link_desinformacion', \n",
    "                                                               'label_desinformacion']].drop_duplicates()\n",
    "    \n",
    "    df['media_outlet'] = df['link_desinformacion'].apply(lambda x: re.sub('https://|www.|http://', '',x).split('.')[0])\n",
    "    return(df)"
   ]
  },
  {
   "cell_type": "code",
   "execution_count": 4,
   "metadata": {},
   "outputs": [],
   "source": [
    "def obtain_id_newspapers():\n",
    "    ids = pd.read_excel('3-synthetic_controls/newspapers/0-ids/controls_id.xlsx')[['id_desinformacion', \n",
    "                                                                                   'link_desinformacion', \n",
    "                                                                                   'link_medio', \n",
    "                                                                                   'date_desinformacion']]\n",
    "    \n",
    "    ids_control = pd.read_excel('3-synthetic_controls/newspapers/0-ids/controls_true_id.xlsx')[['id_desinformacion', \n",
    "                                                                                   'link_desinformacion', \n",
    "                                                                                   'link_medio', \n",
    "                                                                                   'date_desinformacion']]\n",
    "    \n",
    "    id_all = pd.concat([ids, ids_control])\n",
    "    \n",
    "    years = []\n",
    "    months = []\n",
    "    days = []\n",
    "    for i in list(id_all.date_desinformacion):\n",
    "        y, m, d = clean_dates(i)\n",
    "        years.append(y)\n",
    "        months.append(m)\n",
    "        days.append(d)\n",
    "        \n",
    "    id_all['year'] = years\n",
    "    id_all['month'] = months\n",
    "    id_all['days'] = days\n",
    "    return(id_all)"
   ]
  },
  {
   "cell_type": "code",
   "execution_count": 5,
   "metadata": {},
   "outputs": [],
   "source": [
    "def clean_dates(x):\n",
    "    if pd.isna(x):\n",
    "        return(None, None, None)\n",
    "    else:\n",
    "        x = x.strftime('%Y-%m-%d')\n",
    "        return(x.split('-')[0], \n",
    "              x.split('-')[1], \n",
    "              x.split('-')[2])"
   ]
  },
  {
   "cell_type": "code",
   "execution_count": 17,
   "metadata": {},
   "outputs": [],
   "source": [
    "def download_media():\n",
    "    media_id = pd.read_excel('3-synthetic_controls/newspapers/0-ids/media_ids.xlsx').drop(['Unnamed: 0'], axis = 1)\n",
    "    media_id['date_desinformacion'] = media_id.apply(lambda x: datetime.date(int(x['year']), \n",
    "                                                                            int(x['month']), \n",
    "                                                                            int(x['days'])), axis = 1)\n",
    "    return(media_id)"
   ]
  },
  {
   "cell_type": "markdown",
   "metadata": {},
   "source": [
    "## Make Id Media Data"
   ]
  },
  {
   "cell_type": "code",
   "execution_count": 70,
   "metadata": {
    "scrolled": true
   },
   "outputs": [],
   "source": [
    "ids = obtain_id_newspapers()"
   ]
  },
  {
   "cell_type": "code",
   "execution_count": 71,
   "metadata": {},
   "outputs": [],
   "source": [
    "articles_desinformacion = obtain_newspapers_id()"
   ]
  },
  {
   "cell_type": "code",
   "execution_count": 72,
   "metadata": {},
   "outputs": [],
   "source": [
    "pd.merge(left = articles_desinformacion, \n",
    "        right = ids.drop(['link_desinformacion'], axis = 1), \n",
    "        on = 'id_desinformacion', \n",
    "        how = 'left').to_excel('3-synthetic_controls/newspapers/0-ids/media_ids.xlsx')"
   ]
  },
  {
   "cell_type": "markdown",
   "metadata": {},
   "source": [
    "## Download controls per misinformation"
   ]
  },
  {
   "cell_type": "code",
   "execution_count": null,
   "metadata": {},
   "outputs": [],
   "source": [
    "def match_media(df):\n",
    "    for i in df.media_outlet.unique()"
   ]
  },
  {
   "cell_type": "code",
   "execution_count": 19,
   "metadata": {
    "scrolled": true
   },
   "outputs": [],
   "source": [
    "media_id = download_media()"
   ]
  },
  {
   "cell_type": "code",
   "execution_count": 20,
   "metadata": {},
   "outputs": [],
   "source": [
    "for i in media_id.media_outlet.unique():\n",
    "    pass"
   ]
  },
  {
   "cell_type": "code",
   "execution_count": 21,
   "metadata": {},
   "outputs": [
    {
     "data": {
      "text/plain": [
       "'codigooculto'"
      ]
     },
     "execution_count": 21,
     "metadata": {},
     "output_type": "execute_result"
    }
   ],
   "source": [
    "i"
   ]
  }
 ],
 "metadata": {
  "kernelspec": {
   "display_name": "Python 3",
   "language": "python",
   "name": "python3"
  },
  "language_info": {
   "codemirror_mode": {
    "name": "ipython",
    "version": 3
   },
   "file_extension": ".py",
   "mimetype": "text/x-python",
   "name": "python",
   "nbconvert_exporter": "python",
   "pygments_lexer": "ipython3",
   "version": "3.8.3"
  }
 },
 "nbformat": 4,
 "nbformat_minor": 4
}
