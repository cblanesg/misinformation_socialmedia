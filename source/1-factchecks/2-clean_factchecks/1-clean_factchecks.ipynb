{
 "cells": [
  {
   "cell_type": "code",
   "execution_count": 10,
   "metadata": {},
   "outputs": [],
   "source": [
    "import pandas as pd\n",
    "from datetime import date\n",
    "import datetime"
   ]
  },
  {
   "cell_type": "code",
   "execution_count": 24,
   "metadata": {},
   "outputs": [],
   "source": [
    "def final_date_factcheck(x, y):\n",
    "    if pd.isna(x):\n",
    "        return(y)\n",
    "    else:\n",
    "        return(x)"
   ]
  },
  {
   "cell_type": "code",
   "execution_count": 25,
   "metadata": {
    "scrolled": true
   },
   "outputs": [],
   "source": [
    "data = pd.read_excel('/Users/cblanesg/misinformation_socialmedia/data/1-factchecks/1-posts_factchecks/factchecks_data.xlsx').drop(['Unnamed: 0', \n",
    "                                                                                                                                  'Unnamed: 15', \n",
    "                                                                                                                                  'Unnamed: 16', \n",
    "                                                                                                                                  'Unnamed: 17', \n",
    "                                                                                                                                  'Unnamed: 18'], axis = 1)"
   ]
  },
  {
   "cell_type": "code",
   "execution_count": 26,
   "metadata": {},
   "outputs": [],
   "source": [
    "data['date_factcheck_final'] = data.apply(lambda x: final_date_factcheck(x['date_factcheck_facebook'], \n",
    "                                                                         x['fecha_chequeo']), axis = 1)"
   ]
  },
  {
   "cell_type": "code",
   "execution_count": 27,
   "metadata": {},
   "outputs": [],
   "source": [
    "data = data[~data['date_factcheck_final'].isna()]"
   ]
  },
  {
   "cell_type": "code",
   "execution_count": 28,
   "metadata": {},
   "outputs": [],
   "source": [
    "data['date_factcheck_final'] = data['date_factcheck_final'].apply(lambda x: x.strftime('%Y-%m-%d'))"
   ]
  },
  {
   "cell_type": "code",
   "execution_count": 20,
   "metadata": {
    "scrolled": true
   },
   "outputs": [],
   "source": [
    "data_factchecks = data.drop('id_desinformacion', axis = 1).drop_duplicates('id_factcheck', keep = 'first')"
   ]
  },
  {
   "cell_type": "code",
   "execution_count": 31,
   "metadata": {},
   "outputs": [],
   "source": [
    "def partnership_function(x):\n",
    "    if pd.isna(x):\n",
    "        return(None)\n",
    "    else:\n",
    "        return(x.strftime('%Y-%m-%d'))"
   ]
  },
  {
   "cell_type": "code",
   "execution_count": 32,
   "metadata": {
    "scrolled": true
   },
   "outputs": [],
   "source": [
    "data_factchecks['facebook_partnership_date'] = data_factchecks['facebook_partnership_date'].apply(lambda x: partnership_function(x))"
   ]
  },
  {
   "cell_type": "code",
   "execution_count": 34,
   "metadata": {},
   "outputs": [],
   "source": [
    "data_factchecks['fecha_chequeo'] = data_factchecks['fecha_chequeo'].apply(lambda x: partnership_function(x))"
   ]
  },
  {
   "cell_type": "code",
   "execution_count": 37,
   "metadata": {
    "scrolled": true
   },
   "outputs": [
    {
     "ename": "AttributeError",
     "evalue": "'str' object has no attribute 'strftime'",
     "output_type": "error",
     "traceback": [
      "\u001b[0;31m---------------------------------------------------------------------------\u001b[0m",
      "\u001b[0;31mAttributeError\u001b[0m                            Traceback (most recent call last)",
      "\u001b[0;32m<ipython-input-37-e55697647a6d>\u001b[0m in \u001b[0;36m<module>\u001b[0;34m\u001b[0m\n\u001b[0;32m----> 1\u001b[0;31m \u001b[0mdata_factchecks\u001b[0m\u001b[0;34m[\u001b[0m\u001b[0;34m'date_factcheck_facebook'\u001b[0m\u001b[0;34m]\u001b[0m \u001b[0;34m=\u001b[0m \u001b[0mdata_factchecks\u001b[0m\u001b[0;34m[\u001b[0m\u001b[0;34m'date_factcheck_facebook'\u001b[0m\u001b[0;34m]\u001b[0m\u001b[0;34m.\u001b[0m\u001b[0mapply\u001b[0m\u001b[0;34m(\u001b[0m\u001b[0;32mlambda\u001b[0m \u001b[0mx\u001b[0m\u001b[0;34m:\u001b[0m \u001b[0mpartnership_function\u001b[0m\u001b[0;34m(\u001b[0m\u001b[0mx\u001b[0m\u001b[0;34m)\u001b[0m\u001b[0;34m)\u001b[0m\u001b[0;34m\u001b[0m\u001b[0;34m\u001b[0m\u001b[0m\n\u001b[0m",
      "\u001b[0;32m/Library/Frameworks/Python.framework/Versions/3.8/lib/python3.8/site-packages/pandas/core/series.py\u001b[0m in \u001b[0;36mapply\u001b[0;34m(self, func, convert_dtype, args, **kwds)\u001b[0m\n\u001b[1;32m   4106\u001b[0m             \u001b[0;32melse\u001b[0m\u001b[0;34m:\u001b[0m\u001b[0;34m\u001b[0m\u001b[0;34m\u001b[0m\u001b[0m\n\u001b[1;32m   4107\u001b[0m                 \u001b[0mvalues\u001b[0m \u001b[0;34m=\u001b[0m \u001b[0mself\u001b[0m\u001b[0;34m.\u001b[0m\u001b[0mastype\u001b[0m\u001b[0;34m(\u001b[0m\u001b[0mobject\u001b[0m\u001b[0;34m)\u001b[0m\u001b[0;34m.\u001b[0m\u001b[0m_values\u001b[0m\u001b[0;34m\u001b[0m\u001b[0;34m\u001b[0m\u001b[0m\n\u001b[0;32m-> 4108\u001b[0;31m                 \u001b[0mmapped\u001b[0m \u001b[0;34m=\u001b[0m \u001b[0mlib\u001b[0m\u001b[0;34m.\u001b[0m\u001b[0mmap_infer\u001b[0m\u001b[0;34m(\u001b[0m\u001b[0mvalues\u001b[0m\u001b[0;34m,\u001b[0m \u001b[0mf\u001b[0m\u001b[0;34m,\u001b[0m \u001b[0mconvert\u001b[0m\u001b[0;34m=\u001b[0m\u001b[0mconvert_dtype\u001b[0m\u001b[0;34m)\u001b[0m\u001b[0;34m\u001b[0m\u001b[0;34m\u001b[0m\u001b[0m\n\u001b[0m\u001b[1;32m   4109\u001b[0m \u001b[0;34m\u001b[0m\u001b[0m\n\u001b[1;32m   4110\u001b[0m         \u001b[0;32mif\u001b[0m \u001b[0mlen\u001b[0m\u001b[0;34m(\u001b[0m\u001b[0mmapped\u001b[0m\u001b[0;34m)\u001b[0m \u001b[0;32mand\u001b[0m \u001b[0misinstance\u001b[0m\u001b[0;34m(\u001b[0m\u001b[0mmapped\u001b[0m\u001b[0;34m[\u001b[0m\u001b[0;36m0\u001b[0m\u001b[0;34m]\u001b[0m\u001b[0;34m,\u001b[0m \u001b[0mSeries\u001b[0m\u001b[0;34m)\u001b[0m\u001b[0;34m:\u001b[0m\u001b[0;34m\u001b[0m\u001b[0;34m\u001b[0m\u001b[0m\n",
      "\u001b[0;32mpandas/_libs/lib.pyx\u001b[0m in \u001b[0;36mpandas._libs.lib.map_infer\u001b[0;34m()\u001b[0m\n",
      "\u001b[0;32m<ipython-input-37-e55697647a6d>\u001b[0m in \u001b[0;36m<lambda>\u001b[0;34m(x)\u001b[0m\n\u001b[0;32m----> 1\u001b[0;31m \u001b[0mdata_factchecks\u001b[0m\u001b[0;34m[\u001b[0m\u001b[0;34m'date_factcheck_facebook'\u001b[0m\u001b[0;34m]\u001b[0m \u001b[0;34m=\u001b[0m \u001b[0mdata_factchecks\u001b[0m\u001b[0;34m[\u001b[0m\u001b[0;34m'date_factcheck_facebook'\u001b[0m\u001b[0;34m]\u001b[0m\u001b[0;34m.\u001b[0m\u001b[0mapply\u001b[0m\u001b[0;34m(\u001b[0m\u001b[0;32mlambda\u001b[0m \u001b[0mx\u001b[0m\u001b[0;34m:\u001b[0m \u001b[0mpartnership_function\u001b[0m\u001b[0;34m(\u001b[0m\u001b[0mx\u001b[0m\u001b[0;34m)\u001b[0m\u001b[0;34m)\u001b[0m\u001b[0;34m\u001b[0m\u001b[0;34m\u001b[0m\u001b[0m\n\u001b[0m",
      "\u001b[0;32m<ipython-input-31-7da7423825ac>\u001b[0m in \u001b[0;36mpartnership_function\u001b[0;34m(x)\u001b[0m\n\u001b[1;32m      3\u001b[0m         \u001b[0;32mreturn\u001b[0m\u001b[0;34m(\u001b[0m\u001b[0;32mNone\u001b[0m\u001b[0;34m)\u001b[0m\u001b[0;34m\u001b[0m\u001b[0;34m\u001b[0m\u001b[0m\n\u001b[1;32m      4\u001b[0m     \u001b[0;32melse\u001b[0m\u001b[0;34m:\u001b[0m\u001b[0;34m\u001b[0m\u001b[0;34m\u001b[0m\u001b[0m\n\u001b[0;32m----> 5\u001b[0;31m         \u001b[0;32mreturn\u001b[0m\u001b[0;34m(\u001b[0m\u001b[0mx\u001b[0m\u001b[0;34m.\u001b[0m\u001b[0mstrftime\u001b[0m\u001b[0;34m(\u001b[0m\u001b[0;34m'%Y-%m-%d'\u001b[0m\u001b[0;34m)\u001b[0m\u001b[0;34m)\u001b[0m\u001b[0;34m\u001b[0m\u001b[0;34m\u001b[0m\u001b[0m\n\u001b[0m",
      "\u001b[0;31mAttributeError\u001b[0m: 'str' object has no attribute 'strftime'"
     ]
    }
   ],
   "source": [
    "data_factchecks['date_factcheck_facebook'] = data_factchecks['date_factcheck_facebook'].apply(lambda x: partnership_function(x))"
   ]
  },
  {
   "cell_type": "code",
   "execution_count": 38,
   "metadata": {
    "scrolled": true
   },
   "outputs": [],
   "source": [
    "data_factchecks.to_json('../../../data/1-factchecks/2-clean_factchecks/factchecks_data.json')"
   ]
  },
  {
   "cell_type": "code",
   "execution_count": 1,
   "metadata": {},
   "outputs": [],
   "source": [
    "### Correct Data For social Fact checks"
   ]
  },
  {
   "cell_type": "code",
   "execution_count": 4,
   "metadata": {},
   "outputs": [],
   "source": [
    "factchecks = pd.read_json('../../../data/1-factchecks/2-clean_factchecks/factchecks_data.json')"
   ]
  },
  {
   "cell_type": "code",
   "execution_count": 6,
   "metadata": {},
   "outputs": [
    {
     "data": {
      "text/plain": [
       "array(['2020-05-08', '2020-04-08', '2020-03-08', ..., '2012-11-21',\n",
       "       '2012-12-03', '2012-12-15'], dtype=object)"
      ]
     },
     "execution_count": 6,
     "metadata": {},
     "output_type": "execute_result"
    }
   ],
   "source": [
    "factchecks.fecha_chequeo.unique()"
   ]
  },
  {
   "cell_type": "code",
   "execution_count": 16,
   "metadata": {},
   "outputs": [],
   "source": [
    "def clean_dates(x):\n",
    "    if int(x.split('-')[2]) > 12:\n",
    "        elements = x.split('-')\n",
    "        return(datetime.date(int(elements[0]), \n",
    "                            int(elements[1]), \n",
    "                            int(elements[2])))\n",
    "    else:\n",
    "        elements = x.split('-')\n",
    "        return(datetime.date(int(elements[0]), \n",
    "                            int(elements[2]), \n",
    "                            int(elements[1])))"
   ]
  },
  {
   "cell_type": "code",
   "execution_count": 19,
   "metadata": {
    "scrolled": true
   },
   "outputs": [],
   "source": [
    "factchecks['fecha_factcheck'] = factchecks['date_factcheck_final'].apply(lambda x: clean_dates(x))\n",
    "factchecks['fecha_factcheck'] = factchecks['fecha_factcheck'].apply(lambda x: x.strftime('%Y-%m-%d'))"
   ]
  },
  {
   "cell_type": "code",
   "execution_count": 20,
   "metadata": {
    "scrolled": true
   },
   "outputs": [],
   "source": [
    "factchecks.to_json('../../../data/1-factchecks/2-clean_factchecks/factchecks_data.json')"
   ]
  },
  {
   "cell_type": "code",
   "execution_count": 21,
   "metadata": {},
   "outputs": [
    {
     "data": {
      "text/html": [
       "<div>\n",
       "<style scoped>\n",
       "    .dataframe tbody tr th:only-of-type {\n",
       "        vertical-align: middle;\n",
       "    }\n",
       "\n",
       "    .dataframe tbody tr th {\n",
       "        vertical-align: top;\n",
       "    }\n",
       "\n",
       "    .dataframe thead th {\n",
       "        text-align: right;\n",
       "    }\n",
       "</style>\n",
       "<table border=\"1\" class=\"dataframe\">\n",
       "  <thead>\n",
       "    <tr style=\"text-align: right;\">\n",
       "      <th></th>\n",
       "      <th>id_factcheck</th>\n",
       "      <th>type_factcheck</th>\n",
       "      <th>organizacion</th>\n",
       "      <th>pais</th>\n",
       "      <th>facebook_partnership_date</th>\n",
       "      <th>facebook_partnership</th>\n",
       "      <th>titulo_chequeo</th>\n",
       "      <th>link_chequeo</th>\n",
       "      <th>fecha_chequeo</th>\n",
       "      <th>link_facebook_factcheck</th>\n",
       "      <th>date_factcheck_facebook</th>\n",
       "      <th>dummy_facebook_date</th>\n",
       "      <th>difference_dates</th>\n",
       "      <th>date_factcheck_final</th>\n",
       "      <th>fecha_factcheck</th>\n",
       "    </tr>\n",
       "  </thead>\n",
       "  <tbody>\n",
       "    <tr>\n",
       "      <th>0</th>\n",
       "      <td>2c51a443-dcfe-3fdc-b901-79566bb18dd0</td>\n",
       "      <td>social_media</td>\n",
       "      <td>larepublica</td>\n",
       "      <td>peru</td>\n",
       "      <td>2020-06-01</td>\n",
       "      <td>1</td>\n",
       "      <td>cafe haiti es falso que el cafe haiti de miraf...</td>\n",
       "      <td>https://larepublica.pe/verificador/2020/08/05/...</td>\n",
       "      <td>2020-05-08</td>\n",
       "      <td>None</td>\n",
       "      <td>None</td>\n",
       "      <td>0</td>\n",
       "      <td>NaN</td>\n",
       "      <td>2020-05-08</td>\n",
       "      <td>2020-08-05</td>\n",
       "    </tr>\n",
       "    <tr>\n",
       "      <th>1</th>\n",
       "      <td>1718b0ab-d593-3704-a78a-bb095d6ecb14</td>\n",
       "      <td>social_media</td>\n",
       "      <td>larepublica</td>\n",
       "      <td>peru</td>\n",
       "      <td>2020-06-01</td>\n",
       "      <td>1</td>\n",
       "      <td>areas de aislamiento es falsa la publicacion d...</td>\n",
       "      <td>https://larepublica.pe/verificador/2020/08/05/...</td>\n",
       "      <td>2020-05-08</td>\n",
       "      <td>None</td>\n",
       "      <td>None</td>\n",
       "      <td>0</td>\n",
       "      <td>NaN</td>\n",
       "      <td>2020-05-08</td>\n",
       "      <td>2020-08-05</td>\n",
       "    </tr>\n",
       "    <tr>\n",
       "      <th>2</th>\n",
       "      <td>3c167832-8e73-330a-ab8a-19b219f79dfc</td>\n",
       "      <td>social_media</td>\n",
       "      <td>larepublica</td>\n",
       "      <td>peru</td>\n",
       "      <td>2020-06-01</td>\n",
       "      <td>1</td>\n",
       "      <td>dioxido de cloro es imprecisa la publicacion d...</td>\n",
       "      <td>https://larepublica.pe/verificador/2020/08/04/...</td>\n",
       "      <td>2020-04-08</td>\n",
       "      <td>None</td>\n",
       "      <td>None</td>\n",
       "      <td>0</td>\n",
       "      <td>NaN</td>\n",
       "      <td>2020-04-08</td>\n",
       "      <td>2020-08-04</td>\n",
       "    </tr>\n",
       "    <tr>\n",
       "      <th>3</th>\n",
       "      <td>656ae72f-a364-353d-813a-dd24472479a6</td>\n",
       "      <td>social_media</td>\n",
       "      <td>larepublica</td>\n",
       "      <td>peru</td>\n",
       "      <td>2020-06-01</td>\n",
       "      <td>1</td>\n",
       "      <td>5g es falso que foto es de vacuna china con ar...</td>\n",
       "      <td>https://larepublica.pe/verificador/2020/08/03/...</td>\n",
       "      <td>2020-03-08</td>\n",
       "      <td>None</td>\n",
       "      <td>None</td>\n",
       "      <td>0</td>\n",
       "      <td>NaN</td>\n",
       "      <td>2020-03-08</td>\n",
       "      <td>2020-08-03</td>\n",
       "    </tr>\n",
       "    <tr>\n",
       "      <th>4</th>\n",
       "      <td>6fcce096-cf30-3f7c-ae86-591590d024e6</td>\n",
       "      <td>social_media</td>\n",
       "      <td>larepublica</td>\n",
       "      <td>peru</td>\n",
       "      <td>2020-06-01</td>\n",
       "      <td>1</td>\n",
       "      <td>coronavirus es impreciso afirmar que colegio m...</td>\n",
       "      <td>https://larepublica.pe/verificador/2020/08/03/...</td>\n",
       "      <td>2020-03-08</td>\n",
       "      <td>None</td>\n",
       "      <td>None</td>\n",
       "      <td>0</td>\n",
       "      <td>NaN</td>\n",
       "      <td>2020-03-08</td>\n",
       "      <td>2020-08-03</td>\n",
       "    </tr>\n",
       "    <tr>\n",
       "      <th>...</th>\n",
       "      <td>...</td>\n",
       "      <td>...</td>\n",
       "      <td>...</td>\n",
       "      <td>...</td>\n",
       "      <td>...</td>\n",
       "      <td>...</td>\n",
       "      <td>...</td>\n",
       "      <td>...</td>\n",
       "      <td>...</td>\n",
       "      <td>...</td>\n",
       "      <td>...</td>\n",
       "      <td>...</td>\n",
       "      <td>...</td>\n",
       "      <td>...</td>\n",
       "      <td>...</td>\n",
       "    </tr>\n",
       "    <tr>\n",
       "      <th>4183</th>\n",
       "      <td>158435ef-531f-3ad3-9660-a5cb403a5866</td>\n",
       "      <td>medios_tradicionales</td>\n",
       "      <td>africa_check</td>\n",
       "      <td>africa</td>\n",
       "      <td>2019-08-15</td>\n",
       "      <td>1</td>\n",
       "      <td>economist sa article uses jobs statistic unfairly</td>\n",
       "      <td>https://africacheck.org/fact-checks/reports/ec...</td>\n",
       "      <td>2012-10-24</td>\n",
       "      <td>None</td>\n",
       "      <td>None</td>\n",
       "      <td>0</td>\n",
       "      <td>NaN</td>\n",
       "      <td>2012-10-24</td>\n",
       "      <td>2012-10-24</td>\n",
       "    </tr>\n",
       "    <tr>\n",
       "      <th>4184</th>\n",
       "      <td>68cfebae-1201-388f-9a08-3e128cabefd4</td>\n",
       "      <td>medios_tradicionales</td>\n",
       "      <td>africa_check</td>\n",
       "      <td>africa</td>\n",
       "      <td>2019-08-15</td>\n",
       "      <td>1</td>\n",
       "      <td>anc and da both wrong gap between rich and poor</td>\n",
       "      <td>https://africacheck.org/fact-checks/reports/an...</td>\n",
       "      <td>2012-11-07</td>\n",
       "      <td>None</td>\n",
       "      <td>2012-11-07</td>\n",
       "      <td>1</td>\n",
       "      <td>0.0</td>\n",
       "      <td>2012-11-07</td>\n",
       "      <td>2012-07-11</td>\n",
       "    </tr>\n",
       "    <tr>\n",
       "      <th>4185</th>\n",
       "      <td>49d7af65-82b9-3493-a672-ed225bac8b5d</td>\n",
       "      <td>medios_tradicionales</td>\n",
       "      <td>africa_check</td>\n",
       "      <td>africa</td>\n",
       "      <td>2019-08-15</td>\n",
       "      <td>1</td>\n",
       "      <td>flawed data undermines sa claims vaccination c...</td>\n",
       "      <td>https://africacheck.org/fact-checks/reports/fl...</td>\n",
       "      <td>2012-11-21</td>\n",
       "      <td>None</td>\n",
       "      <td>2012-11-21</td>\n",
       "      <td>1</td>\n",
       "      <td>0.0</td>\n",
       "      <td>2012-11-21</td>\n",
       "      <td>2012-11-21</td>\n",
       "    </tr>\n",
       "    <tr>\n",
       "      <th>4186</th>\n",
       "      <td>5ed4a06f-f695-3b6c-9ebe-af5cffd5b05d</td>\n",
       "      <td>medios_tradicionales</td>\n",
       "      <td>africa_check</td>\n",
       "      <td>africa</td>\n",
       "      <td>2019-08-15</td>\n",
       "      <td>1</td>\n",
       "      <td>zille says cape town rich poor divide narrowes...</td>\n",
       "      <td>https://africacheck.org/fact-checks/reports/zi...</td>\n",
       "      <td>2012-12-03</td>\n",
       "      <td>None</td>\n",
       "      <td>None</td>\n",
       "      <td>0</td>\n",
       "      <td>NaN</td>\n",
       "      <td>2012-12-03</td>\n",
       "      <td>2012-03-12</td>\n",
       "    </tr>\n",
       "    <tr>\n",
       "      <th>4187</th>\n",
       "      <td>5c1725d5-3f40-3277-9c1b-6bfc27d21bb9</td>\n",
       "      <td>medios_tradicionales</td>\n",
       "      <td>africa_check</td>\n",
       "      <td>africa</td>\n",
       "      <td>2019-08-15</td>\n",
       "      <td>1</td>\n",
       "      <td>did gun control cause fall gun crime data back...</td>\n",
       "      <td>https://africacheck.org/fact-checks/reports/di...</td>\n",
       "      <td>2012-12-15</td>\n",
       "      <td>None</td>\n",
       "      <td>None</td>\n",
       "      <td>0</td>\n",
       "      <td>NaN</td>\n",
       "      <td>2012-12-15</td>\n",
       "      <td>2012-12-15</td>\n",
       "    </tr>\n",
       "  </tbody>\n",
       "</table>\n",
       "<p>3243 rows × 15 columns</p>\n",
       "</div>"
      ],
      "text/plain": [
       "                              id_factcheck        type_factcheck  \\\n",
       "0     2c51a443-dcfe-3fdc-b901-79566bb18dd0          social_media   \n",
       "1     1718b0ab-d593-3704-a78a-bb095d6ecb14          social_media   \n",
       "2     3c167832-8e73-330a-ab8a-19b219f79dfc          social_media   \n",
       "3     656ae72f-a364-353d-813a-dd24472479a6          social_media   \n",
       "4     6fcce096-cf30-3f7c-ae86-591590d024e6          social_media   \n",
       "...                                    ...                   ...   \n",
       "4183  158435ef-531f-3ad3-9660-a5cb403a5866  medios_tradicionales   \n",
       "4184  68cfebae-1201-388f-9a08-3e128cabefd4  medios_tradicionales   \n",
       "4185  49d7af65-82b9-3493-a672-ed225bac8b5d  medios_tradicionales   \n",
       "4186  5ed4a06f-f695-3b6c-9ebe-af5cffd5b05d  medios_tradicionales   \n",
       "4187  5c1725d5-3f40-3277-9c1b-6bfc27d21bb9  medios_tradicionales   \n",
       "\n",
       "      organizacion    pais facebook_partnership_date  facebook_partnership  \\\n",
       "0      larepublica    peru                2020-06-01                     1   \n",
       "1      larepublica    peru                2020-06-01                     1   \n",
       "2      larepublica    peru                2020-06-01                     1   \n",
       "3      larepublica    peru                2020-06-01                     1   \n",
       "4      larepublica    peru                2020-06-01                     1   \n",
       "...            ...     ...                       ...                   ...   \n",
       "4183  africa_check  africa                2019-08-15                     1   \n",
       "4184  africa_check  africa                2019-08-15                     1   \n",
       "4185  africa_check  africa                2019-08-15                     1   \n",
       "4186  africa_check  africa                2019-08-15                     1   \n",
       "4187  africa_check  africa                2019-08-15                     1   \n",
       "\n",
       "                                         titulo_chequeo  \\\n",
       "0     cafe haiti es falso que el cafe haiti de miraf...   \n",
       "1     areas de aislamiento es falsa la publicacion d...   \n",
       "2     dioxido de cloro es imprecisa la publicacion d...   \n",
       "3     5g es falso que foto es de vacuna china con ar...   \n",
       "4     coronavirus es impreciso afirmar que colegio m...   \n",
       "...                                                 ...   \n",
       "4183  economist sa article uses jobs statistic unfairly   \n",
       "4184    anc and da both wrong gap between rich and poor   \n",
       "4185  flawed data undermines sa claims vaccination c...   \n",
       "4186  zille says cape town rich poor divide narrowes...   \n",
       "4187  did gun control cause fall gun crime data back...   \n",
       "\n",
       "                                           link_chequeo fecha_chequeo  \\\n",
       "0     https://larepublica.pe/verificador/2020/08/05/...    2020-05-08   \n",
       "1     https://larepublica.pe/verificador/2020/08/05/...    2020-05-08   \n",
       "2     https://larepublica.pe/verificador/2020/08/04/...    2020-04-08   \n",
       "3     https://larepublica.pe/verificador/2020/08/03/...    2020-03-08   \n",
       "4     https://larepublica.pe/verificador/2020/08/03/...    2020-03-08   \n",
       "...                                                 ...           ...   \n",
       "4183  https://africacheck.org/fact-checks/reports/ec...    2012-10-24   \n",
       "4184  https://africacheck.org/fact-checks/reports/an...    2012-11-07   \n",
       "4185  https://africacheck.org/fact-checks/reports/fl...    2012-11-21   \n",
       "4186  https://africacheck.org/fact-checks/reports/zi...    2012-12-03   \n",
       "4187  https://africacheck.org/fact-checks/reports/di...    2012-12-15   \n",
       "\n",
       "     link_facebook_factcheck date_factcheck_facebook  dummy_facebook_date  \\\n",
       "0                       None                    None                    0   \n",
       "1                       None                    None                    0   \n",
       "2                       None                    None                    0   \n",
       "3                       None                    None                    0   \n",
       "4                       None                    None                    0   \n",
       "...                      ...                     ...                  ...   \n",
       "4183                    None                    None                    0   \n",
       "4184                    None              2012-11-07                    1   \n",
       "4185                    None              2012-11-21                    1   \n",
       "4186                    None                    None                    0   \n",
       "4187                    None                    None                    0   \n",
       "\n",
       "      difference_dates date_factcheck_final fecha_factcheck  \n",
       "0                  NaN           2020-05-08      2020-08-05  \n",
       "1                  NaN           2020-05-08      2020-08-05  \n",
       "2                  NaN           2020-04-08      2020-08-04  \n",
       "3                  NaN           2020-03-08      2020-08-03  \n",
       "4                  NaN           2020-03-08      2020-08-03  \n",
       "...                ...                  ...             ...  \n",
       "4183               NaN           2012-10-24      2012-10-24  \n",
       "4184               0.0           2012-11-07      2012-07-11  \n",
       "4185               0.0           2012-11-21      2012-11-21  \n",
       "4186               NaN           2012-12-03      2012-03-12  \n",
       "4187               NaN           2012-12-15      2012-12-15  \n",
       "\n",
       "[3243 rows x 15 columns]"
      ]
     },
     "execution_count": 21,
     "metadata": {},
     "output_type": "execute_result"
    }
   ],
   "source": [
    "factchecks"
   ]
  },
  {
   "cell_type": "code",
   "execution_count": null,
   "metadata": {},
   "outputs": [],
   "source": []
  },
  {
   "cell_type": "code",
   "execution_count": null,
   "metadata": {},
   "outputs": [],
   "source": []
  },
  {
   "cell_type": "code",
   "execution_count": null,
   "metadata": {},
   "outputs": [],
   "source": []
  },
  {
   "cell_type": "code",
   "execution_count": null,
   "metadata": {},
   "outputs": [],
   "source": []
  },
  {
   "cell_type": "code",
   "execution_count": null,
   "metadata": {},
   "outputs": [],
   "source": []
  }
 ],
 "metadata": {
  "kernelspec": {
   "display_name": "Python 3",
   "language": "python",
   "name": "python3"
  },
  "language_info": {
   "codemirror_mode": {
    "name": "ipython",
    "version": 3
   },
   "file_extension": ".py",
   "mimetype": "text/x-python",
   "name": "python",
   "nbconvert_exporter": "python",
   "pygments_lexer": "ipython3",
   "version": "3.8.3"
  }
 },
 "nbformat": 4,
 "nbformat_minor": 4
}
