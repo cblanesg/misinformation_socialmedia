{
 "cells": [
  {
   "cell_type": "code",
   "execution_count": 2,
   "metadata": {},
   "outputs": [],
   "source": [
    "import  urllib3\n",
    "import facebook\n",
    "import requests\n",
    "import pandas as pd\n",
    "from datetime import date, timedelta\n",
    "from os import listdir\n",
    "import numpy as np\n",
    "from tqdm import tqdm\n",
    "import time\n",
    "from time import sleep\n",
    "import math"
   ]
  },
  {
   "cell_type": "markdown",
   "metadata": {},
   "source": [
    "## Functions"
   ]
  },
  {
   "cell_type": "code",
   "execution_count": 37,
   "metadata": {},
   "outputs": [],
   "source": [
    "def cnx_graph_api(TOKEN):\n",
    "    #with open('graph_api_authentication.txt') as file:\n",
    "    #    TOKEN = file.readline().split('\"')[1]\n",
    "    TOKEN = TOKEN\n",
    "    graph = facebook.GraphAPI(access_token=TOKEN, version = 3.1)\n",
    "    return graph\n",
    "def get_engagement_link(link, id_factcheck, TOKEN):\n",
    "\n",
    "    graph = cnx_graph_api(TOKEN)\n",
    "    engagement = graph.request(link +'?fields=engagement')\n",
    "    if len(engagement) == 1:\n",
    "        data = []\n",
    "        df = pd.DataFrame(data, columns=['url','id_factcheck','reaction_count', 'comment_count', 'share_count', 'comment_plugin_count'])\n",
    "        new_row = {'url': link,'id_factcheck':id_factcheck,'reaction_count': np.nan, 'comment_count':np.nan, 'share_count': np.nan, 'comment_plugin_count': np.nan,}\n",
    "        df = df.append(new_row, ignore_index=True)\n",
    "    else:\n",
    "        df = pd.DataFrame([engagement['id']], columns = ['url'])\n",
    "        df['id_factcheck'] = id_factcheck\n",
    "        df = pd.concat([df.reset_index(drop=True), pd.DataFrame([engagement['engagement']])], axis=1)\n",
    "\n",
    "    return (df)\n",
    "def get_engagement_all_links(links, id_articles):\n",
    "\n",
    "    data = []\n",
    "    df_all = pd.DataFrame(data, columns=['url', 'id_factcheck', 'reaction_count', 'comment_count', 'share_count', 'comment_plugin_count'])\n",
    "    for link, id_ in zip(links, id_articles):\n",
    "        df = get_engagement_link(link, id_)\n",
    "        df_all = df_all.append(df, ignore_index=True)\n",
    "\n",
    "    return (df_all)"
   ]
  },
  {
   "cell_type": "code",
   "execution_count": 10,
   "metadata": {},
   "outputs": [],
   "source": [
    "def load_factchecks():\n",
    "    factchecks = pd.read_excel('/Users/cblanesg/misinformation_socialmedia/data/1-factchecks/2-clean_factchecks/factchecks_engagements.xlsx').drop('Unnamed: 0', axis = 1)\n",
    "    return(factchecks)"
   ]
  },
  {
   "cell_type": "markdown",
   "metadata": {},
   "source": [
    "## Apply Functions"
   ]
  },
  {
   "cell_type": "code",
   "execution_count": 11,
   "metadata": {},
   "outputs": [],
   "source": [
    "factchecks = load_factchecks()"
   ]
  },
  {
   "cell_type": "code",
   "execution_count": 12,
   "metadata": {},
   "outputs": [],
   "source": [
    "df_dict = {n: factchecks.iloc[n:n+240, :]\n",
    "           for n in range(0, len(factchecks), 240)}"
   ]
  },
  {
   "cell_type": "code",
   "execution_count": 32,
   "metadata": {},
   "outputs": [],
   "source": [
    "tokens = ['EAAJ9JaxDifgBABhXrpK0RXtAQAkfVEhuunLiIDNjsqiFzULZC4ZA1EHmJhGLYO4PkIhnwynOIdbbKGNePd3co0hoaYn6H8TuvIh103XH1Qcl6jLZAWlvmJ2c2uwjdMxAXa3iVXEGNmPxXdYWwaeTBnPjE6UUoFHBRZCYbcYeZB7t8SlbNX4uQXae7znGNdE2fO4Yv1NgJ7mOZBqhaZARqz770sfZBvwikuhZA4wKNTOS7ilQc8aCpzBJg', \n",
    "         'EAANMQfZAr9m0BADVVDijIhWZCWZA6uZCT30uLJVQANyVAtpVmvr0cn5ZArEFKrmhEbxiDPIOqR3iVmjWmSXcHpLKMnx9WIqpNIfu9uEZAqf78BU2QxqbyjEfi88PGPFp9cVbZCzTMGKWCyDf2uyHr5E3kU9FZCT6ZBi51UuAfzQlFakbHZBhzXL3zqfBCNiG4m7lnED0S1t1vtJQx9ZBFH3yZAi57jYcMDuOcaalk5G7wynWGAvl9FDTpL1V', \n",
    "         'EAAKRE2EGs6YBAMkAZBCdiSvqX856Yy5rZANDps1IjtjmiBt4JvxICxLXNqtHVE9IvbBK6GUdYukBzO6XeVVzjTe54C6FOU9gvCFj45vcrvTHW0xKGOZBaXhrDO2ZAJoEVIhL1hbTKvipHOzJURfCEj6IVt0H49850mFZBckt09jSQZCAKk5ysdPw8Tcq3TEb3vhCQrZAsOydbUYQEr5CtMSjweafXhwqzIWjZAcJ6WTzZCxZCQWJZAkFXMZC']"
   ]
  },
  {
   "cell_type": "code",
   "execution_count": 28,
   "metadata": {},
   "outputs": [
    {
     "data": {
      "text/plain": [
       "dict_keys([0, 240, 480])"
      ]
     },
     "execution_count": 28,
     "metadata": {},
     "output_type": "execute_result"
    }
   ],
   "source": [
    "df_dict.keys()"
   ]
  },
  {
   "cell_type": "code",
   "execution_count": 42,
   "metadata": {},
   "outputs": [],
   "source": [
    "all_interactions = []"
   ]
  },
  {
   "cell_type": "code",
   "execution_count": 43,
   "metadata": {},
   "outputs": [
    {
     "name": "stderr",
     "output_type": "stream",
     "text": [
      "100%|██████████| 3/3 [02:14<00:00, 44.89s/it]\n"
     ]
    }
   ],
   "source": [
    "for x, y in tqdm(zip(list(df_dict.keys()), tokens), total = 3):\n",
    "    df = df_dict[x]\n",
    "    for h, w in zip(df.link_chequeo, df.id_factcheck):\n",
    "        df_all = get_engagement_link(h, w, y)\n",
    "        all_interactions.append(df_all)"
   ]
  },
  {
   "cell_type": "code",
   "execution_count": 47,
   "metadata": {},
   "outputs": [],
   "source": [
    "engagement_all = pd.concat(all_interactions).drop(['comment_plugin_count', \n",
    "                                                  'url'], axis = 1)"
   ]
  },
  {
   "cell_type": "code",
   "execution_count": 49,
   "metadata": {},
   "outputs": [],
   "source": [
    "engagement_all['engagements_complete'] = engagement_all.apply(lambda x: x['reaction_count'] + \n",
    "                                                             x['comment_count'] + \n",
    "                                                             x['share_count'], axis = 1)"
   ]
  },
  {
   "cell_type": "code",
   "execution_count": 52,
   "metadata": {
    "scrolled": true
   },
   "outputs": [],
   "source": [
    "factchecks_engagements = pd.merge(left = factchecks, \n",
    "         right = engagement_all, \n",
    "         on = 'id_factcheck', \n",
    "         how = 'left')"
   ]
  },
  {
   "cell_type": "code",
   "execution_count": 55,
   "metadata": {},
   "outputs": [
    {
     "data": {
      "text/plain": [
       "17.0"
      ]
     },
     "execution_count": 55,
     "metadata": {},
     "output_type": "execute_result"
    }
   ],
   "source": [
    "factchecks_engagements.engagements_complete.median()"
   ]
  },
  {
   "cell_type": "code",
   "execution_count": 60,
   "metadata": {},
   "outputs": [],
   "source": [
    "factchecks_engagements['popular'] = np.where(factchecks_engagements['engagements_complete'] > factchecks_engagements.engagements_complete.median(), 1, 0)"
   ]
  },
  {
   "cell_type": "code",
   "execution_count": 62,
   "metadata": {
    "scrolled": true
   },
   "outputs": [],
   "source": [
    "factchecks_engagements.to_excel('/Users/cblanesg/misinformation_socialmedia/data/1-factchecks/2-clean_factchecks/factchecks_engagements.xlsx')"
   ]
  }
 ],
 "metadata": {
  "kernelspec": {
   "display_name": "Python 3",
   "language": "python",
   "name": "python3"
  },
  "language_info": {
   "codemirror_mode": {
    "name": "ipython",
    "version": 3
   },
   "file_extension": ".py",
   "mimetype": "text/x-python",
   "name": "python",
   "nbconvert_exporter": "python",
   "pygments_lexer": "ipython3",
   "version": "3.8.3"
  }
 },
 "nbformat": 4,
 "nbformat_minor": 4
}
