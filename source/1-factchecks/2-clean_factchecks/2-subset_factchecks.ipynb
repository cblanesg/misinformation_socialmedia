{
 "cells": [
  {
   "cell_type": "code",
   "execution_count": 1,
   "metadata": {},
   "outputs": [],
   "source": [
    "import pandas as pd"
   ]
  },
  {
   "cell_type": "code",
   "execution_count": 2,
   "metadata": {},
   "outputs": [],
   "source": [
    "import warnings\n",
    "warnings.filterwarnings(\"ignore\")"
   ]
  },
  {
   "cell_type": "markdown",
   "metadata": {},
   "source": [
    "## Functions"
   ]
  },
  {
   "cell_type": "code",
   "execution_count": 37,
   "metadata": {},
   "outputs": [],
   "source": [
    "def load_misinformation():\n",
    "    misinformations = pd.read_excel('/Users/cblanesg/misinformation_socialmedia/data/2-misinformation/newspapers/0-misinformation/misinformation_newspapers.xlsx').drop('Unnamed: 0', axis = 1)    \n",
    "    return(misinformations)\n",
    "\n",
    "def load_subset_facthecks():\n",
    "    newspapers_id = pd.read_excel('../../../data/1-factchecks/2-clean_factchecks/factchecks_subset_newspapers.xlsx').dropna()\n",
    "    factchecks_newspapers = list(newspapers_id.id_factcheck.unique())\n",
    "    \n",
    "    social_id = pd.read_excel('../../../data/1-factchecks/2-clean_factchecks/factchecks_subset_social.xlsx').dropna()\n",
    "    factchecks_social = list(social_id.id_factcheck.unique())\n",
    "    misisnformations = factchecks_social + factchecks_newspapers\n",
    "    return(misisnformations)\n",
    "\n",
    "def load_subset_factchecks():\n",
    "    ids_factchecks = load_subset_facthecks()\n",
    "    factchecks = pd.read_json('../../../data/1-factchecks/2-clean_factchecks/factchecks_data.json')\n",
    "    subset_factchecks = factchecks[factchecks['id_factcheck'].isin(load_subset_facthecks())]\n",
    "    return(subset_factchecks)\n",
    "\n",
    "def save_factchecks(df):\n",
    "    df.to_excel('../../../data/1-factchecks/2-clean_factchecks/subset_factchecks_data.xlsx')"
   ]
  },
  {
   "cell_type": "markdown",
   "metadata": {},
   "source": [
    "## Apply Functions"
   ]
  },
  {
   "cell_type": "code",
   "execution_count": 36,
   "metadata": {},
   "outputs": [],
   "source": [
    "subset_factchecks = load_subset_factchecks()"
   ]
  },
  {
   "cell_type": "code",
   "execution_count": 39,
   "metadata": {},
   "outputs": [],
   "source": [
    "save_factchecks(subset_factchecks)"
   ]
  },
  {
   "cell_type": "code",
   "execution_count": 42,
   "metadata": {},
   "outputs": [],
   "source": [
    "social_id = pd.read_excel('../../../data/1-factchecks/2-clean_factchecks/factchecks_subset_social.xlsx').dropna()\n",
    "social_id = social_id[['id_desinformacion', 'id_factcheck']].drop_duplicates()"
   ]
  },
  {
   "cell_type": "code",
   "execution_count": 45,
   "metadata": {},
   "outputs": [
    {
     "data": {
      "text/html": [
       "<div>\n",
       "<style scoped>\n",
       "    .dataframe tbody tr th:only-of-type {\n",
       "        vertical-align: middle;\n",
       "    }\n",
       "\n",
       "    .dataframe tbody tr th {\n",
       "        vertical-align: top;\n",
       "    }\n",
       "\n",
       "    .dataframe thead th {\n",
       "        text-align: right;\n",
       "    }\n",
       "</style>\n",
       "<table border=\"1\" class=\"dataframe\">\n",
       "  <thead>\n",
       "    <tr style=\"text-align: right;\">\n",
       "      <th></th>\n",
       "      <th>id_desinformacion</th>\n",
       "      <th>id_factcheck</th>\n",
       "    </tr>\n",
       "  </thead>\n",
       "  <tbody>\n",
       "    <tr>\n",
       "      <th>0</th>\n",
       "      <td>01b9fab2-a803-3e87-81ae-dca6e446bc10</td>\n",
       "      <td>211e8715-39fb-3976-992d-06931c10b2c3</td>\n",
       "    </tr>\n",
       "    <tr>\n",
       "      <th>1</th>\n",
       "      <td>052a2752-d7aa-4200-bf6e-5c45b25f95e3</td>\n",
       "      <td>ec42d7fc-d1f3-3853-8142-addf7e22ab20</td>\n",
       "    </tr>\n",
       "    <tr>\n",
       "      <th>2</th>\n",
       "      <td>094e30cf-9b1f-39a7-ba4a-a31a92986fc9</td>\n",
       "      <td>4cbcd132-130d-3567-9dae-2ee72d506a4d</td>\n",
       "    </tr>\n",
       "    <tr>\n",
       "      <th>3</th>\n",
       "      <td>0997b7ee-342f-44eb-bb83-93688fbb3334</td>\n",
       "      <td>9709aef0-2b6d-351a-b214-5481d2791b49</td>\n",
       "    </tr>\n",
       "    <tr>\n",
       "      <th>4</th>\n",
       "      <td>0f159b5a-862a-3d27-a1a2-8af4dd73b3e2</td>\n",
       "      <td>f5bb26ed-cd30-312b-b384-e4d1b73d562c</td>\n",
       "    </tr>\n",
       "    <tr>\n",
       "      <th>...</th>\n",
       "      <td>...</td>\n",
       "      <td>...</td>\n",
       "    </tr>\n",
       "    <tr>\n",
       "      <th>125</th>\n",
       "      <td>edc2678b-589d-3c78-a570-87c66c1839f4</td>\n",
       "      <td>4d98b616-e6b3-35f2-8acc-5c76797f437e</td>\n",
       "    </tr>\n",
       "    <tr>\n",
       "      <th>126</th>\n",
       "      <td>f254fd8e-7437-4b82-af10-de4bb5885368</td>\n",
       "      <td>a2339a94-786a-37a4-9e7c-0bbe005bc686</td>\n",
       "    </tr>\n",
       "    <tr>\n",
       "      <th>127</th>\n",
       "      <td>f61ed23b-80af-3704-a162-423858c99a6b</td>\n",
       "      <td>c608c385-b403-3bca-b3d1-a29240aa2712</td>\n",
       "    </tr>\n",
       "    <tr>\n",
       "      <th>128</th>\n",
       "      <td>fc0880f3-96c4-3da1-ad4a-b6b7c325fcc6</td>\n",
       "      <td>0168c9a6-c619-3a47-a65d-4f05788dcca6</td>\n",
       "    </tr>\n",
       "    <tr>\n",
       "      <th>129</th>\n",
       "      <td>fe77a823-f615-39dc-87a1-a9170dc0a0f0</td>\n",
       "      <td>24e344a7-8062-41a7-8f02-b555b9baff29</td>\n",
       "    </tr>\n",
       "  </tbody>\n",
       "</table>\n",
       "<p>123 rows × 2 columns</p>\n",
       "</div>"
      ],
      "text/plain": [
       "                        id_desinformacion  \\\n",
       "0    01b9fab2-a803-3e87-81ae-dca6e446bc10   \n",
       "1    052a2752-d7aa-4200-bf6e-5c45b25f95e3   \n",
       "2    094e30cf-9b1f-39a7-ba4a-a31a92986fc9   \n",
       "3    0997b7ee-342f-44eb-bb83-93688fbb3334   \n",
       "4    0f159b5a-862a-3d27-a1a2-8af4dd73b3e2   \n",
       "..                                    ...   \n",
       "125  edc2678b-589d-3c78-a570-87c66c1839f4   \n",
       "126  f254fd8e-7437-4b82-af10-de4bb5885368   \n",
       "127  f61ed23b-80af-3704-a162-423858c99a6b   \n",
       "128  fc0880f3-96c4-3da1-ad4a-b6b7c325fcc6   \n",
       "129  fe77a823-f615-39dc-87a1-a9170dc0a0f0   \n",
       "\n",
       "                             id_factcheck  \n",
       "0    211e8715-39fb-3976-992d-06931c10b2c3  \n",
       "1    ec42d7fc-d1f3-3853-8142-addf7e22ab20  \n",
       "2    4cbcd132-130d-3567-9dae-2ee72d506a4d  \n",
       "3    9709aef0-2b6d-351a-b214-5481d2791b49  \n",
       "4    f5bb26ed-cd30-312b-b384-e4d1b73d562c  \n",
       "..                                    ...  \n",
       "125  4d98b616-e6b3-35f2-8acc-5c76797f437e  \n",
       "126  a2339a94-786a-37a4-9e7c-0bbe005bc686  \n",
       "127  c608c385-b403-3bca-b3d1-a29240aa2712  \n",
       "128  0168c9a6-c619-3a47-a65d-4f05788dcca6  \n",
       "129  24e344a7-8062-41a7-8f02-b555b9baff29  \n",
       "\n",
       "[123 rows x 2 columns]"
      ]
     },
     "execution_count": 45,
     "metadata": {},
     "output_type": "execute_result"
    }
   ],
   "source": [
    "social_id[['id_desinformacion', 'id_factcheck']].drop_duplicates()"
   ]
  }
 ],
 "metadata": {
  "kernelspec": {
   "display_name": "Python 3",
   "language": "python",
   "name": "python3"
  },
  "language_info": {
   "codemirror_mode": {
    "name": "ipython",
    "version": 3
   },
   "file_extension": ".py",
   "mimetype": "text/x-python",
   "name": "python",
   "nbconvert_exporter": "python",
   "pygments_lexer": "ipython3",
   "version": "3.8.3"
  }
 },
 "nbformat": 4,
 "nbformat_minor": 4
}
