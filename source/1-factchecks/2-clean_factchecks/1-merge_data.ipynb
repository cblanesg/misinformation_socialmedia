{
 "cells": [
  {
   "cell_type": "code",
   "execution_count": 1,
   "metadata": {},
   "outputs": [],
   "source": [
    "import pandas as pd"
   ]
  },
  {
   "cell_type": "code",
   "execution_count": 17,
   "metadata": {},
   "outputs": [],
   "source": [
    "import warnings\n",
    "warnings.filterwarnings(\"ignore\")"
   ]
  },
  {
   "cell_type": "code",
   "execution_count": 55,
   "metadata": {},
   "outputs": [],
   "source": [
    "def load_post_factchecks():\n",
    "    posts_factchecks = pd.read_excel('../../../data/1-factechecks/1-posts_factchecks/factchekers_check.xlsx').drop('Unnamed: 0', axis = 1)[['id_factcheck', \n",
    "                 'post_factcheck', \n",
    "                 'date_factcheck_facebook']].rename(columns = {'post_factcheck':'link_post_factcheck'})\n",
    "    \n",
    "    africa_posts = pd.read_excel('../../../data/1-factechecks/1-posts_factchecks/africacheck_matches.xlsx')\n",
    "    africa_posts[africa_posts['no_socialmedia_factcheck'] == 0]\n",
    "    \n",
    "    africa_posts['post_factcheck'] = None\n",
    "    africa_posts = africa_posts.drop('Unnamed: 0', axis = 1)[['id_factcheck', \n",
    "                 'post_factcheck', \n",
    "                 'date_factcheck_facebook']].rename(columns = {'post_factcheck':'link_post_factcheck'})\n",
    "    africa_posts = africa_posts[list(posts_factchecks.columns)]\n",
    "    africa_posts = africa_posts[~africa_posts['date_factcheck_facebook'].isna()]\n",
    "    all_posts = pd.concat([posts_factchecks, africa_posts])\n",
    "    all_posts = all_posts.dropna()\n",
    "    all_posts = all_posts.drop_duplicates('id_factcheck', keep = 'first')\n",
    "    return(all_posts)\n",
    "    \n",
    "    "
   ]
  },
  {
   "cell_type": "markdown",
   "metadata": {},
   "source": [
    "## Load and Merge Data"
   ]
  },
  {
   "cell_type": "code",
   "execution_count": 63,
   "metadata": {},
   "outputs": [],
   "source": [
    "posts = load_post_factchecks()\n",
    "factchecks = pd.read_excel('../../../data/1-factechecks/0-factchecks/factchecks.xlsx').drop('Unnamed: 0', axis = 1)"
   ]
  },
  {
   "cell_type": "code",
   "execution_count": 64,
   "metadata": {},
   "outputs": [
    {
     "data": {
      "text/plain": [
       "(4139, 120)"
      ]
     },
     "execution_count": 64,
     "metadata": {},
     "output_type": "execute_result"
    }
   ],
   "source": [
    "len(factchecks), len(posts)"
   ]
  },
  {
   "cell_type": "code",
   "execution_count": 66,
   "metadata": {
    "scrolled": true
   },
   "outputs": [],
   "source": [
    "factcheck_data = pd.merge(left = factchecks, \n",
    "        right = posts, \n",
    "        on = 'id_factcheck', \n",
    "        how = 'left')"
   ]
  },
  {
   "cell_type": "code",
   "execution_count": 67,
   "metadata": {},
   "outputs": [],
   "source": [
    "factcheck_data.to_excel('/Users/cblanesg/misinformation_socialmedia/data/1-factechecks/2-clean_factchecks/data_factchecks.xlsx')"
   ]
  }
 ],
 "metadata": {
  "kernelspec": {
   "display_name": "Python 3",
   "language": "python",
   "name": "python3"
  },
  "language_info": {
   "codemirror_mode": {
    "name": "ipython",
    "version": 3
   },
   "file_extension": ".py",
   "mimetype": "text/x-python",
   "name": "python",
   "nbconvert_exporter": "python",
   "pygments_lexer": "ipython3",
   "version": "3.8.3"
  }
 },
 "nbformat": 4,
 "nbformat_minor": 4
}
