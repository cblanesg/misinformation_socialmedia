{
 "cells": [
  {
   "cell_type": "code",
   "execution_count": 90,
   "metadata": {},
   "outputs": [],
   "source": [
    "import pandas as pd\n",
    "import requests\n",
    "from tqdm import tqdm\n",
    "import numpy as np"
   ]
  },
  {
   "cell_type": "code",
   "execution_count": 6,
   "metadata": {},
   "outputs": [],
   "source": [
    "api_dashboard = 'V6lMawCCbCP2rShqtU3TmYCY3Em1Osd8I2DLYxwr'"
   ]
  },
  {
   "cell_type": "markdown",
   "metadata": {},
   "source": [
    "## Functions"
   ]
  },
  {
   "cell_type": "code",
   "execution_count": 49,
   "metadata": {},
   "outputs": [],
   "source": [
    "def load_factchecks():\n",
    "    factchecks = pd.read_excel('../../../data/1-factchecks/2-clean_factchecks/subset_factchecks_data.xlsx')\n",
    "    factchecks = factchecks.drop(['Unnamed: 0'], axis = 1)\n",
    "    return(factchecks)\n",
    "\n",
    "def obtain_engagement(link, id_factcheck):\n",
    "    \n",
    "    api_dashboard = 'V6lMawCCbCP2rShqtU3TmYCY3Em1Osd8I2DLYxwr'\n",
    "    \n",
    "    URL_BASE = \"https://api.crowdtangle.com/links\"\n",
    "    PARAMS = {'link': link, 'count': 1000,'token': api_dashboard, 'platforms': 'facebook'}\n",
    "    \n",
    "    r = requests.get(url = URL_BASE, params=PARAMS)\n",
    "    data = r.json()\n",
    "    try:\n",
    "        df = pd.DataFrame(data['result']['posts'])\n",
    "        df['id_factcheck'] = id_factcheck\n",
    "        return(df)\n",
    "    except:\n",
    "        pass"
   ]
  },
  {
   "cell_type": "code",
   "execution_count": 67,
   "metadata": {},
   "outputs": [],
   "source": [
    "def obtain_stats(all_engaements):\n",
    "    users = all_engaements[['id', 'id_factcheck']].groupby(['id_factcheck']).count().reset_index().rename(columns = {'id':'number_users'})\n",
    "    \n",
    "    all_engaements['interactions'] = all_engaements['statistics'].apply(lambda x: sum(x['actual'].values()))\n",
    "    interactions = all_engaements[['interactions', 'id_factcheck']].groupby(['id_factcheck']).sum().reset_index()\n",
    "    \n",
    "    stats_df = pd.merge(left= users, \n",
    "            right = interactions, \n",
    "            on = 'id_factcheck', \n",
    "            how = 'outer')\n",
    "    \n",
    "    stats_df['total_engagement'] = stats_df.apply(lambda x: x['number_users'] + \n",
    "                                                  x['interactions'], axis = 1)\n",
    "    return(stats_df)\n",
    "    \n",
    "    "
   ]
  },
  {
   "cell_type": "markdown",
   "metadata": {},
   "source": [
    "## Apply Functions"
   ]
  },
  {
   "cell_type": "code",
   "execution_count": 23,
   "metadata": {},
   "outputs": [],
   "source": [
    "factchecks = load_factchecks()"
   ]
  },
  {
   "cell_type": "code",
   "execution_count": 50,
   "metadata": {},
   "outputs": [
    {
     "name": "stderr",
     "output_type": "stream",
     "text": [
      "100%|██████████| 562/562 [17:06<00:00,  1.83s/it]\n"
     ]
    }
   ],
   "source": [
    "df_engagements = []\n",
    "for x, y in tqdm(zip(factchecks.link_chequeo, factchecks.id_factcheck), total = len(factchecks)):\n",
    "    df_engagements.append(obtain_engagement(x, y))\n"
   ]
  },
  {
   "cell_type": "code",
   "execution_count": 51,
   "metadata": {},
   "outputs": [],
   "source": [
    "all_engaements = pd.concat(df_engagements)"
   ]
  },
  {
   "cell_type": "code",
   "execution_count": 68,
   "metadata": {
    "scrolled": true
   },
   "outputs": [],
   "source": [
    "stat_engagements = obtain_stats(all_engaements)"
   ]
  },
  {
   "cell_type": "code",
   "execution_count": 100,
   "metadata": {
    "scrolled": true
   },
   "outputs": [],
   "source": [
    "complete_data = pd.merge(left = factchecks, \n",
    "        right = stat_engagements, \n",
    "        on = 'id_factcheck', \n",
    "        how = 'left')\n"
   ]
  },
  {
   "cell_type": "code",
   "execution_count": 101,
   "metadata": {
    "scrolled": true
   },
   "outputs": [],
   "source": [
    "complete_data['total_engagement'] = complete_data['total_engagement'].fillna(0)"
   ]
  },
  {
   "cell_type": "code",
   "execution_count": 102,
   "metadata": {},
   "outputs": [],
   "source": [
    "complete_data['above_median'] = np.where(complete_data['total_engagement'] > complete_data.total_engagement.median(), 1, 0)"
   ]
  },
  {
   "cell_type": "code",
   "execution_count": 104,
   "metadata": {},
   "outputs": [],
   "source": [
    "complete_data.to_excel('../../../data/1-factchecks/2-clean_factchecks/factchecks_engagements.xlsx')"
   ]
  }
 ],
 "metadata": {
  "kernelspec": {
   "display_name": "Python 3",
   "language": "python",
   "name": "python3"
  },
  "language_info": {
   "codemirror_mode": {
    "name": "ipython",
    "version": 3
   },
   "file_extension": ".py",
   "mimetype": "text/x-python",
   "name": "python",
   "nbconvert_exporter": "python",
   "pygments_lexer": "ipython3",
   "version": "3.8.3"
  }
 },
 "nbformat": 4,
 "nbformat_minor": 4
}
