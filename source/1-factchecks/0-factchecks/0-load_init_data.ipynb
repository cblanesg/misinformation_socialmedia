{
 "cells": [
  {
   "cell_type": "code",
   "execution_count": 72,
   "metadata": {},
   "outputs": [],
   "source": [
    "import pandas as pd\n",
    "from os import listdir\n",
    "import uuid\n",
    "from datetime import date\n",
    "import datetime\n",
    "import numpy as np\n",
    "import re"
   ]
  },
  {
   "cell_type": "code",
   "execution_count": 11,
   "metadata": {},
   "outputs": [],
   "source": [
    "import warnings\n",
    "warnings.filterwarnings(\"ignore\")"
   ]
  },
  {
   "cell_type": "markdown",
   "metadata": {},
   "source": [
    "## Functions"
   ]
  },
  {
   "cell_type": "code",
   "execution_count": 12,
   "metadata": {},
   "outputs": [],
   "source": [
    "def assign_date_partnership(organizacion):\n",
    "    dict_poynters = {'africa_check':datetime.date(2019, 8, 15), \n",
    "                    'la_silla_vacia':datetime.date(2020, 1, 31),\n",
    "                     'chequeado':datetime.date(2018, 5, 1),\n",
    "                     'animalpolitico':datetime.date(2018, 3, 1),\n",
    "                     'colombiacheck': datetime.date(2020, 9, 28),\n",
    "                     'ecuador_chequea':datetime.date(2020, 4, 1),\n",
    "                     'larepublica':datetime.date(2020, 6, 1),\n",
    "                    }\n",
    "    \n",
    "    if organizacion in dict_poynters.keys():\n",
    "        return(dict_poynters[organizacion])\n",
    "    else:\n",
    "        return(np.nan)\n",
    "\n",
    "def poynter_any_time(organizacion):\n",
    "    dict_poynters = {'africa_check':datetime.date(2019, 8, 15), \n",
    "                    'la_silla_vacia':datetime.date(2020, 1, 31),\n",
    "                     'chequeado':datetime.date(2018, 5, 1),\n",
    "                     'animalpolitico':datetime.date(2018, 3, 1),\n",
    "                     'colombiacheck': datetime.date(2020, 9, 28),\n",
    "                     'ecuador_chequea':datetime.date(2020, 4, 1),\n",
    "                     'larepublica':datetime.date(2020, 6, 1),\n",
    "                    }\n",
    "    \n",
    "    if organizacion in dict_poynters.keys():\n",
    "        return(1)\n",
    "    else:\n",
    "        return(0)"
   ]
  },
  {
   "cell_type": "code",
   "execution_count": 64,
   "metadata": {},
   "outputs": [],
   "source": [
    "def include_missing_data():\n",
    "    newspapers = pd.read_excel('/Users/cblanesg/cam.blanes Dropbox/Camila Blanes/Bolivia_Project/data/13-fact-checks_virality/00-raw/missing_factchecks_links_newspapers.xlsx')\n",
    "    social = pd.read_excel('/Users/cblanesg/cam.blanes Dropbox/Camila Blanes/Bolivia_Project/data/13-fact-checks_virality/00-raw/missing_factchecks_links_social.xlsx')\n",
    "    data = pd.concat([newspapers, social])\n",
    "    data = data[~data['link_chequeo'].isna()]\n",
    "    data['id_chequeo'] = data.apply(lambda x: str(uuid.uuid3(uuid.NAMESPACE_URL,x['link_chequeo'])), axis = 1)\n",
    "    return(data)"
   ]
  },
  {
   "cell_type": "code",
   "execution_count": 86,
   "metadata": {},
   "outputs": [],
   "source": [
    "def load_factchecks_newspapers():\n",
    "    path = '/Users/cblanesg/cam.blanes Dropbox/Camila Blanes/Bolivia_Project/data/04-fakenews-Repository/04-fake_news_dataset/newspapers/Fact-Checkers/'\n",
    "    data = []\n",
    "    for i in listdir(path):\n",
    "        try:\n",
    "            data.append(pd.read_excel(path + i))\n",
    "        except:\n",
    "            pass\n",
    "        \n",
    "    factchecks = pd.concat(data)\n",
    "    extra = include_missing_data()\n",
    "    \n",
    "    ## include missing factchecks\n",
    "    factchecks = factchecks[~factchecks['id_desinformacion'].isin(list(extra.id_desinformacion))]\n",
    "    factchecks = pd.concat([factchecks, extra]).drop(['Unnamed: 0'], axis = 1)\n",
    "    factchecks = factchecks[['id_chequeo', 'organizacion', 'pais', 'titulo_chequeo', 'fecha_chequeo',\n",
    "       'link_chequeo', 'id_desinformacion']]\n",
    "    factchecks['facebook_partnership_date'] = factchecks.apply(lambda x: assign_date_partnership(x['organizacion']), axis = 1)\n",
    "    factchecks['facebook_partnership'] = factchecks.apply(lambda x: poynter_any_time(x['organizacion']), axis = 1)    \n",
    "    return(factchecks)\n",
    "\n",
    "\n",
    "def load_factchecks_social():\n",
    "    path = '/Users/cblanesg/cam.blanes Dropbox/Camila Blanes/Bolivia_Project/data/04-fakenews-Repository/04-fake_news_dataset/social/Fact-Checkers/'\n",
    "    data = []\n",
    "    for i in listdir(path):\n",
    "        try:\n",
    "            data.append(pd.read_excel(path + i))\n",
    "        except:\n",
    "            pass\n",
    "        \n",
    "    factchecks = pd.concat(data)\n",
    "    extra = include_missing_data()\n",
    "    \n",
    "    ## include missing factchecks\n",
    "    factchecks = factchecks[~factchecks['id_desinformacion'].isin(list(extra.id_desinformacion))]\n",
    "    factchecks = pd.concat([factchecks, extra]).drop(['Unnamed: 0'], axis = 1)\n",
    "    factchecks = factchecks[['id_chequeo', 'organizacion', 'pais', 'titulo_chequeo', 'fecha_chequeo',\n",
    "       'link_chequeo', 'id_desinformacion']]\n",
    "    factchecks['facebook_partnership_date'] = factchecks.apply(lambda x: assign_date_partnership(x['organizacion']), axis = 1)\n",
    "    factchecks['facebook_partnership'] = factchecks.apply(lambda x: poynter_any_time(x['organizacion']), axis = 1)    \n",
    "    return(factchecks)\n",
    "\n",
    "\n",
    "def load_factchecks():\n",
    "    social = load_factchecks_social()\n",
    "    newspapers = load_factchecks_newspapers()\n",
    "    africa = include_africa_check()[list(newspapers.columns)]\n",
    "    \n",
    "    all_data = pd.concat([social, newspapers, africa])\n",
    "    all_data = all_data.drop_duplicates()\n",
    "    all_data = all_data.rename(columns = {'id_chequeo':'id_factcheck'})\n",
    "    return(all_data)\n"
   ]
  },
  {
   "cell_type": "code",
   "execution_count": 80,
   "metadata": {},
   "outputs": [],
   "source": [
    "def include_africa_check():\n",
    "    africa_check = pd.read_excel('/Users/cblanesg/cam.blanes Dropbox/Camila Blanes/Bolivia_Project/data/04-fakenews-Repository/06-virality/africa/fact_checks/fact_checks_clean.xlsx')\n",
    "    africa_check['pais'] = 'africa'\n",
    "    africa_check['organizacion'] = 'africa_check'\n",
    "    africa_check['titulo_chequeo'] = africa_check.apply(lambda x: obtain_title_chequeo(x['link_chequeo']), axis = 1)\n",
    "    africa_check['facebook_partnership_date'] = africa_check.apply(lambda x: assign_date_partnership(x['organizacion']), axis = 1)\n",
    "    africa_check['facebook_partnership'] = africa_check.apply(lambda x: poynter_any_time(x['organizacion']), axis = 1)    \n",
    "    \n",
    "    africa_check = africa_check.rename(columns = {'id_factcheck':'id_chequeo', \n",
    "                                                 'date_factcheck':'fecha_chequeo'})\n",
    "    return(africa_check)"
   ]
  },
  {
   "cell_type": "code",
   "execution_count": 74,
   "metadata": {},
   "outputs": [],
   "source": [
    "def obtain_title_chequeo(link):\n",
    "    link = re.sub('[/]$', '', link).split('/')[-1:][0]\n",
    "    link = re.sub('-', ' ', link)\n",
    "    return(link)"
   ]
  },
  {
   "cell_type": "markdown",
   "metadata": {},
   "source": [
    "## Apply functions"
   ]
  },
  {
   "cell_type": "code",
   "execution_count": 87,
   "metadata": {},
   "outputs": [],
   "source": [
    "all_data = load_factchecks()"
   ]
  },
  {
   "cell_type": "code",
   "execution_count": 90,
   "metadata": {},
   "outputs": [
    {
     "data": {
      "text/html": [
       "<div>\n",
       "<style scoped>\n",
       "    .dataframe tbody tr th:only-of-type {\n",
       "        vertical-align: middle;\n",
       "    }\n",
       "\n",
       "    .dataframe tbody tr th {\n",
       "        vertical-align: top;\n",
       "    }\n",
       "\n",
       "    .dataframe thead th {\n",
       "        text-align: right;\n",
       "    }\n",
       "</style>\n",
       "<table border=\"1\" class=\"dataframe\">\n",
       "  <thead>\n",
       "    <tr style=\"text-align: right;\">\n",
       "      <th></th>\n",
       "      <th>id_factcheck</th>\n",
       "    </tr>\n",
       "    <tr>\n",
       "      <th>id_desinformacion</th>\n",
       "      <th></th>\n",
       "    </tr>\n",
       "  </thead>\n",
       "  <tbody>\n",
       "    <tr>\n",
       "      <th>06da8c6f-e46b-3184-806e-aee131a7b92f</th>\n",
       "      <td>2</td>\n",
       "    </tr>\n",
       "    <tr>\n",
       "      <th>23070c8c-585e-3f92-9661-cf05227fd0ef</th>\n",
       "      <td>5</td>\n",
       "    </tr>\n",
       "    <tr>\n",
       "      <th>49eddb62-1f94-34c7-a79f-67f5a3a430ab</th>\n",
       "      <td>3</td>\n",
       "    </tr>\n",
       "    <tr>\n",
       "      <th>5915f43f-ab26-388e-b5f4-4e40b1958a8e</th>\n",
       "      <td>2</td>\n",
       "    </tr>\n",
       "    <tr>\n",
       "      <th>847949a6-6e6b-3d74-903f-4d903754751a</th>\n",
       "      <td>2</td>\n",
       "    </tr>\n",
       "    <tr>\n",
       "      <th>ac9c8595-5651-33b1-aacc-0404e24ccfe9</th>\n",
       "      <td>2</td>\n",
       "    </tr>\n",
       "    <tr>\n",
       "      <th>b13854c6-b0e9-3a63-aad5-891a91f7b8c7</th>\n",
       "      <td>2</td>\n",
       "    </tr>\n",
       "    <tr>\n",
       "      <th>bf35534c-56e7-3776-b705-05abb6cbe218</th>\n",
       "      <td>2</td>\n",
       "    </tr>\n",
       "    <tr>\n",
       "      <th>d8d37e06-c0ad-3341-a333-63d08f6f8ab1</th>\n",
       "      <td>2</td>\n",
       "    </tr>\n",
       "    <tr>\n",
       "      <th>e4fa4dfa-ec06-3a62-98ed-92339ef01a1c</th>\n",
       "      <td>2</td>\n",
       "    </tr>\n",
       "    <tr>\n",
       "      <th>e7aa8366-45ce-363b-8565-92df9330538d</th>\n",
       "      <td>2</td>\n",
       "    </tr>\n",
       "    <tr>\n",
       "      <th>fb8f83c1-8acd-3549-9179-c19a5c5da673</th>\n",
       "      <td>2</td>\n",
       "    </tr>\n",
       "  </tbody>\n",
       "</table>\n",
       "</div>"
      ],
      "text/plain": [
       "                                      id_factcheck\n",
       "id_desinformacion                                 \n",
       "06da8c6f-e46b-3184-806e-aee131a7b92f             2\n",
       "23070c8c-585e-3f92-9661-cf05227fd0ef             5\n",
       "49eddb62-1f94-34c7-a79f-67f5a3a430ab             3\n",
       "5915f43f-ab26-388e-b5f4-4e40b1958a8e             2\n",
       "847949a6-6e6b-3d74-903f-4d903754751a             2\n",
       "ac9c8595-5651-33b1-aacc-0404e24ccfe9             2\n",
       "b13854c6-b0e9-3a63-aad5-891a91f7b8c7             2\n",
       "bf35534c-56e7-3776-b705-05abb6cbe218             2\n",
       "d8d37e06-c0ad-3341-a333-63d08f6f8ab1             2\n",
       "e4fa4dfa-ec06-3a62-98ed-92339ef01a1c             2\n",
       "e7aa8366-45ce-363b-8565-92df9330538d             2\n",
       "fb8f83c1-8acd-3549-9179-c19a5c5da673             2"
      ]
     },
     "execution_count": 90,
     "metadata": {},
     "output_type": "execute_result"
    }
   ],
   "source": [
    "## misinformations with more than one factcheck\n",
    "all_data[['id_desinformacion', 'id_factcheck']].dropna().groupby(['id_desinformacion']).count()[all_data[['id_desinformacion', 'id_factcheck']].dropna().groupby(['id_desinformacion']).count()['id_factcheck'] > 1]"
   ]
  },
  {
   "cell_type": "markdown",
   "metadata": {},
   "source": [
    "## Save Data"
   ]
  },
  {
   "cell_type": "code",
   "execution_count": 91,
   "metadata": {},
   "outputs": [],
   "source": [
    "all_data.to_excel('/Users/cblanesg/misinformation_socialmedia/data/1-factechecks/0-factchecks/factchecks.xlsx')"
   ]
  }
 ],
 "metadata": {
  "kernelspec": {
   "display_name": "Python 3",
   "language": "python",
   "name": "python3"
  },
  "language_info": {
   "codemirror_mode": {
    "name": "ipython",
    "version": 3
   },
   "file_extension": ".py",
   "mimetype": "text/x-python",
   "name": "python",
   "nbconvert_exporter": "python",
   "pygments_lexer": "ipython3",
   "version": "3.8.3"
  }
 },
 "nbformat": 4,
 "nbformat_minor": 4
}
