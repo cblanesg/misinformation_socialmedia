{
 "cells": [
  {
   "cell_type": "code",
   "execution_count": 185,
   "metadata": {},
   "outputs": [],
   "source": [
    "import pandas as pd\n",
    "from os import listdir\n",
    "import uuid\n",
    "from datetime import date\n",
    "import numpy as np\n",
    "import re\n",
    "from datetime import datetime\n",
    "from tqdm import tqdm\n",
    "from fuzzywuzzy import process"
   ]
  },
  {
   "cell_type": "code",
   "execution_count": 7,
   "metadata": {},
   "outputs": [],
   "source": [
    "import warnings\n",
    "warnings.filterwarnings(\"ignore\")"
   ]
  },
  {
   "cell_type": "markdown",
   "metadata": {},
   "source": [
    "## Functions"
   ]
  },
  {
   "cell_type": "code",
   "execution_count": null,
   "metadata": {},
   "outputs": [],
   "source": [
    "def dummy_facebook_date(x):\n",
    "    if pd.isna(x):\n",
    "        return(0)\n",
    "    else:\n",
    "        return(1)\n",
    "\n",
    "def load_africa_post_matches():\n",
    "    africa = pd.read_excel('../../../data/1-factchecks/1-posts_factchecks/africacheck_matches.xlsx')\n",
    "    africa = africa[africa['no_socialmedia_factcheck'] == 1][['id_factcheck', 'date_factcheck_facebook']]\n",
    "    africa['date_factcheck_facebook'] = africa['date_factcheck_facebook'].apply(lambda x: datetime.strptime(re.sub(' CST| CDT', '', x), '%Y-%m-%d %H:%M:%S').date())\n",
    "    africa['post_facebook_factcheck'] = None\n",
    "    return(africa)\n",
    "\n",
    "\n",
    "def load_latam_post_matches():\n",
    "    latam = pd.read_excel('../../../data/1-factchecks/1-posts_factchecks/factchekers_check.xlsx')\n",
    "    latam = latam[latam['socialmedia_factcheck'] == 1][['id_factcheck', 'post_factcheck','date_factcheck_facebook']]\n",
    "    latam = latam.rename(columns = {'post_factcheck':'post_facebook_factcheck'})\n",
    "    latam['date_factcheck_facebook'] = latam['date_factcheck_facebook'].apply(lambda x: datetime.strptime(re.sub(' CST| CDT', '', x), '%Y-%m-%d %H:%M:%S').date())    \n",
    "    return(latam)\n",
    "\n",
    "def load_post_matches():\n",
    "    africa = load_africa_post_matches()\n",
    "    latam = load_latam_post_matches()\n",
    "    return(pd.concat([africa, latam]))"
   ]
  },
  {
   "cell_type": "code",
   "execution_count": 11,
   "metadata": {},
   "outputs": [],
   "source": [
    "def assign_date_partnership(organizacion):\n",
    "    dict_poynters = {'africa_check':datetime.date(2019, 8, 15), \n",
    "                    'la_silla_vacia':datetime.date(2020, 1, 31),\n",
    "                     'chequeado':datetime.date(2018, 5, 1),\n",
    "                     'animalpolitico':datetime.date(2018, 3, 1),\n",
    "                     'colombiacheck': datetime.date(2020, 9, 28),\n",
    "                     'ecuador_chequea':datetime.date(2020, 4, 1),\n",
    "                     'larepublica':datetime.date(2020, 6, 1),\n",
    "                    }\n",
    "    \n",
    "    if organizacion in dict_poynters.keys():\n",
    "        return(dict_poynters[organizacion])\n",
    "    else:\n",
    "        return(np.nan)\n",
    "\n",
    "def poynter_any_time(organizacion):\n",
    "    dict_poynters = {'africa_check':datetime.date(2019, 8, 15), \n",
    "                    'la_silla_vacia':datetime.date(2020, 1, 31),\n",
    "                     'chequeado':datetime.date(2018, 5, 1),\n",
    "                     'animalpolitico':datetime.date(2018, 3, 1),\n",
    "                     'colombiacheck': datetime.date(2020, 9, 28),\n",
    "                     'ecuador_chequea':datetime.date(2020, 4, 1),\n",
    "                     'larepublica':datetime.date(2020, 6, 1),\n",
    "                    }\n",
    "    \n",
    "    if organizacion in dict_poynters.keys():\n",
    "        return(1)\n",
    "    else:\n",
    "        return(0)"
   ]
  },
  {
   "cell_type": "code",
   "execution_count": 12,
   "metadata": {},
   "outputs": [],
   "source": [
    "def include_missing_data():\n",
    "    newspapers = pd.read_excel('/Users/cblanesg/cam.blanes Dropbox/Camila Blanes/Bolivia_Project/data/13-fact-checks_virality/00-raw/missing_factchecks_links_newspapers.xlsx')\n",
    "    social = pd.read_excel('/Users/cblanesg/cam.blanes Dropbox/Camila Blanes/Bolivia_Project/data/13-fact-checks_virality/00-raw/missing_factchecks_links_social.xlsx')\n",
    "    data = pd.concat([newspapers, social])\n",
    "    data = data[~data['link_chequeo'].isna()]\n",
    "    data['id_chequeo'] = data.apply(lambda x: str(uuid.uuid3(uuid.NAMESPACE_URL,x['link_chequeo'])), axis = 1)\n",
    "    return(data)"
   ]
  },
  {
   "cell_type": "code",
   "execution_count": 15,
   "metadata": {},
   "outputs": [],
   "source": [
    "def load_factchecks_newspapers():\n",
    "    path = '/Users/cblanesg/cam.blanes Dropbox/Camila Blanes/Bolivia_Project/data/04-fakenews-Repository/04-fake_news_dataset/newspapers/Fact-Checkers/'\n",
    "    data = []\n",
    "    for i in listdir(path):\n",
    "        try:\n",
    "            data.append(pd.read_excel(path + i))\n",
    "        except:\n",
    "            pass\n",
    "        \n",
    "    factchecks = pd.concat(data)\n",
    "    extra = include_missing_data()\n",
    "    \n",
    "    ## include missing factchecks\n",
    "    factchecks = factchecks[~factchecks['id_desinformacion'].isin(list(extra.id_desinformacion))]\n",
    "    factchecks = pd.concat([factchecks, extra]).drop(['Unnamed: 0'], axis = 1)\n",
    "    factchecks = factchecks[['id_chequeo', 'organizacion', 'pais', 'titulo_chequeo', 'fecha_chequeo',\n",
    "       'link_chequeo', 'id_desinformacion']]\n",
    "    factchecks['facebook_partnership_date'] = factchecks.apply(lambda x: assign_date_partnership(x['organizacion']), axis = 1)\n",
    "    factchecks['facebook_partnership'] = factchecks.apply(lambda x: poynter_any_time(x['organizacion']), axis = 1)    \n",
    "    return(factchecks)\n",
    "\n",
    "\n",
    "def load_factchecks_social():\n",
    "    path = '/Users/cblanesg/cam.blanes Dropbox/Camila Blanes/Bolivia_Project/data/04-fakenews-Repository/04-fake_news_dataset/social/Fact-Checkers/'\n",
    "    data = []\n",
    "    for i in listdir(path):\n",
    "        try:\n",
    "            data.append(pd.read_excel(path + i))\n",
    "        except:\n",
    "            pass\n",
    "        \n",
    "    factchecks = pd.concat(data)\n",
    "    extra = include_missing_data()\n",
    "    \n",
    "    ## include missing factchecks\n",
    "    factchecks = factchecks[~factchecks['id_desinformacion'].isin(list(extra.id_desinformacion))]\n",
    "    factchecks = pd.concat([factchecks, extra]).drop(['Unnamed: 0'], axis = 1)\n",
    "    factchecks = factchecks[['id_chequeo', 'organizacion', 'pais', 'titulo_chequeo', 'fecha_chequeo',\n",
    "       'link_chequeo', 'id_desinformacion']]\n",
    "    factchecks['facebook_partnership_date'] = factchecks.apply(lambda x: assign_date_partnership(x['organizacion']), axis = 1)\n",
    "    factchecks['facebook_partnership'] = factchecks.apply(lambda x: poynter_any_time(x['organizacion']), axis = 1)    \n",
    "    return(factchecks)\n",
    "\n",
    "\n",
    "def load_factchecks():\n",
    "    social = load_factchecks_social()\n",
    "    social['type_factcheck'] = 'social_media'\n",
    "    newspapers = load_factchecks_newspapers()\n",
    "    newspapers['type_factcheck'] = 'medios_tradicionales'\n",
    "    africa = include_africa_check().rename(columns = {'source_type':'type_factcheck'})[list(newspapers.columns)]\n",
    "    \n",
    "    all_data = pd.concat([social, newspapers, africa])\n",
    "    all_data = all_data.drop_duplicates()\n",
    "    all_data = all_data.rename(columns = {'id_chequeo':'id_factcheck'})\n",
    "    return(all_data)\n"
   ]
  },
  {
   "cell_type": "code",
   "execution_count": 4,
   "metadata": {},
   "outputs": [],
   "source": [
    "def include_africa_check():\n",
    "    africa_check = pd.read_excel('/Users/cblanesg/cam.blanes Dropbox/Camila Blanes/Bolivia_Project/data/04-fakenews-Repository/06-virality/africa/fact_checks/fact_checks_clean.xlsx')\n",
    "    africa_check['pais'] = 'africa'\n",
    "    africa_check['organizacion'] = 'africa_check'\n",
    "    africa_check['titulo_chequeo'] = africa_check.apply(lambda x: obtain_title_chequeo(x['link_chequeo']), axis = 1)\n",
    "    africa_check['facebook_partnership_date'] = africa_check.apply(lambda x: assign_date_partnership(x['organizacion']), axis = 1)\n",
    "    africa_check['facebook_partnership'] = africa_check.apply(lambda x: poynter_any_time(x['organizacion']), axis = 1)    \n",
    "    \n",
    "    africa_check = africa_check.rename(columns = {'id_factcheck':'id_chequeo', \n",
    "                                                 'date_factcheck':'fecha_chequeo'})\n",
    "    return(africa_check)"
   ]
  },
  {
   "cell_type": "code",
   "execution_count": 9,
   "metadata": {},
   "outputs": [],
   "source": [
    "def obtain_title_chequeo(link):\n",
    "    link = re.sub('[/]$', '', link).split('/')[-1:][0]\n",
    "    link = re.sub('-', ' ', link)\n",
    "    return(link)"
   ]
  },
  {
   "cell_type": "markdown",
   "metadata": {},
   "source": [
    "## Apply functions"
   ]
  },
  {
   "cell_type": "code",
   "execution_count": 17,
   "metadata": {},
   "outputs": [],
   "source": [
    "all_data = load_factchecks()"
   ]
  },
  {
   "cell_type": "code",
   "execution_count": 140,
   "metadata": {
    "scrolled": true
   },
   "outputs": [
    {
     "data": {
      "text/html": [
       "<div>\n",
       "<style scoped>\n",
       "    .dataframe tbody tr th:only-of-type {\n",
       "        vertical-align: middle;\n",
       "    }\n",
       "\n",
       "    .dataframe tbody tr th {\n",
       "        vertical-align: top;\n",
       "    }\n",
       "\n",
       "    .dataframe thead th {\n",
       "        text-align: right;\n",
       "    }\n",
       "</style>\n",
       "<table border=\"1\" class=\"dataframe\">\n",
       "  <thead>\n",
       "    <tr style=\"text-align: right;\">\n",
       "      <th></th>\n",
       "      <th>id_factcheck</th>\n",
       "      <th>organizacion</th>\n",
       "      <th>pais</th>\n",
       "      <th>titulo_chequeo</th>\n",
       "      <th>fecha_chequeo</th>\n",
       "      <th>link_chequeo</th>\n",
       "      <th>id_desinformacion</th>\n",
       "      <th>facebook_partnership_date</th>\n",
       "      <th>facebook_partnership</th>\n",
       "      <th>type_factcheck</th>\n",
       "    </tr>\n",
       "  </thead>\n",
       "  <tbody>\n",
       "    <tr>\n",
       "      <th>0</th>\n",
       "      <td>2c51a443-dcfe-3fdc-b901-79566bb18dd0</td>\n",
       "      <td>larepublica</td>\n",
       "      <td>peru</td>\n",
       "      <td>cafe haiti es falso que el cafe haiti de miraf...</td>\n",
       "      <td>2020-05-08 00:00:00</td>\n",
       "      <td>https://larepublica.pe/verificador/2020/08/05/...</td>\n",
       "      <td>NaN</td>\n",
       "      <td>2020-06-01</td>\n",
       "      <td>1</td>\n",
       "      <td>social_media</td>\n",
       "    </tr>\n",
       "    <tr>\n",
       "      <th>1</th>\n",
       "      <td>1718b0ab-d593-3704-a78a-bb095d6ecb14</td>\n",
       "      <td>larepublica</td>\n",
       "      <td>peru</td>\n",
       "      <td>areas de aislamiento es falsa la publicacion d...</td>\n",
       "      <td>2020-05-08 00:00:00</td>\n",
       "      <td>https://larepublica.pe/verificador/2020/08/05/...</td>\n",
       "      <td>NaN</td>\n",
       "      <td>2020-06-01</td>\n",
       "      <td>1</td>\n",
       "      <td>social_media</td>\n",
       "    </tr>\n",
       "    <tr>\n",
       "      <th>2</th>\n",
       "      <td>3c167832-8e73-330a-ab8a-19b219f79dfc</td>\n",
       "      <td>larepublica</td>\n",
       "      <td>peru</td>\n",
       "      <td>dioxido de cloro es imprecisa la publicacion d...</td>\n",
       "      <td>2020-04-08 00:00:00</td>\n",
       "      <td>https://larepublica.pe/verificador/2020/08/04/...</td>\n",
       "      <td>NaN</td>\n",
       "      <td>2020-06-01</td>\n",
       "      <td>1</td>\n",
       "      <td>social_media</td>\n",
       "    </tr>\n",
       "    <tr>\n",
       "      <th>3</th>\n",
       "      <td>656ae72f-a364-353d-813a-dd24472479a6</td>\n",
       "      <td>larepublica</td>\n",
       "      <td>peru</td>\n",
       "      <td>5g es falso que foto es de vacuna china con ar...</td>\n",
       "      <td>2020-03-08 00:00:00</td>\n",
       "      <td>https://larepublica.pe/verificador/2020/08/03/...</td>\n",
       "      <td>NaN</td>\n",
       "      <td>2020-06-01</td>\n",
       "      <td>1</td>\n",
       "      <td>social_media</td>\n",
       "    </tr>\n",
       "    <tr>\n",
       "      <th>4</th>\n",
       "      <td>6fcce096-cf30-3f7c-ae86-591590d024e6</td>\n",
       "      <td>larepublica</td>\n",
       "      <td>peru</td>\n",
       "      <td>coronavirus es impreciso afirmar que colegio m...</td>\n",
       "      <td>2020-03-08 00:00:00</td>\n",
       "      <td>https://larepublica.pe/verificador/2020/08/03/...</td>\n",
       "      <td>NaN</td>\n",
       "      <td>2020-06-01</td>\n",
       "      <td>1</td>\n",
       "      <td>social_media</td>\n",
       "    </tr>\n",
       "  </tbody>\n",
       "</table>\n",
       "</div>"
      ],
      "text/plain": [
       "                           id_factcheck organizacion  pais  \\\n",
       "0  2c51a443-dcfe-3fdc-b901-79566bb18dd0  larepublica  peru   \n",
       "1  1718b0ab-d593-3704-a78a-bb095d6ecb14  larepublica  peru   \n",
       "2  3c167832-8e73-330a-ab8a-19b219f79dfc  larepublica  peru   \n",
       "3  656ae72f-a364-353d-813a-dd24472479a6  larepublica  peru   \n",
       "4  6fcce096-cf30-3f7c-ae86-591590d024e6  larepublica  peru   \n",
       "\n",
       "                                      titulo_chequeo        fecha_chequeo  \\\n",
       "0  cafe haiti es falso que el cafe haiti de miraf...  2020-05-08 00:00:00   \n",
       "1  areas de aislamiento es falsa la publicacion d...  2020-05-08 00:00:00   \n",
       "2  dioxido de cloro es imprecisa la publicacion d...  2020-04-08 00:00:00   \n",
       "3  5g es falso que foto es de vacuna china con ar...  2020-03-08 00:00:00   \n",
       "4  coronavirus es impreciso afirmar que colegio m...  2020-03-08 00:00:00   \n",
       "\n",
       "                                        link_chequeo id_desinformacion  \\\n",
       "0  https://larepublica.pe/verificador/2020/08/05/...               NaN   \n",
       "1  https://larepublica.pe/verificador/2020/08/05/...               NaN   \n",
       "2  https://larepublica.pe/verificador/2020/08/04/...               NaN   \n",
       "3  https://larepublica.pe/verificador/2020/08/03/...               NaN   \n",
       "4  https://larepublica.pe/verificador/2020/08/03/...               NaN   \n",
       "\n",
       "  facebook_partnership_date  facebook_partnership type_factcheck  \n",
       "0                2020-06-01                     1   social_media  \n",
       "1                2020-06-01                     1   social_media  \n",
       "2                2020-06-01                     1   social_media  \n",
       "3                2020-06-01                     1   social_media  \n",
       "4                2020-06-01                     1   social_media  "
      ]
     },
     "execution_count": 140,
     "metadata": {},
     "output_type": "execute_result"
    }
   ],
   "source": [
    "all_data.head()"
   ]
  },
  {
   "cell_type": "markdown",
   "metadata": {},
   "source": [
    "## Search for Facebook Post"
   ]
  },
  {
   "cell_type": "code",
   "execution_count": 107,
   "metadata": {
    "scrolled": true
   },
   "outputs": [],
   "source": [
    "matches_post = load_post_matches()"
   ]
  },
  {
   "cell_type": "code",
   "execution_count": 122,
   "metadata": {
    "scrolled": true
   },
   "outputs": [],
   "source": [
    "factchecks_data = pd.merge(left = all_data, \n",
    "        right = matches_post, \n",
    "        on = 'id_factcheck', \n",
    "        how = 'left').drop_duplicates()"
   ]
  },
  {
   "cell_type": "code",
   "execution_count": 127,
   "metadata": {},
   "outputs": [],
   "source": [
    "factchecks_data = factchecks_data[['id_factcheck', 'type_factcheck','organizacion', 'pais',\n",
    "                 'facebook_partnership_date', 'facebook_partnership',\n",
    "                'titulo_chequeo', 'link_chequeo', \n",
    "                 'fecha_chequeo', 'post_facebook_factcheck', 'date_factcheck_facebook', \n",
    "                'id_desinformacion']].rename(columns = {'post_facebook_factcheck':'link_facebook_factcheck'})"
   ]
  },
  {
   "cell_type": "code",
   "execution_count": 135,
   "metadata": {},
   "outputs": [],
   "source": [
    "factchecks_data['dummy_facebook_date'] = factchecks_data['date_factcheck_facebook'].apply(lambda x: dummy_facebook_date(x))"
   ]
  },
  {
   "cell_type": "code",
   "execution_count": 133,
   "metadata": {},
   "outputs": [],
   "source": [
    "def dummy_facebook_date(x):\n",
    "    if pd.isna(x):\n",
    "        return(0)\n",
    "    else:\n",
    "        return(1)"
   ]
  },
  {
   "cell_type": "code",
   "execution_count": 136,
   "metadata": {},
   "outputs": [
    {
     "data": {
      "text/html": [
       "<div>\n",
       "<style scoped>\n",
       "    .dataframe tbody tr th:only-of-type {\n",
       "        vertical-align: middle;\n",
       "    }\n",
       "\n",
       "    .dataframe tbody tr th {\n",
       "        vertical-align: top;\n",
       "    }\n",
       "\n",
       "    .dataframe thead th {\n",
       "        text-align: right;\n",
       "    }\n",
       "</style>\n",
       "<table border=\"1\" class=\"dataframe\">\n",
       "  <thead>\n",
       "    <tr style=\"text-align: right;\">\n",
       "      <th></th>\n",
       "      <th>id_factcheck</th>\n",
       "    </tr>\n",
       "    <tr>\n",
       "      <th>dummy_facebook_date</th>\n",
       "      <th></th>\n",
       "    </tr>\n",
       "  </thead>\n",
       "  <tbody>\n",
       "    <tr>\n",
       "      <th>0</th>\n",
       "      <td>3844</td>\n",
       "    </tr>\n",
       "    <tr>\n",
       "      <th>1</th>\n",
       "      <td>330</td>\n",
       "    </tr>\n",
       "  </tbody>\n",
       "</table>\n",
       "</div>"
      ],
      "text/plain": [
       "                     id_factcheck\n",
       "dummy_facebook_date              \n",
       "0                            3844\n",
       "1                             330"
      ]
     },
     "execution_count": 136,
     "metadata": {},
     "output_type": "execute_result"
    }
   ],
   "source": [
    "factchecks_data[['id_factcheck', 'dummy_facebook_date']].groupby('dummy_facebook_date').count()"
   ]
  },
  {
   "cell_type": "code",
   "execution_count": 139,
   "metadata": {},
   "outputs": [
    {
     "data": {
      "text/plain": [
       "4189"
      ]
     },
     "execution_count": 139,
     "metadata": {},
     "output_type": "execute_result"
    }
   ],
   "source": [
    "len(factchecks_data)"
   ]
  },
  {
   "cell_type": "markdown",
   "metadata": {},
   "source": [
    "## obtain difference between factcheck date and facebook date"
   ]
  },
  {
   "cell_type": "code",
   "execution_count": 202,
   "metadata": {},
   "outputs": [],
   "source": [
    "def clean_dates(x):\n",
    "    if pd.isna(x) or x == 44106:\n",
    "        return(None)\n",
    "    else:\n",
    "        if isinstance(x, datetime.date):\n",
    "            return(x)\n",
    "        else:\n",
    "            if any(re.findall('/', x)):\n",
    "                if len(x.split('/')[2]) == 2:\n",
    "                    month_ = int(x.split('/')[0])\n",
    "                    day_ = int(x.split('/')[1])\n",
    "                    year_ = int('20' + x.split('/')[2])\n",
    "                    return(datetime.date(year_, month_, day_))\n",
    "                else:\n",
    "                    try:\n",
    "                        month_ = int(x.split('/')[1])\n",
    "                        day_ = int(x.split('/')[0])\n",
    "                        year_ = int(x.split('/')[2])\n",
    "                        return(datetime.date(year_, month_, day_))\n",
    "                    except:\n",
    "                        month_ = int(x.split('/')[1])\n",
    "                        day_ = int(x.split('/')[0])\n",
    "                        year_ = int(x.split('/')[2])\n",
    "                        return(datetime.date(year_,  day_, month_))                        \n",
    "                        \n",
    "            else:\n",
    "                \n",
    "                elements = x.split('T')[0]\n",
    "                return(datetime.date(int(elements.split('-')[0]), \n",
    "                                    int(elements.split('-')[1]), \n",
    "                                    int(elements.split('-')[2])))"
   ]
  },
  {
   "cell_type": "code",
   "execution_count": 225,
   "metadata": {},
   "outputs": [],
   "source": [
    "def obtain_diff_dates(x, y):\n",
    "    if pd.isna(x) or pd.isna(y):\n",
    "        return(None)\n",
    "    else:\n",
    "        try:\n",
    "            return((x -y.date()).days)\n",
    "        except:\n",
    "            return((x -y).days)"
   ]
  },
  {
   "cell_type": "code",
   "execution_count": 204,
   "metadata": {
    "scrolled": true
   },
   "outputs": [],
   "source": [
    "import datetime\n",
    "factchecks_data['fecha_chequeo'] = factchecks_data['fecha_chequeo'].apply(lambda x: clean_dates(x))"
   ]
  },
  {
   "cell_type": "code",
   "execution_count": 226,
   "metadata": {
    "scrolled": true
   },
   "outputs": [],
   "source": [
    "factchecks_data['difference_dates'] = factchecks_data.apply(lambda x: obtain_diff_dates(x['date_factcheck_facebook'], \n",
    "                                                                                       x['fecha_chequeo']), axis = 1)"
   ]
  },
  {
   "cell_type": "code",
   "execution_count": 238,
   "metadata": {},
   "outputs": [],
   "source": [
    "factchecks_data['difference_dates'] = np.where(factchecks_data['difference_dates'] == 2832.0, None, factchecks_data['difference_dates'])"
   ]
  },
  {
   "cell_type": "code",
   "execution_count": 246,
   "metadata": {},
   "outputs": [],
   "source": [
    "factchecks_data.to_excel('../../../data/1-factchecks/2-clean_factchecks/factchecks_data.xlsx')"
   ]
  },
  {
   "cell_type": "code",
   "execution_count": 82,
   "metadata": {},
   "outputs": [],
   "source": [
    "def clean_date_factcheck(x):\n",
    "    try:\n",
    "        return(datetime.strptime(re.sub(' CST| CDT', '', x), '%Y-%m-%d %H:%M:%S').date())\n",
    "    except:\n",
    "        return(None)\n",
    "            "
   ]
  },
  {
   "cell_type": "code",
   "execution_count": null,
   "metadata": {},
   "outputs": [],
   "source": []
  },
  {
   "cell_type": "code",
   "execution_count": 38,
   "metadata": {},
   "outputs": [],
   "source": [
    "def load_data_posts():\n",
    "    path = '/Users/cblanesg/misinformation_socialmedia/data/1-factchecks/1-posts_factchecks/posts/'\n",
    "    posts_facebook = []\n",
    "    for i in listdir(path):\n",
    "        try:\n",
    "            df = pd.read_csv(path + i)\n",
    "            df['organizacion'] = re.sub('[.]csv','', i)\n",
    "            posts_facebook.append(df)\n",
    "        except:\n",
    "            print(i)\n",
    "\n",
    "    posts_facebook = pd.concat(posts_facebook)\n",
    "    return(posts_facebook)"
   ]
  },
  {
   "cell_type": "code",
   "execution_count": 71,
   "metadata": {},
   "outputs": [],
   "source": [
    "def match_data_function(data_factchecks, posts_facebook):\n",
    "    \n",
    "    data_factchecks = data_factchecks[['id_factcheck', 'organizacion', \n",
    "        'link_chequeo', 'fecha_chequeo', 'id_desinformacion']]\n",
    "    data_factchecks = data_factchecks.drop_duplicates()\n",
    "    data_factchecks['date_factcheck_facebook'] = None\n",
    "    \n",
    "    \n",
    "    matches_data = []\n",
    "\n",
    "    for i in tqdm(list(data_factchecks.organizacion.unique())):\n",
    "        if i == 'Chequeado-LATAM':\n",
    "            df = data_factchecks[data_factchecks['organizacion'] == 'Chequeado-LATAM']\n",
    "            df_posts = posts_facebook[posts_facebook['organizacion'] == 'chequeado']\n",
    "            df_posts = clean_links(df_posts)\n",
    "            input_matches = df_posts[['Final Link', 'URL', 'Created', 'title_link']].dropna()\n",
    "            out = match_factcheck_w_posts(df, input_matches)\n",
    "            matches_data.append(out)\n",
    "        else:        \n",
    "            df = data_factchecks[data_factchecks['organizacion'] == i]\n",
    "            df_posts = posts_facebook[posts_facebook['organizacion'] == i]     \n",
    "            df_posts = clean_links(df_posts)\n",
    "            input_matches = df_posts[['Final Link', 'URL', 'Created', 'title_link']].dropna()\n",
    "            out = match_factcheck_w_posts(df, input_matches)\n",
    "            matches_data.append(out)\n",
    "\n",
    "    df_out = pd.concat(matches_data)\n",
    "    return(df_out)"
   ]
  },
  {
   "cell_type": "code",
   "execution_count": 72,
   "metadata": {},
   "outputs": [],
   "source": [
    "def match_factcheck_w_posts(df, df_posts):\n",
    "    date_factchecks = []\n",
    "    match_link = []\n",
    "    score_match_link = []\n",
    "    match_title = []\n",
    "    score_match_title = []\n",
    "    post_url = []\n",
    "    \n",
    "    df = df.reset_index().drop('index', axis = 1)\n",
    "    df['title_factcheck'] = df.apply(lambda x: title_factcheck_function(x['link_chequeo']), axis = 1)\n",
    "    for i in tqdm(range(0, len(df))):\n",
    "        if pd.isna(df.loc[i]['date_factcheck_facebook']):\n",
    "            link_factcheck = df.loc[i]['link_chequeo']\n",
    "            \n",
    "            if pd.isna(link_factcheck):\n",
    "                    score_match_link.append(None)\n",
    "                    match_link.append(None)\n",
    "                    date_factchecks.append(None)\n",
    "                    match_title.append(None)\n",
    "                    score_match_title.append(None)\n",
    "                    post_url.append(None)\n",
    "            else:\n",
    "                match, score = process.extractOne(link_factcheck, list(df_posts['Final Link']))\n",
    "                if score >= 90:\n",
    "                    score_match_link.append(score)\n",
    "                    match_link.append(match)\n",
    "                    date_factchecks.append(list(df_posts[df_posts['Final Link'] == match].Created)[0])\n",
    "                    match_title.append(None)\n",
    "                    score_match_title.append(None)\n",
    "                    post_url.append(list(df_posts[df_posts['Final Link'] == match].URL)[0])\n",
    "                else:\n",
    "                    title_factcheck = df.loc[i]['title_factcheck']\n",
    "                    match, score = process.extractOne(title_factcheck, list(df_posts['title_link']))\n",
    "                    if score > 80:\n",
    "                        score_match_link.append(None)\n",
    "                        match_link.append(None)\n",
    "                        date_factchecks.append(list(df_posts[df_posts['title_link'] == match].Created)[0])\n",
    "                        match_title.append(match)\n",
    "                        score_match_title.append(score)\n",
    "                        post_url.append(list(df_posts[df_posts['title_link'] == match].URL)[0])\n",
    "                    else:\n",
    "                        score_match_link.append(None)\n",
    "                        match_link.append(None)\n",
    "                        date_factchecks.append(None)\n",
    "                        match_title.append(None)\n",
    "                        score_match_title.append(None)\n",
    "                        post_url.append(None)\n",
    "        else:\n",
    "            score_match_link.append(None)\n",
    "            match_link.append(None)\n",
    "            date_factchecks.append(df.loc[i]['date_factcheck_facebook'])\n",
    "            match_title.append(None)\n",
    "            score_match_title.append(None)\n",
    "            post_url.append(None)\n",
    "            \n",
    "    df['date_factcheck_facebook'] = date_factchecks\n",
    "    df['match_link_factcheck'] = match_link\n",
    "    df['score_match_link_factcheck'] = score_match_link\n",
    "    df['match_title_factcheck'] = match_title\n",
    "    df['score_match_title_factcheck'] = score_match_title\n",
    "    df['post_url'] = post_url\n",
    "    return(df) \n",
    "def clean_links(df):\n",
    "    final_links = []\n",
    "    for i in list(df['Final Link']):\n",
    "        if pd.isna(i):\n",
    "            final_links.append(np.nan)\n",
    "        elif any(re.findall('https://www.facebook.com/login/|https://api.whatsapp.com/',i)):\n",
    "            final_links.append(np.nan)\n",
    "        else:\n",
    "            final_links.append(i)\n",
    "    df['Final Link'] = final_links\n",
    "    df = df[~df['Final Link'].isna()]\n",
    "    df = df[df['Final Link'] != 'https://lasillavacia.com/']\n",
    "    return(df)\n",
    "\n",
    "def title_factcheck_function(x):\n",
    "    if pd.isna(x):\n",
    "        return(None)\n",
    "    else:\n",
    "        return(re.sub('[/]$', '', x).split('/')[-1:][0])\n",
    "\n"
   ]
  },
  {
   "cell_type": "code",
   "execution_count": 62,
   "metadata": {},
   "outputs": [
    {
     "name": "stdout",
     "output_type": "stream",
     "text": [
      ".DS_Store\n"
     ]
    }
   ],
   "source": [
    "latam = all_data[all_data['pais'] != 'africa']\n",
    "data_posts = load_data_posts()\n",
    "data_posts['title_link'] = data_posts.apply(lambda x: title_factcheck_function(x['Final Link']), axis = 1)\n",
    "data_posts['title_link'] = data_posts.apply(lambda x: title_factcheck_function(x['Final Link']), axis = 1)"
   ]
  },
  {
   "cell_type": "code",
   "execution_count": 73,
   "metadata": {
    "collapsed": true
   },
   "outputs": [
    {
     "name": "stderr",
     "output_type": "stream",
     "text": [
      "  0%|          | 0/22 [00:00<?, ?it/s]\n",
      "  0%|          | 0/214 [00:00<?, ?it/s]\u001b[A\n",
      "  0%|          | 1/214 [00:06<21:28,  6.05s/it]\u001b[A\n",
      "  1%|          | 2/214 [00:10<20:09,  5.70s/it]\u001b[A\n",
      "  1%|▏         | 3/214 [00:17<21:07,  6.01s/it]\u001b[A\n",
      "  2%|▏         | 4/214 [00:23<20:39,  5.90s/it]\u001b[A\n",
      "  2%|▏         | 5/214 [00:32<24:12,  6.95s/it]\u001b[A\n",
      "  3%|▎         | 6/214 [00:41<25:30,  7.36s/it]\u001b[A\n",
      "  3%|▎         | 7/214 [00:46<23:16,  6.75s/it]\u001b[A\n",
      "  4%|▎         | 8/214 [00:52<22:24,  6.53s/it]\u001b[A\n",
      "  4%|▍         | 9/214 [01:23<47:23, 13.87s/it]\u001b[A\n",
      "  5%|▍         | 10/214 [01:29<38:45, 11.40s/it]\u001b[A\n",
      "  5%|▌         | 11/214 [01:38<36:35, 10.81s/it]\u001b[A\n",
      "  6%|▌         | 12/214 [01:44<31:47,  9.44s/it]\u001b[A\n",
      "  6%|▌         | 13/214 [01:52<30:25,  9.08s/it]\u001b[A\n",
      "  7%|▋         | 14/214 [01:59<27:30,  8.25s/it]\u001b[A\n",
      "  7%|▋         | 15/214 [02:05<24:58,  7.53s/it]\u001b[A\n",
      "  7%|▋         | 16/214 [02:14<26:56,  8.16s/it]\u001b[A\n",
      "  8%|▊         | 17/214 [02:20<24:35,  7.49s/it]\u001b[A\n",
      "  8%|▊         | 18/214 [02:27<23:43,  7.26s/it]\u001b[A\n",
      "  9%|▉         | 19/214 [02:33<22:36,  6.96s/it]\u001b[A\n",
      "  9%|▉         | 20/214 [02:44<26:41,  8.26s/it]\u001b[A\n",
      " 10%|▉         | 21/214 [02:51<24:36,  7.65s/it]\u001b[A\n",
      " 10%|█         | 22/214 [02:56<22:42,  7.10s/it]\u001b[A\n",
      " 11%|█         | 23/214 [03:03<22:05,  6.94s/it]\u001b[A\n",
      " 11%|█         | 24/214 [03:11<22:58,  7.26s/it]\u001b[A\n",
      " 12%|█▏        | 25/214 [03:22<26:38,  8.46s/it]\u001b[A\n",
      " 12%|█▏        | 26/214 [03:29<24:26,  7.80s/it]\u001b[A\n",
      " 13%|█▎        | 27/214 [03:34<22:15,  7.14s/it]\u001b[A\n",
      " 13%|█▎        | 28/214 [03:42<22:27,  7.24s/it]\u001b[A\n",
      " 14%|█▎        | 29/214 [03:47<20:46,  6.74s/it]\u001b[A\n",
      " 14%|█▍        | 30/214 [03:53<19:57,  6.51s/it]\u001b[A\n",
      " 14%|█▍        | 31/214 [04:02<22:23,  7.34s/it]\u001b[A\n",
      " 15%|█▍        | 32/214 [04:08<21:01,  6.93s/it]\u001b[A\n",
      " 15%|█▌        | 33/214 [04:25<29:51,  9.90s/it]\u001b[A\n",
      " 16%|█▌        | 34/214 [04:32<27:15,  9.08s/it]\u001b[A\n",
      " 16%|█▋        | 35/214 [04:38<24:19,  8.15s/it]\u001b[A\n",
      " 17%|█▋        | 36/214 [04:44<21:55,  7.39s/it]\u001b[A\n",
      " 17%|█▋        | 37/214 [04:50<20:21,  6.90s/it]\u001b[A\n",
      " 18%|█▊        | 38/214 [04:57<20:18,  6.92s/it]\u001b[A\n",
      " 18%|█▊        | 39/214 [05:05<21:32,  7.38s/it]\u001b[A\n",
      " 19%|█▊        | 40/214 [05:11<20:19,  7.01s/it]\u001b[A\n",
      " 19%|█▉        | 41/214 [05:17<19:24,  6.73s/it]\u001b[A\n",
      " 20%|█▉        | 42/214 [05:25<19:47,  6.91s/it]\u001b[A\n",
      " 20%|██        | 43/214 [05:33<20:44,  7.27s/it]\u001b[A\n",
      " 21%|██        | 44/214 [05:39<19:15,  6.80s/it]\u001b[A\n",
      " 21%|██        | 45/214 [05:44<18:17,  6.49s/it]\u001b[A\n",
      " 21%|██▏       | 46/214 [05:52<19:28,  6.95s/it]\u001b[A\n",
      " 22%|██▏       | 47/214 [05:59<19:16,  6.93s/it]\u001b[A\n",
      " 22%|██▏       | 48/214 [06:05<18:32,  6.70s/it]\u001b[A\n",
      " 23%|██▎       | 49/214 [06:12<18:18,  6.66s/it]\u001b[A\n",
      " 23%|██▎       | 50/214 [06:18<17:44,  6.49s/it]\u001b[A\n",
      " 24%|██▍       | 51/214 [06:24<17:17,  6.37s/it]\u001b[A\n",
      " 24%|██▍       | 52/214 [06:31<17:24,  6.45s/it]\u001b[A\n",
      " 25%|██▍       | 53/214 [06:44<23:06,  8.61s/it]\u001b[A\n",
      " 25%|██▌       | 54/214 [06:50<20:31,  7.70s/it]\u001b[A\n",
      " 26%|██▌       | 55/214 [06:56<18:43,  7.07s/it]\u001b[A\n",
      " 26%|██▌       | 56/214 [07:04<19:18,  7.33s/it]\u001b[A\n",
      " 27%|██▋       | 57/214 [07:11<18:58,  7.25s/it]\u001b[A\n",
      " 27%|██▋       | 58/214 [07:16<17:16,  6.64s/it]\u001b[A\n",
      " 28%|██▊       | 59/214 [07:21<16:06,  6.24s/it]\u001b[A\n",
      " 28%|██▊       | 60/214 [07:27<15:25,  6.01s/it]\u001b[A\n",
      " 29%|██▊       | 61/214 [07:32<14:46,  5.80s/it]\u001b[A\n",
      " 29%|██▉       | 62/214 [07:39<15:53,  6.27s/it]\u001b[A\n",
      " 29%|██▉       | 63/214 [07:45<15:11,  6.03s/it]\u001b[A\n",
      " 30%|██▉       | 64/214 [07:50<14:32,  5.82s/it]\u001b[A\n",
      " 30%|███       | 65/214 [07:56<14:09,  5.70s/it]\u001b[A\n",
      " 31%|███       | 66/214 [08:01<13:54,  5.64s/it]\u001b[A\n",
      " 31%|███▏      | 67/214 [08:08<14:29,  5.92s/it]\u001b[A\n",
      " 32%|███▏      | 68/214 [08:13<14:05,  5.79s/it]\u001b[A\n",
      " 32%|███▏      | 69/214 [08:19<13:52,  5.74s/it]\u001b[A\n",
      " 33%|███▎      | 70/214 [08:24<13:25,  5.59s/it]\u001b[A\n",
      " 33%|███▎      | 71/214 [08:31<14:17,  6.00s/it]\u001b[A\n",
      " 34%|███▎      | 72/214 [08:38<14:47,  6.25s/it]\u001b[A\n",
      " 34%|███▍      | 73/214 [08:43<14:04,  5.99s/it]\u001b[A\n",
      " 35%|███▍      | 74/214 [08:48<13:29,  5.78s/it]\u001b[A\n",
      " 35%|███▌      | 75/214 [08:56<14:41,  6.34s/it]\u001b[A\n",
      " 36%|███▌      | 76/214 [09:02<14:29,  6.30s/it]\u001b[A\n",
      " 36%|███▌      | 77/214 [09:08<13:49,  6.06s/it]\u001b[A\n",
      " 36%|███▋      | 78/214 [09:13<13:07,  5.79s/it]\u001b[A\n",
      " 37%|███▋      | 79/214 [09:21<14:46,  6.56s/it]\u001b[A\n",
      " 37%|███▋      | 80/214 [09:27<13:50,  6.20s/it]\u001b[A\n",
      " 38%|███▊      | 81/214 [09:36<15:55,  7.18s/it]\u001b[A\n",
      " 38%|███▊      | 82/214 [09:42<14:55,  6.78s/it]\u001b[A\n",
      " 39%|███▉      | 83/214 [09:47<13:56,  6.38s/it]\u001b[A\n",
      " 39%|███▉      | 84/214 [09:53<13:15,  6.12s/it]\u001b[A\n",
      " 40%|███▉      | 85/214 [09:58<12:46,  5.94s/it]\u001b[A\n",
      " 40%|████      | 86/214 [10:04<12:16,  5.75s/it]\u001b[A\n",
      " 41%|████      | 87/214 [10:10<12:38,  5.97s/it]\u001b[A\n",
      " 41%|████      | 88/214 [10:18<13:48,  6.57s/it]\u001b[A\n",
      " 42%|████▏     | 89/214 [10:26<14:13,  6.83s/it]\u001b[A\n",
      " 42%|████▏     | 90/214 [10:31<13:12,  6.39s/it]\u001b[A\n",
      " 43%|████▎     | 91/214 [10:37<12:37,  6.16s/it]\u001b[A\n",
      " 43%|████▎     | 92/214 [10:42<12:04,  5.94s/it]\u001b[A\n",
      " 43%|████▎     | 93/214 [10:51<13:37,  6.76s/it]\u001b[A\n",
      " 44%|████▍     | 94/214 [10:56<12:44,  6.37s/it]\u001b[A\n",
      " 44%|████▍     | 95/214 [11:03<12:46,  6.44s/it]\u001b[A\n",
      " 45%|████▍     | 96/214 [11:09<12:36,  6.41s/it]\u001b[A\n",
      " 45%|████▌     | 97/214 [11:17<13:11,  6.77s/it]\u001b[A\n",
      " 46%|████▌     | 98/214 [11:22<12:10,  6.30s/it]\u001b[A\n",
      " 46%|████▋     | 99/214 [11:28<11:41,  6.10s/it]\u001b[A\n",
      " 47%|████▋     | 100/214 [11:33<11:14,  5.92s/it]\u001b[A\n",
      " 47%|████▋     | 101/214 [11:38<10:51,  5.77s/it]\u001b[A\n",
      " 48%|████▊     | 102/214 [11:44<10:39,  5.71s/it]\u001b[A\n",
      " 48%|████▊     | 103/214 [11:49<10:19,  5.58s/it]\u001b[A\n",
      " 49%|████▊     | 104/214 [11:55<10:02,  5.48s/it]\u001b[A\n",
      " 49%|████▉     | 105/214 [12:01<10:16,  5.65s/it]\u001b[A\n",
      " 50%|████▉     | 106/214 [12:06<09:56,  5.52s/it]\u001b[A\n",
      " 50%|█████     | 107/214 [12:11<09:53,  5.55s/it]\u001b[A\n",
      " 50%|█████     | 108/214 [12:17<09:34,  5.42s/it]\u001b[A\n",
      " 51%|█████     | 109/214 [12:22<09:29,  5.42s/it]\u001b[A\n",
      " 51%|█████▏    | 110/214 [12:28<09:30,  5.49s/it]\u001b[A\n",
      " 52%|█████▏    | 111/214 [12:33<09:17,  5.42s/it]\u001b[A\n",
      " 52%|█████▏    | 112/214 [12:38<09:01,  5.31s/it]\u001b[A\n",
      " 53%|█████▎    | 113/214 [12:45<09:59,  5.93s/it]\u001b[A\n",
      " 53%|█████▎    | 114/214 [12:51<09:35,  5.76s/it]\u001b[A\n",
      " 54%|█████▎    | 115/214 [12:56<09:14,  5.60s/it]\u001b[A\n",
      " 54%|█████▍    | 116/214 [13:02<09:14,  5.66s/it]\u001b[A\n",
      " 55%|█████▍    | 117/214 [13:10<10:22,  6.42s/it]\u001b[A\n",
      " 55%|█████▌    | 118/214 [13:15<09:49,  6.14s/it]\u001b[A\n",
      " 56%|█████▌    | 119/214 [13:21<09:24,  5.94s/it]\u001b[A\n",
      " 56%|█████▌    | 120/214 [13:28<09:54,  6.33s/it]\u001b[A\n",
      " 57%|█████▋    | 121/214 [13:35<10:03,  6.49s/it]\u001b[A\n",
      " 57%|█████▋    | 122/214 [13:40<09:30,  6.20s/it]\u001b[A\n",
      " 57%|█████▋    | 123/214 [13:47<09:29,  6.25s/it]\u001b[A\n",
      " 58%|█████▊    | 124/214 [13:52<08:59,  5.99s/it]\u001b[A\n",
      " 58%|█████▊    | 125/214 [14:01<10:01,  6.76s/it]\u001b[A\n",
      " 59%|█████▉    | 126/214 [14:08<09:53,  6.74s/it]\u001b[A\n",
      " 59%|█████▉    | 127/214 [14:14<09:30,  6.56s/it]\u001b[A\n",
      " 60%|█████▉    | 128/214 [14:21<09:52,  6.89s/it]\u001b[A\n",
      " 60%|██████    | 129/214 [14:28<09:32,  6.73s/it]\u001b[A\n",
      " 61%|██████    | 130/214 [14:34<09:18,  6.65s/it]\u001b[A\n",
      " 61%|██████    | 131/214 [14:42<09:31,  6.89s/it]\u001b[A\n",
      " 62%|██████▏   | 132/214 [14:48<09:05,  6.65s/it]\u001b[A\n",
      " 62%|██████▏   | 133/214 [14:53<08:30,  6.30s/it]\u001b[A\n",
      " 63%|██████▎   | 134/214 [14:59<08:06,  6.08s/it]\u001b[A\n",
      " 63%|██████▎   | 135/214 [15:06<08:22,  6.37s/it]\u001b[A\n",
      " 64%|██████▎   | 136/214 [15:12<08:04,  6.21s/it]\u001b[A\n",
      " 64%|██████▍   | 137/214 [15:17<07:45,  6.05s/it]\u001b[A\n",
      " 64%|██████▍   | 138/214 [15:25<08:29,  6.70s/it]\u001b[A\n",
      " 65%|██████▍   | 139/214 [15:33<08:50,  7.08s/it]\u001b[A\n",
      " 65%|██████▌   | 140/214 [15:39<08:13,  6.67s/it]\u001b[A\n",
      " 66%|██████▌   | 141/214 [15:45<07:50,  6.44s/it]\u001b[A\n",
      " 66%|██████▋   | 142/214 [15:51<07:37,  6.35s/it]\u001b[A\n",
      " 67%|██████▋   | 143/214 [15:57<07:17,  6.16s/it]\u001b[A\n",
      " 67%|██████▋   | 144/214 [16:03<07:18,  6.27s/it]\u001b[A\n",
      " 68%|██████▊   | 145/214 [16:10<07:09,  6.22s/it]\u001b[A\n",
      " 68%|██████▊   | 146/214 [16:17<07:22,  6.51s/it]\u001b[A\n",
      " 69%|██████▊   | 147/214 [16:23<07:15,  6.50s/it]\u001b[A\n",
      " 69%|██████▉   | 148/214 [16:30<07:20,  6.67s/it]\u001b[A\n",
      " 70%|██████▉   | 149/214 [16:52<12:08, 11.21s/it]\u001b[A\n",
      " 70%|███████   | 150/214 [17:00<10:50, 10.16s/it]\u001b[A\n",
      " 71%|███████   | 151/214 [17:18<13:02, 12.43s/it]\u001b[A\n",
      " 71%|███████   | 152/214 [17:39<15:39, 15.15s/it]\u001b[A\n",
      " 71%|███████▏  | 153/214 [17:45<12:35, 12.38s/it]\u001b[A\n",
      " 72%|███████▏  | 154/214 [17:51<10:32, 10.54s/it]\u001b[A\n",
      " 72%|███████▏  | 155/214 [17:57<09:06,  9.25s/it]\u001b[A\n"
     ]
    },
    {
     "name": "stderr",
     "output_type": "stream",
     "text": [
      " 73%|███████▎  | 156/214 [18:11<10:19, 10.67s/it]\u001b[A\n",
      " 73%|███████▎  | 157/214 [18:17<08:46,  9.23s/it]\u001b[A\n",
      " 74%|███████▍  | 158/214 [18:24<07:59,  8.56s/it]\u001b[A\n",
      " 74%|███████▍  | 159/214 [18:30<07:04,  7.71s/it]\u001b[A\n",
      " 75%|███████▍  | 160/214 [18:37<06:40,  7.41s/it]\u001b[A\n",
      " 75%|███████▌  | 161/214 [18:43<06:20,  7.17s/it]\u001b[A\n",
      " 76%|███████▌  | 162/214 [18:50<06:05,  7.03s/it]\u001b[A\n",
      " 76%|███████▌  | 163/214 [19:00<06:47,  8.00s/it]\u001b[A\n",
      " 77%|███████▋  | 164/214 [19:09<06:51,  8.23s/it]\u001b[A\n",
      " 77%|███████▋  | 165/214 [19:15<06:15,  7.65s/it]\u001b[A\n",
      " 78%|███████▊  | 166/214 [19:22<05:54,  7.38s/it]\u001b[A\n",
      " 78%|███████▊  | 167/214 [19:32<06:18,  8.04s/it]\u001b[A\n",
      " 79%|███████▊  | 168/214 [19:43<06:59,  9.13s/it]\u001b[A\n",
      " 79%|███████▉  | 169/214 [19:50<06:11,  8.26s/it]\u001b[A\n",
      " 79%|███████▉  | 170/214 [19:57<05:50,  7.96s/it]\u001b[A\n",
      " 80%|███████▉  | 171/214 [20:03<05:14,  7.32s/it]\u001b[A\n",
      " 80%|████████  | 172/214 [20:08<04:48,  6.86s/it]\u001b[A\n",
      " 81%|████████  | 173/214 [20:15<04:41,  6.86s/it]\u001b[A\n",
      " 81%|████████▏ | 174/214 [20:21<04:20,  6.52s/it]\u001b[A\n",
      " 82%|████████▏ | 175/214 [20:27<04:07,  6.35s/it]\u001b[A\n",
      " 82%|████████▏ | 176/214 [20:35<04:20,  6.85s/it]\u001b[A\n",
      " 83%|████████▎ | 177/214 [20:45<04:52,  7.91s/it]\u001b[A\n",
      " 83%|████████▎ | 178/214 [20:52<04:27,  7.43s/it]\u001b[A\n",
      " 84%|████████▎ | 179/214 [21:02<04:06,  7.05s/it]\u001b[A\n",
      "  0%|          | 0/22 [21:03<?, ?it/s]\n"
     ]
    },
    {
     "ename": "KeyboardInterrupt",
     "evalue": "",
     "output_type": "error",
     "traceback": [
      "\u001b[0;31m---------------------------------------------------------------------------\u001b[0m",
      "\u001b[0;31mAttributeError\u001b[0m                            Traceback (most recent call last)",
      "\u001b[0;32m/Library/Frameworks/Python.framework/Versions/3.8/lib/python3.8/site-packages/fuzzywuzzy/process.py\u001b[0m in \u001b[0;36mextractWithoutOrder\u001b[0;34m(query, choices, processor, scorer, score_cutoff)\u001b[0m\n\u001b[1;32m    107\u001b[0m         \u001b[0;31m# See if choices is a dictionary-like object.\u001b[0m\u001b[0;34m\u001b[0m\u001b[0;34m\u001b[0m\u001b[0;34m\u001b[0m\u001b[0m\n\u001b[0;32m--> 108\u001b[0;31m         \u001b[0;32mfor\u001b[0m \u001b[0mkey\u001b[0m\u001b[0;34m,\u001b[0m \u001b[0mchoice\u001b[0m \u001b[0;32min\u001b[0m \u001b[0mchoices\u001b[0m\u001b[0;34m.\u001b[0m\u001b[0mitems\u001b[0m\u001b[0;34m(\u001b[0m\u001b[0;34m)\u001b[0m\u001b[0;34m:\u001b[0m\u001b[0;34m\u001b[0m\u001b[0;34m\u001b[0m\u001b[0m\n\u001b[0m\u001b[1;32m    109\u001b[0m             \u001b[0mprocessed\u001b[0m \u001b[0;34m=\u001b[0m \u001b[0mpre_processor\u001b[0m\u001b[0;34m(\u001b[0m\u001b[0mprocessor\u001b[0m\u001b[0;34m(\u001b[0m\u001b[0mchoice\u001b[0m\u001b[0;34m)\u001b[0m\u001b[0;34m)\u001b[0m\u001b[0;34m\u001b[0m\u001b[0;34m\u001b[0m\u001b[0m\n",
      "\u001b[0;31mAttributeError\u001b[0m: 'list' object has no attribute 'items'",
      "\nDuring handling of the above exception, another exception occurred:\n",
      "\u001b[0;31mKeyboardInterrupt\u001b[0m                         Traceback (most recent call last)",
      "\u001b[0;32m<ipython-input-73-3663471fe476>\u001b[0m in \u001b[0;36m<module>\u001b[0;34m\u001b[0m\n\u001b[0;32m----> 1\u001b[0;31m \u001b[0mmatch_out\u001b[0m \u001b[0;34m=\u001b[0m \u001b[0mmatch_data_function\u001b[0m\u001b[0;34m(\u001b[0m\u001b[0mlatam\u001b[0m\u001b[0;34m,\u001b[0m \u001b[0mdata_posts\u001b[0m\u001b[0;34m)\u001b[0m\u001b[0;34m\u001b[0m\u001b[0;34m\u001b[0m\u001b[0m\n\u001b[0m",
      "\u001b[0;32m<ipython-input-71-7a4e586a6bbd>\u001b[0m in \u001b[0;36mmatch_data_function\u001b[0;34m(data_factchecks, posts_facebook)\u001b[0m\n\u001b[1;32m     22\u001b[0m             \u001b[0mdf_posts\u001b[0m \u001b[0;34m=\u001b[0m \u001b[0mclean_links\u001b[0m\u001b[0;34m(\u001b[0m\u001b[0mdf_posts\u001b[0m\u001b[0;34m)\u001b[0m\u001b[0;34m\u001b[0m\u001b[0;34m\u001b[0m\u001b[0m\n\u001b[1;32m     23\u001b[0m             \u001b[0minput_matches\u001b[0m \u001b[0;34m=\u001b[0m \u001b[0mdf_posts\u001b[0m\u001b[0;34m[\u001b[0m\u001b[0;34m[\u001b[0m\u001b[0;34m'Final Link'\u001b[0m\u001b[0;34m,\u001b[0m \u001b[0;34m'URL'\u001b[0m\u001b[0;34m,\u001b[0m \u001b[0;34m'Created'\u001b[0m\u001b[0;34m,\u001b[0m \u001b[0;34m'title_link'\u001b[0m\u001b[0;34m]\u001b[0m\u001b[0;34m]\u001b[0m\u001b[0;34m.\u001b[0m\u001b[0mdropna\u001b[0m\u001b[0;34m(\u001b[0m\u001b[0;34m)\u001b[0m\u001b[0;34m\u001b[0m\u001b[0;34m\u001b[0m\u001b[0m\n\u001b[0;32m---> 24\u001b[0;31m             \u001b[0mout\u001b[0m \u001b[0;34m=\u001b[0m \u001b[0mmatch_factcheck_w_posts\u001b[0m\u001b[0;34m(\u001b[0m\u001b[0mdf\u001b[0m\u001b[0;34m,\u001b[0m \u001b[0minput_matches\u001b[0m\u001b[0;34m)\u001b[0m\u001b[0;34m\u001b[0m\u001b[0;34m\u001b[0m\u001b[0m\n\u001b[0m\u001b[1;32m     25\u001b[0m             \u001b[0mmatches_data\u001b[0m\u001b[0;34m.\u001b[0m\u001b[0mappend\u001b[0m\u001b[0;34m(\u001b[0m\u001b[0mout\u001b[0m\u001b[0;34m)\u001b[0m\u001b[0;34m\u001b[0m\u001b[0;34m\u001b[0m\u001b[0m\n\u001b[1;32m     26\u001b[0m \u001b[0;34m\u001b[0m\u001b[0m\n",
      "\u001b[0;32m<ipython-input-72-0d7747ec06e6>\u001b[0m in \u001b[0;36mmatch_factcheck_w_posts\u001b[0;34m(df, df_posts)\u001b[0m\n\u001b[1;32m     21\u001b[0m                     \u001b[0mpost_url\u001b[0m\u001b[0;34m.\u001b[0m\u001b[0mappend\u001b[0m\u001b[0;34m(\u001b[0m\u001b[0;32mNone\u001b[0m\u001b[0;34m)\u001b[0m\u001b[0;34m\u001b[0m\u001b[0;34m\u001b[0m\u001b[0m\n\u001b[1;32m     22\u001b[0m             \u001b[0;32melse\u001b[0m\u001b[0;34m:\u001b[0m\u001b[0;34m\u001b[0m\u001b[0;34m\u001b[0m\u001b[0m\n\u001b[0;32m---> 23\u001b[0;31m                 \u001b[0mmatch\u001b[0m\u001b[0;34m,\u001b[0m \u001b[0mscore\u001b[0m \u001b[0;34m=\u001b[0m \u001b[0mprocess\u001b[0m\u001b[0;34m.\u001b[0m\u001b[0mextractOne\u001b[0m\u001b[0;34m(\u001b[0m\u001b[0mlink_factcheck\u001b[0m\u001b[0;34m,\u001b[0m \u001b[0mlist\u001b[0m\u001b[0;34m(\u001b[0m\u001b[0mdf_posts\u001b[0m\u001b[0;34m[\u001b[0m\u001b[0;34m'Final Link'\u001b[0m\u001b[0;34m]\u001b[0m\u001b[0;34m)\u001b[0m\u001b[0;34m)\u001b[0m\u001b[0;34m\u001b[0m\u001b[0;34m\u001b[0m\u001b[0m\n\u001b[0m\u001b[1;32m     24\u001b[0m                 \u001b[0;32mif\u001b[0m \u001b[0mscore\u001b[0m \u001b[0;34m>=\u001b[0m \u001b[0;36m90\u001b[0m\u001b[0;34m:\u001b[0m\u001b[0;34m\u001b[0m\u001b[0;34m\u001b[0m\u001b[0m\n\u001b[1;32m     25\u001b[0m                     \u001b[0mscore_match_link\u001b[0m\u001b[0;34m.\u001b[0m\u001b[0mappend\u001b[0m\u001b[0;34m(\u001b[0m\u001b[0mscore\u001b[0m\u001b[0;34m)\u001b[0m\u001b[0;34m\u001b[0m\u001b[0;34m\u001b[0m\u001b[0m\n",
      "\u001b[0;32m/Library/Frameworks/Python.framework/Versions/3.8/lib/python3.8/site-packages/fuzzywuzzy/process.py\u001b[0m in \u001b[0;36mextractOne\u001b[0;34m(query, choices, processor, scorer, score_cutoff)\u001b[0m\n\u001b[1;32m    218\u001b[0m     \u001b[0mbest_list\u001b[0m \u001b[0;34m=\u001b[0m \u001b[0mextractWithoutOrder\u001b[0m\u001b[0;34m(\u001b[0m\u001b[0mquery\u001b[0m\u001b[0;34m,\u001b[0m \u001b[0mchoices\u001b[0m\u001b[0;34m,\u001b[0m \u001b[0mprocessor\u001b[0m\u001b[0;34m,\u001b[0m \u001b[0mscorer\u001b[0m\u001b[0;34m,\u001b[0m \u001b[0mscore_cutoff\u001b[0m\u001b[0;34m)\u001b[0m\u001b[0;34m\u001b[0m\u001b[0;34m\u001b[0m\u001b[0m\n\u001b[1;32m    219\u001b[0m     \u001b[0;32mtry\u001b[0m\u001b[0;34m:\u001b[0m\u001b[0;34m\u001b[0m\u001b[0;34m\u001b[0m\u001b[0m\n\u001b[0;32m--> 220\u001b[0;31m         \u001b[0;32mreturn\u001b[0m \u001b[0mmax\u001b[0m\u001b[0;34m(\u001b[0m\u001b[0mbest_list\u001b[0m\u001b[0;34m,\u001b[0m \u001b[0mkey\u001b[0m\u001b[0;34m=\u001b[0m\u001b[0;32mlambda\u001b[0m \u001b[0mi\u001b[0m\u001b[0;34m:\u001b[0m \u001b[0mi\u001b[0m\u001b[0;34m[\u001b[0m\u001b[0;36m1\u001b[0m\u001b[0;34m]\u001b[0m\u001b[0;34m)\u001b[0m\u001b[0;34m\u001b[0m\u001b[0;34m\u001b[0m\u001b[0m\n\u001b[0m\u001b[1;32m    221\u001b[0m     \u001b[0;32mexcept\u001b[0m \u001b[0mValueError\u001b[0m\u001b[0;34m:\u001b[0m\u001b[0;34m\u001b[0m\u001b[0;34m\u001b[0m\u001b[0m\n\u001b[1;32m    222\u001b[0m         \u001b[0;32mreturn\u001b[0m \u001b[0;32mNone\u001b[0m\u001b[0;34m\u001b[0m\u001b[0;34m\u001b[0m\u001b[0m\n",
      "\u001b[0;32m/Library/Frameworks/Python.framework/Versions/3.8/lib/python3.8/site-packages/fuzzywuzzy/process.py\u001b[0m in \u001b[0;36mextractWithoutOrder\u001b[0;34m(query, choices, processor, scorer, score_cutoff)\u001b[0m\n\u001b[1;32m    115\u001b[0m         \u001b[0;32mfor\u001b[0m \u001b[0mchoice\u001b[0m \u001b[0;32min\u001b[0m \u001b[0mchoices\u001b[0m\u001b[0;34m:\u001b[0m\u001b[0;34m\u001b[0m\u001b[0;34m\u001b[0m\u001b[0m\n\u001b[1;32m    116\u001b[0m             \u001b[0mprocessed\u001b[0m \u001b[0;34m=\u001b[0m \u001b[0mpre_processor\u001b[0m\u001b[0;34m(\u001b[0m\u001b[0mprocessor\u001b[0m\u001b[0;34m(\u001b[0m\u001b[0mchoice\u001b[0m\u001b[0;34m)\u001b[0m\u001b[0;34m)\u001b[0m\u001b[0;34m\u001b[0m\u001b[0;34m\u001b[0m\u001b[0m\n\u001b[0;32m--> 117\u001b[0;31m             \u001b[0mscore\u001b[0m \u001b[0;34m=\u001b[0m \u001b[0mscorer\u001b[0m\u001b[0;34m(\u001b[0m\u001b[0mprocessed_query\u001b[0m\u001b[0;34m,\u001b[0m \u001b[0mprocessed\u001b[0m\u001b[0;34m)\u001b[0m\u001b[0;34m\u001b[0m\u001b[0;34m\u001b[0m\u001b[0m\n\u001b[0m\u001b[1;32m    118\u001b[0m             \u001b[0;32mif\u001b[0m \u001b[0mscore\u001b[0m \u001b[0;34m>=\u001b[0m \u001b[0mscore_cutoff\u001b[0m\u001b[0;34m:\u001b[0m\u001b[0;34m\u001b[0m\u001b[0;34m\u001b[0m\u001b[0m\n\u001b[1;32m    119\u001b[0m                 \u001b[0;32myield\u001b[0m \u001b[0;34m(\u001b[0m\u001b[0mchoice\u001b[0m\u001b[0;34m,\u001b[0m \u001b[0mscore\u001b[0m\u001b[0;34m)\u001b[0m\u001b[0;34m\u001b[0m\u001b[0;34m\u001b[0m\u001b[0m\n",
      "\u001b[0;32m/Library/Frameworks/Python.framework/Versions/3.8/lib/python3.8/site-packages/fuzzywuzzy/fuzz.py\u001b[0m in \u001b[0;36mWRatio\u001b[0;34m(s1, s2, force_ascii, full_process)\u001b[0m\n\u001b[1;32m    287\u001b[0m     \u001b[0;32mif\u001b[0m \u001b[0mtry_partial\u001b[0m\u001b[0;34m:\u001b[0m\u001b[0;34m\u001b[0m\u001b[0;34m\u001b[0m\u001b[0m\n\u001b[1;32m    288\u001b[0m         \u001b[0mpartial\u001b[0m \u001b[0;34m=\u001b[0m \u001b[0mpartial_ratio\u001b[0m\u001b[0;34m(\u001b[0m\u001b[0mp1\u001b[0m\u001b[0;34m,\u001b[0m \u001b[0mp2\u001b[0m\u001b[0;34m)\u001b[0m \u001b[0;34m*\u001b[0m \u001b[0mpartial_scale\u001b[0m\u001b[0;34m\u001b[0m\u001b[0;34m\u001b[0m\u001b[0m\n\u001b[0;32m--> 289\u001b[0;31m         \u001b[0mptsor\u001b[0m \u001b[0;34m=\u001b[0m \u001b[0mpartial_token_sort_ratio\u001b[0m\u001b[0;34m(\u001b[0m\u001b[0mp1\u001b[0m\u001b[0;34m,\u001b[0m \u001b[0mp2\u001b[0m\u001b[0;34m,\u001b[0m \u001b[0mfull_process\u001b[0m\u001b[0;34m=\u001b[0m\u001b[0;32mFalse\u001b[0m\u001b[0;34m)\u001b[0m\u001b[0;31m \u001b[0m\u001b[0;31m\\\u001b[0m\u001b[0;34m\u001b[0m\u001b[0;34m\u001b[0m\u001b[0m\n\u001b[0m\u001b[1;32m    290\u001b[0m             \u001b[0;34m*\u001b[0m \u001b[0munbase_scale\u001b[0m \u001b[0;34m*\u001b[0m \u001b[0mpartial_scale\u001b[0m\u001b[0;34m\u001b[0m\u001b[0;34m\u001b[0m\u001b[0m\n\u001b[1;32m    291\u001b[0m         \u001b[0mptser\u001b[0m \u001b[0;34m=\u001b[0m \u001b[0mpartial_token_set_ratio\u001b[0m\u001b[0;34m(\u001b[0m\u001b[0mp1\u001b[0m\u001b[0;34m,\u001b[0m \u001b[0mp2\u001b[0m\u001b[0;34m,\u001b[0m \u001b[0mfull_process\u001b[0m\u001b[0;34m=\u001b[0m\u001b[0;32mFalse\u001b[0m\u001b[0;34m)\u001b[0m\u001b[0;31m \u001b[0m\u001b[0;31m\\\u001b[0m\u001b[0;34m\u001b[0m\u001b[0;34m\u001b[0m\u001b[0m\n",
      "\u001b[0;32m/Library/Frameworks/Python.framework/Versions/3.8/lib/python3.8/site-packages/fuzzywuzzy/fuzz.py\u001b[0m in \u001b[0;36mpartial_token_sort_ratio\u001b[0;34m(s1, s2, force_ascii, full_process)\u001b[0m\n\u001b[1;32m    110\u001b[0m     \u001b[0;36m0\u001b[0m \u001b[0;32mand\u001b[0m \u001b[0;36m100\u001b[0m \u001b[0mbut\u001b[0m \u001b[0msorting\u001b[0m \u001b[0mthe\u001b[0m \u001b[0mtoken\u001b[0m \u001b[0mbefore\u001b[0m \u001b[0mcomparing\u001b[0m\u001b[0;34m.\u001b[0m\u001b[0;34m\u001b[0m\u001b[0;34m\u001b[0m\u001b[0m\n\u001b[1;32m    111\u001b[0m     \"\"\"\n\u001b[0;32m--> 112\u001b[0;31m     \u001b[0;32mreturn\u001b[0m \u001b[0m_token_sort\u001b[0m\u001b[0;34m(\u001b[0m\u001b[0ms1\u001b[0m\u001b[0;34m,\u001b[0m \u001b[0ms2\u001b[0m\u001b[0;34m,\u001b[0m \u001b[0mpartial\u001b[0m\u001b[0;34m=\u001b[0m\u001b[0;32mTrue\u001b[0m\u001b[0;34m,\u001b[0m \u001b[0mforce_ascii\u001b[0m\u001b[0;34m=\u001b[0m\u001b[0mforce_ascii\u001b[0m\u001b[0;34m,\u001b[0m \u001b[0mfull_process\u001b[0m\u001b[0;34m=\u001b[0m\u001b[0mfull_process\u001b[0m\u001b[0;34m)\u001b[0m\u001b[0;34m\u001b[0m\u001b[0;34m\u001b[0m\u001b[0m\n\u001b[0m\u001b[1;32m    113\u001b[0m \u001b[0;34m\u001b[0m\u001b[0m\n\u001b[1;32m    114\u001b[0m \u001b[0;34m\u001b[0m\u001b[0m\n",
      "\u001b[0;32m/Library/Frameworks/Python.framework/Versions/3.8/lib/python3.8/site-packages/fuzzywuzzy/utils.py\u001b[0m in \u001b[0;36mdecorator\u001b[0;34m(*args, **kwargs)\u001b[0m\n\u001b[1;32m     36\u001b[0m         \u001b[0;32mif\u001b[0m \u001b[0margs\u001b[0m\u001b[0;34m[\u001b[0m\u001b[0;36m0\u001b[0m\u001b[0;34m]\u001b[0m \u001b[0;32mis\u001b[0m \u001b[0;32mNone\u001b[0m \u001b[0;32mor\u001b[0m \u001b[0margs\u001b[0m\u001b[0;34m[\u001b[0m\u001b[0;36m1\u001b[0m\u001b[0;34m]\u001b[0m \u001b[0;32mis\u001b[0m \u001b[0;32mNone\u001b[0m\u001b[0;34m:\u001b[0m\u001b[0;34m\u001b[0m\u001b[0;34m\u001b[0m\u001b[0m\n\u001b[1;32m     37\u001b[0m             \u001b[0;32mreturn\u001b[0m \u001b[0;36m0\u001b[0m\u001b[0;34m\u001b[0m\u001b[0;34m\u001b[0m\u001b[0m\n\u001b[0;32m---> 38\u001b[0;31m         \u001b[0;32mreturn\u001b[0m \u001b[0mfunc\u001b[0m\u001b[0;34m(\u001b[0m\u001b[0;34m*\u001b[0m\u001b[0margs\u001b[0m\u001b[0;34m,\u001b[0m \u001b[0;34m**\u001b[0m\u001b[0mkwargs\u001b[0m\u001b[0;34m)\u001b[0m\u001b[0;34m\u001b[0m\u001b[0;34m\u001b[0m\u001b[0m\n\u001b[0m\u001b[1;32m     39\u001b[0m     \u001b[0;32mreturn\u001b[0m \u001b[0mdecorator\u001b[0m\u001b[0;34m\u001b[0m\u001b[0;34m\u001b[0m\u001b[0m\n\u001b[1;32m     40\u001b[0m \u001b[0;34m\u001b[0m\u001b[0m\n",
      "\u001b[0;32m/Library/Frameworks/Python.framework/Versions/3.8/lib/python3.8/site-packages/fuzzywuzzy/fuzz.py\u001b[0m in \u001b[0;36m_token_sort\u001b[0;34m(s1, s2, partial, force_ascii, full_process)\u001b[0m\n\u001b[1;32m     94\u001b[0m \u001b[0;34m\u001b[0m\u001b[0m\n\u001b[1;32m     95\u001b[0m     \u001b[0;32mif\u001b[0m \u001b[0mpartial\u001b[0m\u001b[0;34m:\u001b[0m\u001b[0;34m\u001b[0m\u001b[0;34m\u001b[0m\u001b[0m\n\u001b[0;32m---> 96\u001b[0;31m         \u001b[0;32mreturn\u001b[0m \u001b[0mpartial_ratio\u001b[0m\u001b[0;34m(\u001b[0m\u001b[0msorted1\u001b[0m\u001b[0;34m,\u001b[0m \u001b[0msorted2\u001b[0m\u001b[0;34m)\u001b[0m\u001b[0;34m\u001b[0m\u001b[0;34m\u001b[0m\u001b[0m\n\u001b[0m\u001b[1;32m     97\u001b[0m     \u001b[0;32melse\u001b[0m\u001b[0;34m:\u001b[0m\u001b[0;34m\u001b[0m\u001b[0;34m\u001b[0m\u001b[0m\n\u001b[1;32m     98\u001b[0m         \u001b[0;32mreturn\u001b[0m \u001b[0mratio\u001b[0m\u001b[0;34m(\u001b[0m\u001b[0msorted1\u001b[0m\u001b[0;34m,\u001b[0m \u001b[0msorted2\u001b[0m\u001b[0;34m)\u001b[0m\u001b[0;34m\u001b[0m\u001b[0;34m\u001b[0m\u001b[0m\n",
      "\u001b[0;32m/Library/Frameworks/Python.framework/Versions/3.8/lib/python3.8/site-packages/fuzzywuzzy/utils.py\u001b[0m in \u001b[0;36mdecorator\u001b[0;34m(*args, **kwargs)\u001b[0m\n\u001b[1;32m     36\u001b[0m         \u001b[0;32mif\u001b[0m \u001b[0margs\u001b[0m\u001b[0;34m[\u001b[0m\u001b[0;36m0\u001b[0m\u001b[0;34m]\u001b[0m \u001b[0;32mis\u001b[0m \u001b[0;32mNone\u001b[0m \u001b[0;32mor\u001b[0m \u001b[0margs\u001b[0m\u001b[0;34m[\u001b[0m\u001b[0;36m1\u001b[0m\u001b[0;34m]\u001b[0m \u001b[0;32mis\u001b[0m \u001b[0;32mNone\u001b[0m\u001b[0;34m:\u001b[0m\u001b[0;34m\u001b[0m\u001b[0;34m\u001b[0m\u001b[0m\n\u001b[1;32m     37\u001b[0m             \u001b[0;32mreturn\u001b[0m \u001b[0;36m0\u001b[0m\u001b[0;34m\u001b[0m\u001b[0;34m\u001b[0m\u001b[0m\n\u001b[0;32m---> 38\u001b[0;31m         \u001b[0;32mreturn\u001b[0m \u001b[0mfunc\u001b[0m\u001b[0;34m(\u001b[0m\u001b[0;34m*\u001b[0m\u001b[0margs\u001b[0m\u001b[0;34m,\u001b[0m \u001b[0;34m**\u001b[0m\u001b[0mkwargs\u001b[0m\u001b[0;34m)\u001b[0m\u001b[0;34m\u001b[0m\u001b[0;34m\u001b[0m\u001b[0m\n\u001b[0m\u001b[1;32m     39\u001b[0m     \u001b[0;32mreturn\u001b[0m \u001b[0mdecorator\u001b[0m\u001b[0;34m\u001b[0m\u001b[0;34m\u001b[0m\u001b[0m\n\u001b[1;32m     40\u001b[0m \u001b[0;34m\u001b[0m\u001b[0m\n",
      "\u001b[0;32m/Library/Frameworks/Python.framework/Versions/3.8/lib/python3.8/site-packages/fuzzywuzzy/utils.py\u001b[0m in \u001b[0;36mdecorator\u001b[0;34m(*args, **kwargs)\u001b[0m\n\u001b[1;32m     27\u001b[0m         \u001b[0;32mif\u001b[0m \u001b[0margs\u001b[0m\u001b[0;34m[\u001b[0m\u001b[0;36m0\u001b[0m\u001b[0;34m]\u001b[0m \u001b[0;34m==\u001b[0m \u001b[0margs\u001b[0m\u001b[0;34m[\u001b[0m\u001b[0;36m1\u001b[0m\u001b[0;34m]\u001b[0m\u001b[0;34m:\u001b[0m\u001b[0;34m\u001b[0m\u001b[0;34m\u001b[0m\u001b[0m\n\u001b[1;32m     28\u001b[0m             \u001b[0;32mreturn\u001b[0m \u001b[0;36m100\u001b[0m\u001b[0;34m\u001b[0m\u001b[0;34m\u001b[0m\u001b[0m\n\u001b[0;32m---> 29\u001b[0;31m         \u001b[0;32mreturn\u001b[0m \u001b[0mfunc\u001b[0m\u001b[0;34m(\u001b[0m\u001b[0;34m*\u001b[0m\u001b[0margs\u001b[0m\u001b[0;34m,\u001b[0m \u001b[0;34m**\u001b[0m\u001b[0mkwargs\u001b[0m\u001b[0;34m)\u001b[0m\u001b[0;34m\u001b[0m\u001b[0;34m\u001b[0m\u001b[0m\n\u001b[0m\u001b[1;32m     30\u001b[0m     \u001b[0;32mreturn\u001b[0m \u001b[0mdecorator\u001b[0m\u001b[0;34m\u001b[0m\u001b[0;34m\u001b[0m\u001b[0m\n\u001b[1;32m     31\u001b[0m \u001b[0;34m\u001b[0m\u001b[0m\n",
      "\u001b[0;32m/Library/Frameworks/Python.framework/Versions/3.8/lib/python3.8/site-packages/fuzzywuzzy/utils.py\u001b[0m in \u001b[0;36mdecorator\u001b[0;34m(*args, **kwargs)\u001b[0m\n\u001b[1;32m     45\u001b[0m         \u001b[0;32mif\u001b[0m \u001b[0mlen\u001b[0m\u001b[0;34m(\u001b[0m\u001b[0margs\u001b[0m\u001b[0;34m[\u001b[0m\u001b[0;36m0\u001b[0m\u001b[0;34m]\u001b[0m\u001b[0;34m)\u001b[0m \u001b[0;34m==\u001b[0m \u001b[0;36m0\u001b[0m \u001b[0;32mor\u001b[0m \u001b[0mlen\u001b[0m\u001b[0;34m(\u001b[0m\u001b[0margs\u001b[0m\u001b[0;34m[\u001b[0m\u001b[0;36m1\u001b[0m\u001b[0;34m]\u001b[0m\u001b[0;34m)\u001b[0m \u001b[0;34m==\u001b[0m \u001b[0;36m0\u001b[0m\u001b[0;34m:\u001b[0m\u001b[0;34m\u001b[0m\u001b[0;34m\u001b[0m\u001b[0m\n\u001b[1;32m     46\u001b[0m             \u001b[0;32mreturn\u001b[0m \u001b[0;36m0\u001b[0m\u001b[0;34m\u001b[0m\u001b[0;34m\u001b[0m\u001b[0m\n\u001b[0;32m---> 47\u001b[0;31m         \u001b[0;32mreturn\u001b[0m \u001b[0mfunc\u001b[0m\u001b[0;34m(\u001b[0m\u001b[0;34m*\u001b[0m\u001b[0margs\u001b[0m\u001b[0;34m,\u001b[0m \u001b[0;34m**\u001b[0m\u001b[0mkwargs\u001b[0m\u001b[0;34m)\u001b[0m\u001b[0;34m\u001b[0m\u001b[0;34m\u001b[0m\u001b[0m\n\u001b[0m\u001b[1;32m     48\u001b[0m     \u001b[0;32mreturn\u001b[0m \u001b[0mdecorator\u001b[0m\u001b[0;34m\u001b[0m\u001b[0;34m\u001b[0m\u001b[0m\n\u001b[1;32m     49\u001b[0m \u001b[0;34m\u001b[0m\u001b[0m\n",
      "\u001b[0;32m/Library/Frameworks/Python.framework/Versions/3.8/lib/python3.8/site-packages/fuzzywuzzy/fuzz.py\u001b[0m in \u001b[0;36mpartial_ratio\u001b[0;34m(s1, s2)\u001b[0m\n\u001b[1;32m     60\u001b[0m \u001b[0;34m\u001b[0m\u001b[0m\n\u001b[1;32m     61\u001b[0m         \u001b[0mm2\u001b[0m \u001b[0;34m=\u001b[0m \u001b[0mSequenceMatcher\u001b[0m\u001b[0;34m(\u001b[0m\u001b[0;32mNone\u001b[0m\u001b[0;34m,\u001b[0m \u001b[0mshorter\u001b[0m\u001b[0;34m,\u001b[0m \u001b[0mlong_substr\u001b[0m\u001b[0;34m)\u001b[0m\u001b[0;34m\u001b[0m\u001b[0;34m\u001b[0m\u001b[0m\n\u001b[0;32m---> 62\u001b[0;31m         \u001b[0mr\u001b[0m \u001b[0;34m=\u001b[0m \u001b[0mm2\u001b[0m\u001b[0;34m.\u001b[0m\u001b[0mratio\u001b[0m\u001b[0;34m(\u001b[0m\u001b[0;34m)\u001b[0m\u001b[0;34m\u001b[0m\u001b[0;34m\u001b[0m\u001b[0m\n\u001b[0m\u001b[1;32m     63\u001b[0m         \u001b[0;32mif\u001b[0m \u001b[0mr\u001b[0m \u001b[0;34m>\u001b[0m \u001b[0;36m.995\u001b[0m\u001b[0;34m:\u001b[0m\u001b[0;34m\u001b[0m\u001b[0;34m\u001b[0m\u001b[0m\n\u001b[1;32m     64\u001b[0m             \u001b[0;32mreturn\u001b[0m \u001b[0;36m100\u001b[0m\u001b[0;34m\u001b[0m\u001b[0;34m\u001b[0m\u001b[0m\n",
      "\u001b[0;32m/Library/Frameworks/Python.framework/Versions/3.8/lib/python3.8/site-packages/fuzzywuzzy/StringMatcher.py\u001b[0m in \u001b[0;36mratio\u001b[0;34m(self)\u001b[0m\n\u001b[1;32m     62\u001b[0m     \u001b[0;32mdef\u001b[0m \u001b[0mratio\u001b[0m\u001b[0;34m(\u001b[0m\u001b[0mself\u001b[0m\u001b[0;34m)\u001b[0m\u001b[0;34m:\u001b[0m\u001b[0;34m\u001b[0m\u001b[0;34m\u001b[0m\u001b[0m\n\u001b[1;32m     63\u001b[0m         \u001b[0;32mif\u001b[0m \u001b[0;32mnot\u001b[0m \u001b[0mself\u001b[0m\u001b[0;34m.\u001b[0m\u001b[0m_ratio\u001b[0m\u001b[0;34m:\u001b[0m\u001b[0;34m\u001b[0m\u001b[0;34m\u001b[0m\u001b[0m\n\u001b[0;32m---> 64\u001b[0;31m             \u001b[0mself\u001b[0m\u001b[0;34m.\u001b[0m\u001b[0m_ratio\u001b[0m \u001b[0;34m=\u001b[0m \u001b[0mratio\u001b[0m\u001b[0;34m(\u001b[0m\u001b[0mself\u001b[0m\u001b[0;34m.\u001b[0m\u001b[0m_str1\u001b[0m\u001b[0;34m,\u001b[0m \u001b[0mself\u001b[0m\u001b[0;34m.\u001b[0m\u001b[0m_str2\u001b[0m\u001b[0;34m)\u001b[0m\u001b[0;34m\u001b[0m\u001b[0;34m\u001b[0m\u001b[0m\n\u001b[0m\u001b[1;32m     65\u001b[0m         \u001b[0;32mreturn\u001b[0m \u001b[0mself\u001b[0m\u001b[0;34m.\u001b[0m\u001b[0m_ratio\u001b[0m\u001b[0;34m\u001b[0m\u001b[0;34m\u001b[0m\u001b[0m\n\u001b[1;32m     66\u001b[0m \u001b[0;34m\u001b[0m\u001b[0m\n",
      "\u001b[0;31mKeyboardInterrupt\u001b[0m: "
     ]
    }
   ],
   "source": [
    "match_out = match_data_function(latam, data_posts)"
   ]
  },
  {
   "cell_type": "code",
   "execution_count": 68,
   "metadata": {
    "scrolled": true
   },
   "outputs": [],
   "source": []
  },
  {
   "cell_type": "code",
   "execution_count": null,
   "metadata": {},
   "outputs": [],
   "source": []
  },
  {
   "cell_type": "code",
   "execution_count": null,
   "metadata": {},
   "outputs": [],
   "source": []
  },
  {
   "cell_type": "markdown",
   "metadata": {},
   "source": [
    "## Save Data"
   ]
  },
  {
   "cell_type": "code",
   "execution_count": 91,
   "metadata": {},
   "outputs": [],
   "source": [
    "all_data.to_excel('/Users/cblanesg/misinformation_socialmedia/data/1-factechecks/0-factchecks/factchecks.xlsx')"
   ]
  }
 ],
 "metadata": {
  "kernelspec": {
   "display_name": "Python 3",
   "language": "python",
   "name": "python3"
  },
  "language_info": {
   "codemirror_mode": {
    "name": "ipython",
    "version": 3
   },
   "file_extension": ".py",
   "mimetype": "text/x-python",
   "name": "python",
   "nbconvert_exporter": "python",
   "pygments_lexer": "ipython3",
   "version": "3.8.3"
  }
 },
 "nbformat": 4,
 "nbformat_minor": 4
}
